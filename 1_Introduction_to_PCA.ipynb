{
 "cells": [
  {
   "cell_type": "markdown",
   "metadata": {
    "colab_type": "text",
    "id": "TpnOn58EgfaE"
   },
   "source": [
    "## CCNSS 2018 Module 4: High dimensional representations and neural dynamics\n",
    "# Tutorial 1: Introduction to PCA\n",
    "\n",
    "[source](https://colab.research.google.com/drive/1a8zZUbLyTFHq6mV568uV5JVk1ItPhjs_)"
   ]
  },
  {
   "cell_type": "markdown",
   "metadata": {
    "colab_type": "text",
    "id": "hi2UOXjigfaF"
   },
   "source": [
    "*Please execute the cell bellow in order to initialize the notebook environment*"
   ]
  },
  {
   "cell_type": "code",
   "execution_count": 1,
   "metadata": {
    "colab": {
     "autoexec": {
      "startup": false,
      "wait_interval": 0
     }
    },
    "colab_type": "code",
    "id": "nJgJVfSugfaG"
   },
   "outputs": [],
   "source": [
    "import matplotlib.pyplot as plt    # import matplotlib\n",
    "import numpy as np                 # import numpy\n",
    "import math                        # import basic math functions\n",
    "import random                      # import basic random number generator functions\n",
    "\n",
    "fig_w, fig_h = (6, 4)\n",
    "plt.rcParams.update({'figure.figsize': (fig_w, fig_h)})"
   ]
  },
  {
   "cell_type": "markdown",
   "metadata": {
    "colab_type": "text",
    "id": "UwXIfh1Y9j66"
   },
   "source": [
    "# Objectives\n",
    "\n",
    "In this notebook we will examine the mathematical and computational aspects of  Principal Component Analysis (PCA). Following up on the mathematical tutorial (chalk talk), we will implement the PCA algorithm via the (data) covariance matrix. We will introduce the relationship between the eigenvalues of the covariance matrix and the variance of the data and how we can use this to approximate the dimension of the subspace where the data resides.  "
   ]
  },
  {
   "cell_type": "markdown",
   "metadata": {
    "colab_type": "text",
    "id": "HU7L6JxVgfaK"
   },
   "source": [
    "## Background\n",
    "\n",
    "PCA as used in data analysis is a method to qualitatively understand the structure of data. This data could come from neural recordings, e.g., spike count data for a set of $M$ neurons. It might be possible to represent the data more compactly via $k<M$ so-called latent variables. \n",
    "\n",
    "In this first tutorial, we will try to develop an intuitive understanding of the topics developed during the mathematical tutorial and the lecture on dimensionality reduction. \n",
    "\n",
    "\n",
    "We will carry out several steps to examine PCA in mock data:\n",
    "\n",
    "* Construct the covariance matrix from a two-dimensional mock data set\n",
    "* Calculate eigenvalues and eigenvectors (principal components of the covariance matrix)\n",
    "* Visualize the data in two dimensions and its reduction to  one dimension \n"
   ]
  },
  {
   "cell_type": "markdown",
   "metadata": {
    "colab_type": "text",
    "id": "L58fdqcNgfaM"
   },
   "source": [
    "**EXERCISE 1**\n",
    "\n",
    " Given 8 data points x_n, where n = 2 is the dimension of the data set, we construct a the data matrix X of size 8x2 \n",
    "\n",
    "• Plot each data point x_n as a black dot in a two-dimensional space.\n",
    "\n",
    "• Plot the mean of the data µ as a green point.\n",
    "\n"
   ]
  },
  {
   "cell_type": "code",
   "execution_count": 25,
   "metadata": {
    "colab": {
     "autoexec": {
      "startup": false,
      "wait_interval": 0
     }
    },
    "colab_type": "code",
    "id": "71-kNPxO95Wv"
   },
   "outputs": [
    {
     "data": {
      "text/plain": [
       "[<matplotlib.lines.Line2D at 0x11f8c58d0>]"
      ]
     },
     "execution_count": 25,
     "metadata": {},
     "output_type": "execute_result"
    },
    {
     "data": {
      "image/png": "[encoded data removed]",
      "text/plain": [
       "<Figure size 432x288 with 1 Axes>"
      ]
     },
     "metadata": {},
     "output_type": "display_data"
    }
   ],
   "source": [
    "np.random.seed(8)\n",
    "X = np.random.random((8,2))\n",
    "#Insert your code here\n",
    "plt.plot(X[:,0], X[:,1], 'k.')\n",
    "plt.plot(np.mean(X[:,0]), np.mean(X[:,1]), 'g.')"
   ]
  },
  {
   "cell_type": "markdown",
   "metadata": {
    "colab_type": "text",
    "id": "DZZqT2DsgfaQ"
   },
   "source": [
    "**EXPECTED OUTPUT**\n",
    "\n",
    "![](https://github.com/ccnss/ccnss2018_students/raw/master/module4/1_pca/figures/Mod4T1E1.png)"
   ]
  },
  {
   "cell_type": "markdown",
   "metadata": {
    "colab_type": "text",
    "id": "LC56amWvgfaZ"
   },
   "source": [
    "**EXERCISE 2**\n",
    "\n",
    "Given the data matrix X, construct the covariance matrix Y by\n",
    "- removing the mean from each column of the matrix thus forming a matrix $X^*$ with zero mean\n",
    "- constructing the covariance matrix $Y~=X^{*T}X^*$, where T is the transpose of a matrix. \n",
    "\n",
    "Make a function that calculates the covariance matrix given the data matrix and print the output. \n"
   ]
  },
  {
   "cell_type": "code",
   "execution_count": 26,
   "metadata": {
    "colab": {
     "autoexec": {
      "startup": false,
      "wait_interval": 0
     }
    },
    "colab_type": "code",
    "id": "cjyP6QmL-KVE"
   },
   "outputs": [
    {
     "name": "stdout",
     "output_type": "stream",
     "text": [
      "[[1.]\n",
      " [1.]\n",
      " [1.]\n",
      " [1.]\n",
      " [1.]\n",
      " [1.]\n",
      " [1.]\n",
      " [1.]]\n",
      "[[0.60805374 0.50917383]]\n",
      "[[0.60805374 0.50917383]\n",
      " [0.60805374 0.50917383]\n",
      " [0.60805374 0.50917383]\n",
      " [0.60805374 0.50917383]\n",
      " [0.60805374 0.50917383]\n",
      " [0.60805374 0.50917383]\n",
      " [0.60805374 0.50917383]\n",
      " [0.60805374 0.50917383]]\n",
      "[6.93889390e-17 1.38777878e-17]\n",
      "[[0.04307335 0.04553515]\n",
      " [0.04553515 0.06512377]]\n"
     ]
    }
   ],
   "source": [
    "# insert your code here\n",
    "#x_centered = X - np.dot(np.ones((X.shape[0], 1), np.mean(X, 0, keepdims=True)))\n",
    "\n",
    "print(np.ones((X.shape[0], 1)))\n",
    "print(np.mean(X, 0, keepdims=True))\n",
    "print(np.dot(np.ones((X.shape[0], 1)), np.mean(X, 0, keepdims=True)))\n",
    "\n",
    "x_centered = X - np.dot(np.ones((X.shape[0], 1)), np.mean(X, 0, keepdims=True))\n",
    "print(np.mean(x_centered, 0))\n",
    "C = np.dot(np.transpose(x_centered), x_centered)/X.shape[0]\n",
    "print(C)"
   ]
  },
  {
   "cell_type": "markdown",
   "metadata": {
    "colab_type": "text",
    "id": "AKwwmpd-Qay-"
   },
   "source": [
    "**EXPECTED OUTPUT**\n",
    "```\n",
    "\n",
    "Y (cov matrix) = [[0.04307335 0.04553515]\n",
    " [0.04553515 0.06512377]]\n",
    " ```\n"
   ]
  },
  {
   "cell_type": "markdown",
   "metadata": {
    "colab_type": "text",
    "id": "KyeKc1R2QlVL"
   },
   "source": [
    "**EXERCISE 3**\n",
    "\n",
    "Recall that an eigenvalue of a matrix $A$ is a number $\\alpha$ such that,  the following relationship holds: $$ Ay = \\alpha y,$$ where $y$ is the eigenvector of the matrix $A$.\n",
    "\n",
    "In this exercise we will calculate the eigenvalues and eigenvectors of the covariance matrix $Y$ using the function np.linalg.eig, which gives you the eigenvalues and eigenvectors as:\n",
    "(eigVal, eigVect) = np.linalg.eig(Y), where eigVal are the eigenvalues, eigVect are the eigenvectors, and $Y$ is the covariance matrix.   Print the output eigenvalues and eigenvectors. Check that the trace of your covariance matrix is equal to the sum of the eigenvalues. \n",
    "\n"
   ]
  },
  {
   "cell_type": "code",
   "execution_count": 35,
   "metadata": {
    "colab": {
     "autoexec": {
      "startup": false,
      "wait_interval": 0
     }
    },
    "colab_type": "code",
    "id": "kwRAth---pQb"
   },
   "outputs": [
    {
     "name": "stdout",
     "output_type": "stream",
     "text": [
      "[0.00724768 0.10094944]\n",
      "[[-0.78591528 -0.6183342 ]\n",
      " [ 0.6183342  -0.78591528]]\n",
      "[-0.00569606  0.00448149]\n",
      "[-0.00569606  0.00448149]\n"
     ]
    }
   ],
   "source": [
    "# insert your code here\n",
    "eigVal, eigVec = np.linalg.eig(C)\n",
    "print(eigVal)\n",
    "print(eigVec)\n",
    "\n",
    "print(np.dot(eigVal[0], eigVec[:,0]))\n",
    "print(np.dot(C, eigVec[:,0]))"
   ]
  },
  {
   "cell_type": "markdown",
   "metadata": {
    "colab_type": "text",
    "id": "8s5AIgBf5cWQ"
   },
   "source": [
    "**EXPECTED OUTPUT**\n",
    "```\n",
    "\n",
    "eigenval =  [0.00724768 0.10094944]\n",
    "eigenvec =  [[-0.78591528 -0.6183342 ]\n",
    " [ 0.6183342  -0.78591528]]\n",
    " \n",
    " ```\n"
   ]
  },
  {
   "cell_type": "markdown",
   "metadata": {
    "colab_type": "text",
    "id": "4rzQZNTxw2fx"
   },
   "source": [
    "**EXERCISE 4**\n",
    "\n",
    "Print the first PC and plot the PC space spanned by the first principal component (a line), on top of the data points plot. **Hint:**  The principal component, i.e., the first eigenvector gives you the direction, but you must provide the offset: the line must pass through the green point"
   ]
  },
  {
   "cell_type": "code",
   "execution_count": 36,
   "metadata": {
    "colab": {
     "autoexec": {
      "startup": false,
      "wait_interval": 0
     }
    },
    "colab_type": "code",
    "id": "92x4OyIP-6bQ"
   },
   "outputs": [
    {
     "data": {
      "text/plain": [
       "[<matplotlib.lines.Line2D at 0x12039e588>]"
      ]
     },
     "execution_count": 36,
     "metadata": {},
     "output_type": "execute_result"
    },
    {
     "data": {
      "image/png": "[encoded data removed]",
      "text/plain": [
       "<Figure size 432x288 with 1 Axes>"
      ]
     },
     "metadata": {},
     "output_type": "display_data"
    }
   ],
   "source": [
    "# insert your code here\n",
    "plt.plot(X[:,0], X[:,1], 'k.')\n",
    "x = np.arange(0, 1, 0.01)\n",
    "offset = np.mean(X[:,1]) - np.mean(X[:,0]) /eigVec[0,1]*eigVec[1,1]\n",
    "y = x/eigVec[0,1]*eigVec[1,1] + offset\n",
    "plt.plot(x, y)"
   ]
  },
  {
   "cell_type": "markdown",
   "metadata": {
    "colab_type": "text",
    "id": "_DX9NfX08li3"
   },
   "source": [
    "**EXPECTED OUTPUT**\n",
    "\n",
    "\n",
    "```\n",
    "PC_1 = [-0.6183342  -0.78591528]\n",
    "\n",
    "```\n",
    "![](https://github.com/ccnss/ccnss2018_students/raw/master/module4/1_pca/figures/Mod4T1E4.png)\n"
   ]
  },
  {
   "cell_type": "markdown",
   "metadata": {
    "colab_type": "text",
    "id": "c7toa-5P9RQo"
   },
   "source": [
    "- Plot the other (second) eigenvector. In what direction do you anticipate the other eigenvector to be?\n"
   ]
  },
  {
   "cell_type": "code",
   "execution_count": 70,
   "metadata": {
    "colab": {
     "autoexec": {
      "startup": false,
      "wait_interval": 0
     }
    },
    "colab_type": "code",
    "id": "KyLp3F7lEx57"
   },
   "outputs": [
    {
     "data": {
      "text/plain": [
       "[<matplotlib.lines.Line2D at 0x1214fdcf8>]"
      ]
     },
     "execution_count": 70,
     "metadata": {},
     "output_type": "execute_result"
    },
    {
     "data": {
      "image/png": "[encoded data removed]",
      "text/plain": [
       "<Figure size 432x288 with 1 Axes>"
      ]
     },
     "metadata": {},
     "output_type": "display_data"
    }
   ],
   "source": [
    "# insert your code here\n",
    "plt.plot(X[:,0], X[:,1], 'k.')\n",
    "x = np.arange(0, 1, 0.01)\n",
    "offset = np.mean(X[:,1]) - np.mean(X[:,0]) /eigVec[0,1]*eigVec[1,1]\n",
    "y = x/eigVec[0,1]*eigVec[1,1] + offset\n",
    "plt.plot(x, y)\n",
    "\n",
    "offset2 = np.mean(X[:,1]) - np.mean(X[:,0]) /eigVec[0,0]*eigVec[1,0]\n",
    "y2 = x/eigVec[0,0]*eigVec[1,0] + offset2\n",
    "plt.axis('equal')\n",
    "plt.plot(x, y2)\n"
   ]
  },
  {
   "cell_type": "markdown",
   "metadata": {
    "colab_type": "text",
    "id": "PuKoDPMUBFQp"
   },
   "source": [
    "**EXPECTED OUTPUT**\n",
    "\n",
    "\n",
    "![](https://github.com/ccnss/ccnss2018_students/raw/master/module4/1_pca/figures/Mod4T1E4c.png)\n",
    "\n"
   ]
  },
  {
   "cell_type": "markdown",
   "metadata": {
    "colab_type": "text",
    "id": "tiXaZvGj4vG2"
   },
   "source": [
    "\n",
    "**EXERCISE 5**\n",
    "\n",
    "- Project each data point onto the first PC, and plot each projected data point\n",
    "as a red dot. (Hint: The projected points should lie on the principal component line.)\n"
   ]
  },
  {
   "cell_type": "code",
   "execution_count": 55,
   "metadata": {
    "colab": {
     "autoexec": {
      "startup": false,
      "wait_interval": 0
     }
    },
    "colab_type": "code",
    "id": "G--C7_4yE1Pa"
   },
   "outputs": [
    {
     "name": "stdout",
     "output_type": "stream",
     "text": [
      "1.0\n",
      "[-1.30126217 -0.95466031 -0.15286238 -0.58238767 -0.69916304 -0.77045127\n",
      " -1.03035381 -0.71804266]\n",
      "xx\n",
      "[0.6183342  0.78591528]\n",
      "1.4042494727139991\n",
      "-0.8682954691775685\n"
     ]
    },
    {
     "data": {
      "text/plain": [
       "[<matplotlib.lines.Line2D at 0x120f77a90>]"
      ]
     },
     "execution_count": 55,
     "metadata": {},
     "output_type": "execute_result"
    },
    {
     "data": {
      "image/png": "[encoded data removed]",
      "text/plain": [
       "<Figure size 432x288 with 1 Axes>"
      ]
     },
     "metadata": {},
     "output_type": "display_data"
    }
   ],
   "source": [
    "# insert your code here\n",
    "plt.plot(X[:,0], X[:,1], 'k.')\n",
    "x = np.arange(0, 1, 0.01)\n",
    "offset = np.mean(X[:,1]) - np.mean(X[:,0]) /eigVec[0,1]*eigVec[1,1]\n",
    "y = x/eigVec[0,1]*eigVec[1,1] + offset\n",
    "plt.plot(x, y)\n",
    "\n",
    "print(eigVec[0,1]**2 + eigVec[1,1]**2)\n",
    "print(np.dot(X, eigVec[:,1]))\n",
    "print('xx')\n",
    "print(-eigVec[:,1])\n",
    "print(np.dot(np.array([1,1]), -eigVec[:,1]))\n",
    "print(np.dot(np.array([1,1]), -eigVec[:,1])* eigVec[0,1])\n",
    "\n",
    "x_proj = np.dot(x_centered, eigVec[:,1])*eigVec[0,1] + np.mean(X[:,0])\n",
    "y_proj = np.dot(x_centered, eigVec[:,1])*eigVec[1,1] + np.mean(X[:,1])\n",
    "\n",
    "plt.axis('equal')\n",
    "plt.plot(x_proj, y_proj, 'r.')\n",
    "\n"
   ]
  },
  {
   "cell_type": "markdown",
   "metadata": {
    "colab_type": "text",
    "id": "b7DnmglDi0rC"
   },
   "source": [
    "**EXPECTED OUTPUT**\n",
    "\n",
    "![](https://github.com/ccnss/ccnss2018_students/raw/master/module4/1_pca/figures/Mod4T1E5.png)\n"
   ]
  },
  {
   "cell_type": "markdown",
   "metadata": {
    "colab_type": "text",
    "id": "9X6Te5LQPf-p"
   },
   "source": [
    "\n",
    "- Plot line segments between the datapoints and their projections. Check that such segments are orthogonal to the PC space spanned by the principal components. "
   ]
  },
  {
   "cell_type": "code",
   "execution_count": 63,
   "metadata": {
    "colab": {
     "autoexec": {
      "startup": false,
      "wait_interval": 0
     }
    },
    "colab_type": "code",
    "id": "dbvKeAorE3CC"
   },
   "outputs": [
    {
     "name": "stdout",
     "output_type": "stream",
     "text": [
      "1.0\n",
      "[-1.30126217 -0.95466031 -0.15286238 -0.58238767 -0.69916304 -0.77045127\n",
      " -1.03035381 -0.71804266]\n",
      "xx\n",
      "[0.6183342  0.78591528]\n",
      "1.4042494727139991\n",
      "-0.8682954691775685\n"
     ]
    },
    {
     "data": {
      "image/png": "[encoded data removed]",
      "text/plain": [
       "<Figure size 432x288 with 1 Axes>"
      ]
     },
     "metadata": {},
     "output_type": "display_data"
    }
   ],
   "source": [
    "# insert your code here\n",
    "plt.plot(X[:,0], X[:,1], 'k.')\n",
    "x = np.arange(0, 1, 0.01)\n",
    "offset = np.mean(X[:,1]) - np.mean(X[:,0]) /eigVec[0,1]*eigVec[1,1]\n",
    "y = x/eigVec[0,1]*eigVec[1,1] + offset\n",
    "plt.plot(x, y)\n",
    "\n",
    "print(eigVec[0,1]**2 + eigVec[1,1]**2)\n",
    "print(np.dot(X, eigVec[:,1]))\n",
    "print('xx')\n",
    "print(-eigVec[:,1])\n",
    "print(np.dot(np.array([1,1]), -eigVec[:,1]))\n",
    "print(np.dot(np.array([1,1]), -eigVec[:,1])* eigVec[0,1])\n",
    "\n",
    "x_proj = np.dot(x_centered, eigVec[:,1])*eigVec[0,1] + np.mean(X[:,0])\n",
    "y_proj = np.dot(x_centered, eigVec[:,1])*eigVec[1,1] + np.mean(X[:,1])\n",
    "\n",
    "plt.axis('equal')\n",
    "plt.plot(x_proj, y_proj, 'r.')\n",
    "\n",
    "for i in range(X.shape[0]):\n",
    "    plt.plot(np.array([X[i,0],x_proj[i]]), np.array([X[i,1], y_proj[i]]), 'r')"
   ]
  },
  {
   "cell_type": "markdown",
   "metadata": {
    "colab_type": "text",
    "id": "3Bu1NxetiyWx"
   },
   "source": [
    "**EXPECTED OUTPUT**\n",
    "\n",
    "![](https://github.com/ccnss/ccnss2018_students/raw/master/module4/1_pca/figures/Mod4T1E5b.png)\n"
   ]
  },
  {
   "cell_type": "markdown",
   "metadata": {
    "colab_type": "text",
    "id": "NFquJZ3cib0_"
   },
   "source": [
    " - Calculate the variance of the projections of the data matrix along the principal component. What is the relationship between this number and the eigenvalues previously calculated? "
   ]
  },
  {
   "cell_type": "code",
   "execution_count": 69,
   "metadata": {
    "colab": {
     "autoexec": {
      "startup": false,
      "wait_interval": 0
     }
    },
    "colab_type": "code",
    "id": "U8TIJj3aE6nX"
   },
   "outputs": [
    {
     "name": "stdout",
     "output_type": "stream",
     "text": [
      "1.0\n",
      "[-1.30126217 -0.95466031 -0.15286238 -0.58238767 -0.69916304 -0.77045127\n",
      " -1.03035381 -0.71804266]\n",
      "xx\n",
      "[0.6183342  0.78591528]\n",
      "1.4042494727139991\n",
      "-0.8682954691775685\n",
      "[-0.52511426 -0.17851239  0.62328554  0.19376024  0.07698487  0.00569664\n",
      " -0.2542059   0.05810525]\n",
      "0.10094944117143889\n"
     ]
    },
    {
     "data": {
      "image/png": "[encoded data removed]",
      "text/plain": [
       "<Figure size 432x288 with 1 Axes>"
      ]
     },
     "metadata": {},
     "output_type": "display_data"
    }
   ],
   "source": [
    "# insert your code here\n",
    "plt.plot(X[:,0], X[:,1], 'k.')\n",
    "x = np.arange(0, 1, 0.01)\n",
    "offset = np.mean(X[:,1]) - np.mean(X[:,0]) /eigVec[0,1]*eigVec[1,1]\n",
    "y = x/eigVec[0,1]*eigVec[1,1] + offset\n",
    "plt.plot(x, y)\n",
    "\n",
    "print(eigVec[0,1]**2 + eigVec[1,1]**2)\n",
    "print(np.dot(X, eigVec[:,1]))\n",
    "print('xx')\n",
    "print(-eigVec[:,1])\n",
    "print(np.dot(np.array([1,1]), -eigVec[:,1]))\n",
    "print(np.dot(np.array([1,1]), -eigVec[:,1])* eigVec[0,1])\n",
    "\n",
    "x_proj = np.dot(x_centered, eigVec[:,1])*eigVec[0,1] + np.mean(X[:,0])\n",
    "y_proj = np.dot(x_centered, eigVec[:,1])*eigVec[1,1] + np.mean(X[:,1])\n",
    "\n",
    "plt.axis('equal')\n",
    "plt.plot(x_proj, y_proj, 'r.')\n",
    "\n",
    "for i in range(X.shape[0]):\n",
    "    plt.plot(np.array([X[i,0],x_proj[i]]), np.array([X[i,1], y_proj[i]]), 'r')\n",
    "    \n",
    "    \n",
    "print(np.dot(x_centered, eigVec[:,1]))\n",
    "print(np.var(np.dot(x_centered, eigVec[:,1])))"
   ]
  },
  {
   "cell_type": "markdown",
   "metadata": {
    "colab_type": "text",
    "id": "-cx_yDwciwJf"
   },
   "source": [
    "**EXPECTED OUTPUT**\n",
    "```\n",
    "var =  0.10094944117143889\n",
    "```"
   ]
  },
  {
   "cell_type": "markdown",
   "metadata": {
    "colab_type": "text",
    "id": "l293mhBiTj8l"
   },
   "source": [
    "BONUS: In exercise 4 you plotted the two eigenvectors/lines. How would you scale the length of these eigenvectors so that they are more informative with respect to the variance they capture?"
   ]
  },
  {
   "cell_type": "code",
   "execution_count": 0,
   "metadata": {
    "colab": {
     "autoexec": {
      "startup": false,
      "wait_interval": 0
     }
    },
    "colab_type": "code",
    "id": "Q0QLbkeRUTHd"
   },
   "outputs": [],
   "source": []
  }
 ],
 "metadata": {
  "accelerator": "GPU",
  "colab": {
   "collapsed_sections": [],
   "default_view": {},
   "name": "1_Introduction to PCA",
   "provenance": [
    {
     "file_id": "1f0fDwkmvyFC_2ZPTL9vQgIm_UaUeTxAc",
     "timestamp": 1524738812951
    }
   ],
   "version": "0.3.2",
   "views": {}
  },
  "kernelspec": {
   "display_name": "Python 3",
   "language": "python",
   "name": "python3"
  },
  "language_info": {
   "codemirror_mode": {
    "name": "ipython",
    "version": 3
   },
   "file_extension": ".py",
   "mimetype": "text/x-python",
   "name": "python",
   "nbconvert_exporter": "python",
   "pygments_lexer": "ipython3",
   "version": "3.6.5"
  }
 },
 "nbformat": 4,
 "nbformat_minor": 1
}
