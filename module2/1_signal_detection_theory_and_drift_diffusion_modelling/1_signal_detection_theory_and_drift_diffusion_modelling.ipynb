{
 "cells": [
  {
   "cell_type": "markdown",
   "metadata": {
    "colab_type": "text",
    "id": "bPdg2raoWEPt"
   },
   "source": [
    "## CCNSSS 2018 Module 2: Perceptual inference and motor control\n",
    "\n",
    "#  Tutorial 1 : Signal Detection Theory & Drift Diffusion Modelling"
   ]
  },
  {
   "cell_type": "markdown",
   "metadata": {
    "colab_type": "text",
    "id": "gJJeTr_lYty5"
   },
   "source": [
    "*Please execute the cell bellow to initialize the notebook environment*"
   ]
  },
  {
   "cell_type": "code",
   "execution_count": 1,
   "metadata": {
    "colab": {
     "autoexec": {
      "startup": false,
      "wait_interval": 0
     }
    },
    "colab_type": "code",
    "id": "VIM0W3fjYty5"
   },
   "outputs": [],
   "source": [
    "import matplotlib.pyplot as plt    # import matplotlib\n",
    "import numpy as np                 # import numpy\n",
    "import scipy as sp                 # import scipy\n",
    "import scipy.stats\n",
    "import math                        # import basic math functions\n",
    "import random                      # import basic random number generator functions\n",
    "\n",
    "fig_w, fig_h = (6, 4)\n",
    "plt.rcParams.update({'figure.figsize': (fig_w, fig_h)})\n",
    "plt.style.use('ggplot')\n",
    "\n",
    "!if [ ! -f ddm.py ]; then git clone https://github.com/ccnss/ccnss2018_students; \\\n",
    "                        cp -f ccnss2018_students/module2/1_signal_detection_theory_and_drift_diffusion_modelling/ddm.py ./; fi"
   ]
  },
  {
   "cell_type": "markdown",
   "metadata": {
    "colab_type": "text",
    "id": "0bAuoi_2WMs0"
   },
   "source": [
    "---\n",
    "\n",
    "\n",
    "## Objectives\n",
    "\n",
    "\n",
    "In this notebook we'll look at *Signal Detection Theory (SDT)* and implement a *Drift diffusion model (DDM)* to simulate some data.\n",
    "\n",
    "SDT:\n",
    "\n",
    "- use random distributions in Python\n",
    "- visualize data in Python\n",
    "- practice $d'$ sensitivity analysis on mock data\n",
    "- practice Receiver Operating Characteristic (ROC) analysis on mock data\n",
    "\n",
    "DDM:\n",
    "\n",
    "\n",
    "- What do reaction time distributions look like?\n",
    "- How do distributions for correct and incorrect trials differ?\n",
    "- How can these properties be understood in terms of the Drift Diffusion Model?\n",
    "- simulate the Drift Diffusion Model\n",
    "\n",
    "---\n",
    "\n"
   ]
  },
  {
   "cell_type": "markdown",
   "metadata": {
    "colab_type": "text",
    "id": "SmSPDGW4Yty8"
   },
   "source": [
    "## Background (SDT)\n",
    "\n",
    "Signal detection theory (SDT) is used when we want to measure the way we make decisions under conditions of uncertainty (for example: how well would we detect the presence of a car in front of us, while driving under foggy conditions). \n",
    "\n",
    "SDT assumes that the decision maker is not a passive receiver of information, but an active decision-maker who makes difficult perceptual judgments under conditions of uncertainty. \n",
    "\n",
    "Let's take an example: Imgine we are in foggy circumstances, and we are forced to decide whether there is an object in front of us based solely on visual stimulus (which is impaired by the fog). The density of the fog makes detecting a car in front of us more difficult (and is a function of your distance from the car and the fog density). \n",
    "\n",
    "Signal Detection Theory can be applied to a data set where stimuli is either present or absent (e.g. stim = car, or no_car), and the observer responds to each trial based on whether he/she detects the stimulus as 'present' or 'absent' (detect=car, or no_car). These tasks are also known as 2-Alternative Forced Choice tasks (2-AFC for short). In such tasks, the trials can be sorted into one of four categories:\n",
    "\n",
    "![](https://github.com/ccnss/ccnss2018_students/raw/master/module2/1_signal_detection_theory_and_drift_diffusion_modelling/figures/2AFC_table.png)\n",
    "\n",
    "\n",
    "Signal detection theory is a means to quantify the ability to differentiate between valid information (signal) and noise. Multiple measures can be extracted using SDT: \n",
    "\n",
    "* the $d'$ (pronoumced dee-prime): is a measure of sensitivity (how hard/easy is it to perceive a stimulus under uncertainty). \n",
    "            *How easy/hard is it to see a car under foggy conditions for each participant?*\n",
    "* the bias (sometimes called 'threshold') '$c$': is a measure of bias in discriminating signal from noise. \n",
    "            *Does each participant have a tendency to overestimate or underestimate a car being present?*\n",
    "* the Receiver Operating Characteristic curve (ROC): enables to illustrate the ability of a participant to discriminate between signal and noise as the threshold and/or uncertainty is varied. \n",
    "            *How does the participant ability to detect a car changes as a function of fog density*\n",
    "            or\n",
    "            *How does the participant ability to detect a car changes as a function of their threshold/bias*\n",
    "\n",
    "___\n",
    "\n",
    "Graphically, you may think of the signal and the noise are overlapping distributions (signal: red distribution, noise: blue distribution). The threshold (or bias) is a boundary that separates the signal from the noise and defines whether the participant responds 'present' or 'not present'. \n",
    "\n",
    "When the threshold is set very low, noise might inadvertently be classified as signal (i.e. many false positives (FP)). \n",
    "\n",
    "Conversely, when the threshold is set very high, signal might be classified as noise (many false negatives, FN)).\n",
    "\n",
    "![](https://github.com/ccnss/ccnss2018_students/raw/master/module2/1_signal_detection_theory_and_drift_diffusion_modelling/figures/roc.png)\n",
    "\n",
    "**Note:** SDT measures can also be used to study any kind of binary classifiers (say: how good is a routine test at detecting cancer). In this case, having a conservative bias (low threshold) would result in more false positive, but depending on the application it could be a good thing. For example, it is better to have a high false alarm rate for detecting cancer that would lead to a follow-up in a clinic, rather than missing true positive (cancer being present, and the test returning that it isn't).\n",
    "\n",
    "For more info: [https://en.wikipedia.org/wiki/Receiver_operating_characteristic](https://en.wikipedia.org/wiki/Receiver_operating_characteristic)"
   ]
  },
  {
   "cell_type": "raw",
   "metadata": {
    "colab_type": "text",
    "id": "SvezqTc1ytjK"
   },
   "source": [
    "**EXERCISE 1**\n",
    "\n",
    "Using Normal (or Gaussian) distributions, we will create a sysnthetic dataset of noise and signal distributions.\n",
    "\n",
    "Let the distributions follow the following form: \n",
    "\n",
    "\\begin{align*} \\mathcal{N}_{signal}\\left(\\mu,\\sigma\\right),\\qquad \\mu=15, \\sigma=3 \\end{align*}\n",
    "\\begin{align*} \\mathcal{N}_{noise}\\left(\\mu,\\sigma\\right),\\qquad \\mu=10, \\sigma=2.5 \\end{align*}\n",
    "\n",
    "**Instructions**\n",
    "* For reproducibility, set the seed to 0\n",
    "* Draw 10,000 samples from a normal distribution with mean '$\\mu$' and standard deviation '$\\sigma$' for the signal distribution (hint: you may want to use numpy.random functions)\n",
    "* Now do the same but for the noise distribution\n",
    "* Plot the histograms of the signal and noise distributions on the same plot (hint: you may want to use matplotlib.hist function). Play around with the arguments 'bins', 'density', 'color', 'alpha', 'legend' until you can reproduce the expected figure below.\n",
    "* Plot on top of the histogram the true probability density function that generated the data (i.e. the normal distributions with mean '$\\mu$' and standard deviation '$\\sigma$'). Hint: you may want to import scipy.stats. and use scipy.stats.norm.pdf\n",
    "* Add a vertical line representing the decision criterion (a.k.a. 'threshold') used to separate data as being either noise or signal (hint: you may use matplotlib.axvline). Use 12.5 as a decision criteria for now \n",
    "* Show the legend in the top right corner of the plot"
   ]
  },
  {
   "cell_type": "code",
   "execution_count": 31,
   "metadata": {
    "colab": {
     "autoexec": {
      "startup": false,
      "wait_interval": 0
     }
    },
    "colab_type": "code",
    "id": "bKYteoKmNos6"
   },
   "outputs": [
    {
     "data": {
      "text/plain": [
       "<matplotlib.legend.Legend at 0x1a1620b1d0>"
      ]
     },
     "execution_count": 31,
     "metadata": {},
     "output_type": "execute_result"
    },
    {
     "data": {
      "image/png": "[encoded data removed]",
      "text/plain": [
       "<Figure size 432x288 with 1 Axes>"
      ]
     },
     "metadata": {},
     "output_type": "display_data"
    }
   ],
   "source": [
    "# initialize your random seed\n",
    "random.seed(0)\n",
    "\n",
    "# define your variables here\n",
    "mu1, s1 = 15, 3\n",
    "mu2, s2 = 10, 2.5\n",
    "n_samples = 10000\n",
    "\n",
    "# draw n_samples samples from a normal distribution with the correct parameters\n",
    "noise =  np.random.randn(n_samples)*s2 + mu2\n",
    "signal = np.random.randn(n_samples)*s1 + mu1\n",
    "\n",
    "# plot a histogram of the noise distribution\n",
    "plt.hist(noise, bins=10, alpha=0.5, label='noise', density=True)\n",
    "\n",
    "# plot the true data-generating noise distribution using the correct parameters\n",
    "x = np.arange(0, 20, 0.1)\n",
    "#plt.plot(x, np.exp(-(x-mu2)/(s2**2)/s2*n_samples)\n",
    "plt.plot(x, scipy.stats.norm.pdf(x, mu2, s2))\n",
    "\n",
    "# plot the histogram of the signal distribution\n",
    "plt.hist(signal, bins=10, alpha=0.5, label='signal', density=True)\n",
    "\n",
    "# plot the true data-generating signal distribution using the correct parameters\n",
    "plt.plot(x, scipy.stats.norm.pdf(x,mu1,s1))\n",
    "\n",
    "# plot the decision criteria at point 12.5\n",
    "#plt.plot([12.5, 12.5], [0, 1])\n",
    "plt.axvline(12.5, c='k')\n",
    "#import matplotlib\n",
    "#matplotlib.axes.Axes.axvline(12.5)\n",
    "\n",
    "# show the plot legend\n",
    "plt.legend()"
   ]
  },
  {
   "cell_type": "code",
   "execution_count": 0,
   "metadata": {
    "colab": {
     "autoexec": {
      "startup": false,
      "wait_interval": 0
     }
    },
    "colab_type": "code",
    "id": "hrDGMJNPMV5o"
   },
   "outputs": [],
   "source": [
    "#insert code here"
   ]
  },
  {
   "cell_type": "markdown",
   "metadata": {
    "colab_type": "text",
    "id": "hLi_08Z_MV5w"
   },
   "source": [
    "**EXPECTED OUTPUT**\n",
    "\n",
    "![](https://github.com/ccnss/ccnss2018_students/raw/master/module2/1_signal_detection_theory_and_drift_diffusion_modelling/figures/expected_ex1.png)"
   ]
  },
  {
   "cell_type": "markdown",
   "metadata": {
    "colab_type": "text",
    "id": "quBWLRk4MV5y"
   },
   "source": [
    "**EXERCISE 2: Sensitivity ($d'$) and specificity analysis.**\n",
    "\n",
    "$d'$ is a dimensionless statistic. A higher d' indicates that the signal can be more readily detected.\n",
    "\n",
    "The sensitivity index or $d'$ provides the separation between the means of the signal and the noise distributions, compared against the standard deviation of the signal or noise distribution. For normally distributed signal ($s$) and noise ($n$), with mean and standard deviations $\\mu _{S}$ and $\\sigma _{S}$ , and $\\mu _{N}$ $\\sigma _{N}$, respectively, $d'$ is defined as:\n",
    "\n",
    "\\begin{align*} d'=\\frac {\\mu _{S}-\\mu _{N}}{\\sqrt {{\\frac {1}{2}}\\left(\\sigma _{S}^{2}+\\sigma _{N}^{2}\\right)}} \\end{align*}\n",
    "\n",
    "![](https://github.com/ccnss/ccnss2018_students/raw/master/module2/1_signal_detection_theory_and_drift_diffusion_modelling/figures/deeprime.png)\n",
    "\n",
    "\n",
    "**Instructions**\n",
    "* Set your seed to 0.\n",
    "* Draw 100 samples from a normal distribution with mean '$\\mu_1=10$', and standard deviation '$\\sigma_1=2.5$'\n",
    "* Draw 100 samples from another normal distribution with standard deviation '$\\sigma_2=2.5$' with a different mean '$\\mu_2$' (vary the mean '$\\mu_2$' to 11, 13, and 15)\n",
    "* For each value of the second mean '$\\mu_2$', calculate the $d'$, using the samples you have for each distribution using the samples from each distribution. (hint: you may want to use np.mean, and np.std) \n",
    "* For each value of the second mean '$\\mu_2$', calculate the $d'$, using the true mean and std of the distributions.  See how the d-prime changes as the mean of the two distributions get further apart.\n",
    "* Change the decision threshold such that you have 5 threshold values interspersed linearly between the minimum of the noise distribution, up to the maximum of the signal distribution. (hint: use linspace)\n",
    "* Print out the number of samples, threshold, estimated d_prime, true d_prime, and error \n",
    "* Calculate the Optimal threshold, Hit Rate, False Alarm rate, and bias '$c$' for each true decision-threshold and print it out. \n",
    "* Change the number of sample of each distribution from 100, 1000, and 10000. See how having more data leads to better estimates of $d'$. Particularly in real situations when we do not know the true underlying summary statistic (mean and standard deviation) of the noise and signal distributions, having more data will yield better estimates of $d'$. "
   ]
  },
  {
   "cell_type": "code",
   "execution_count": 0,
   "metadata": {
    "colab": {
     "autoexec": {
      "startup": false,
      "wait_interval": 0
     }
    },
    "colab_type": "code",
    "id": "XKJEQmtWKhRg"
   },
   "outputs": [],
   "source": [
    "# initialize your random seed\n",
    "random.seed(0)\n",
    "\n",
    "# set your means and stds for each distribution\n",
    "mu1, s = 10, 2.5\n",
    "\n",
    "s2 = 2.5\n",
    "\n",
    "# Set the number of samples you want to draw\n",
    "n_values = [100, 1000, 10000]\n",
    "\n",
    "for i_n in range(len(n_values))#fill code here\n",
    "\n",
    "    n = n_values[i_n]\n",
    "    for mu2 in [11, 13, 15]#fill code here\n",
    "    \n",
    "        # calculate the d-prime from your true distribution parameters\n",
    "        dPrime = (mu1 - mu2)/np.sqrt(0.5*(s**2 + s2**2))\n",
    "    \n",
    "        # sample randomly from the noise and signal distributions\n",
    "        noise = np.random.normal(mu2, s2, n_values)\n",
    "        signal = np.random.normal(mu1, s1, n_values) \n",
    "\n",
    "        # estimate the mean of the noise distribution\n",
    "        mu1_hat = np.mean(signal)\n",
    "        # estimate the standard deviation of the noise distribution\n",
    "        sd1_hat = np.std(signal)\n",
    "    \n",
    "        # estimate the mean of the signal distribution\n",
    "        mu2_hat = np.mean(noise)\n",
    "        # estimate the standard deviation of the signal distribution\n",
    "        sd2_hat = np.std(noise)\n",
    "    \n",
    "        # Calculate the estimated d-prime from the samples that you have drawn\n",
    "        dPrime_hat = (mu1_hat - mu2_hat)/np.sqrt(0.5*(sd1_hat**2 + s2_hat**2))\n",
    "        \n",
    "        # find the minimum and maximum of your samples\n",
    "        data_min = np.min((np.min(noise), np.min(signal)))\n",
    "        data_max = np.max((np.max(noise), np.max(signal)))\n",
    "\n",
    "        # decision criterion z linearly spaced\n",
    "        z_range = np.linspace(data_min, data_max, 5)\n",
    "\n",
    "        # initialize your true and false positive rates \n",
    "        falsePositiveRate_samples = \n",
    "        truePositiveRate_samples =\n",
    "\n",
    "        print('Num samples: ' + str(n) + ', mu2: ' + str(mu2) \n",
    "              + ', Estimated dprime: ' + str(round(dPrime_hat,2)) \n",
    "              + ', True dprime: ' + str(round(dPrime,2)) + ', error: ' \n",
    "              + str(round(dPrime-dPrime_hat,3))  )\n",
    "        \n",
    "        for idx in range(len(z_range)):\n",
    "\n",
    "            # Calculate the mean false positive rate from your samples\n",
    "            falsePositiveRate_samples[idx] = np.sum(noise > z_range[idx])/len(noise)\n",
    "            \n",
    "            # Calculate the mean true positive rate from your samples\n",
    "            truePositiveRate_samples[idx] = \n",
    "        \n",
    "            print('True Threshold: ' + str(round(z_range[idx],2)) \n",
    "                  + ', Optimal threshold: ' + str((mu1+((mu2-mu1)/2))) \n",
    "                  + ', bias c: ' + str(round(z_range[idx]-(mu1+((mu2-mu1)/2)),2)))\n",
    "        print(' ')\n",
    "    print('----')"
   ]
  },
  {
   "cell_type": "markdown",
   "metadata": {
    "colab_type": "text",
    "id": "q_J0caF6MV53"
   },
   "source": [
    "**EXPECTED OUTPUT**\n",
    "\n",
    "```\n",
    "Num samples: 100, mu2: 11, Estimated dprime: 0.34, True dprime: 0.63, error: 0.288\n",
    "True Threshold: 4.25, Optimal threshold: 10.5, bias c: -6.25\n",
    "True Threshold: 7.34, Optimal threshold: 10.5, bias c: -3.16\n",
    "True Threshold: 10.42, Optimal threshold: 10.5, bias c: -0.08\n",
    "True Threshold: 13.51, Optimal threshold: 10.5, bias c: 3.01\n",
    "True Threshold: 16.59, Optimal threshold: 10.5, bias c: 6.09\n",
    "...\n",
    "```"
   ]
  },
  {
   "cell_type": "markdown",
   "metadata": {
    "colab_type": "text",
    "id": "rBH7e8_CMV53"
   },
   "source": [
    "**EXERCISE 3**\n",
    "\n",
    "In statistics, a receiver operating characteristic curve, i.e. ROC curve, is a graphical plot that illustrates the diagnostic ability of a binary classifier system as its discrimination threshold is varied.\n",
    "\n",
    "The ROC curve is created by plotting the true positive rate (TPR) against the false positive rate (FPR) at various threshold settings. The true-positive rate is also known as sensitivity, recall or probability of detection in machine learning. The false-positive rate is also known as the fall-out or probability of false alarm.\n",
    "\n",
    "ROC analysis provides tools to select possibly optimal models and to discard suboptimal ones independently from (and prior to specifying) the cost context or the class distribution. ROC analysis is related in a direct and natural way to cost/benefit analysis of diagnostic decision making.\n",
    "\n",
    "You can calculate the true False Alarm Rate and the Hit Rate can be calculated from the true parameters of the distributions. It is calculated as:\n",
    "\n",
    "\\begin{align*} True Positive Rate = Z(threshold \\mid \\mu_{signal} , \\sigma_{signal}) \\end{align*}\n",
    "\\begin{align*} False Positive Rate = Z(threshold \\mid \\mu_{noise} , \\sigma_{noise}) \\end{align*}\n",
    "\n",
    "where function $Z(p)$, $p \\in \\left[0,1\\right]$, is the inverse of the cumulative distribution function of the Gaussian distribution (you can use the function scipy.stats.norm.sf to do this)\n",
    "\n",
    "**Instructions**\n",
    "* Set your seed to 0\n",
    "* Draw 100 samples from a normal distribution with mean '$\\mu_1=10$', and standard deviation '$\\sigma_1=2.5$'\n",
    "* Draw 100 samples from another normal distribution with standard deviation '$\\sigma_2=2.5$' with a different mean '$\\mu_2$' (vary the mean '$\\mu_2$' from 11 to 19 in steps of 2\n",
    "* For each value of the second mean '$\\mu_2$', calculate the ROC curve for varying decision criterion (take 50 linearly spaced values between the minimum and maximum values of your samples), and plot all ROC values on the same plot (i.e. for each decision threshold, plot the True and False positive rate).\n",
    "* For each value of '$\\mu_2$', also calculate the ROC curve based on the normal pdf (instead of samples from the pdf) and plot as lines (hint you may use scipy.stats.norm.cdf, scipy.stats.norm.sf). \n",
    "* Increase the number of sample of each distribution for 100, 500, and 1000. Look at how having more data changes the estimates.\n",
    "* For each value of '$\\mu_2$', calculate the sensitivity index d' using the true parameters of each distribution.\n",
    "* Add axes labels, title and legends."
   ]
  },
  {
   "cell_type": "code",
   "execution_count": 0,
   "metadata": {
    "colab": {
     "autoexec": {
      "startup": false,
      "wait_interval": 0
     }
    },
    "colab_type": "code",
    "id": "Ho0FowgQwf5I"
   },
   "outputs": [],
   "source": [
    "# initialize your random seed\n",
    "\n",
    "# set your means and stds for each distribution\n",
    "mu1, s = 10, 2.5\n",
    "\n",
    "# Set the number of samples you want to draw\n",
    "n_values = \n",
    "\n",
    "for i_n in # fill code here\n",
    "    plt.figure();\n",
    "    n = n_values[i_n]\n",
    "    for mu2 in # fill code here\n",
    "    \n",
    "        # calculate the d-prime from your true distribution parameters\n",
    "        dPrime = \n",
    "    \n",
    "        # sample randomly from the noise and signal distributions\n",
    "        noise =  \n",
    "        signal =    \n",
    "\n",
    "        # find the minimum and maximum of your samples\n",
    "        data_min = \n",
    "        data_max = \n",
    "\n",
    "        # decision criterion z linearly spaced\n",
    "        z_range = \n",
    "\n",
    "        # initialize your true and false positive rates \n",
    "        falsePositiveRate_samples = \n",
    "        truePositiveRate_samples =\n",
    "\n",
    "        # initialize your true and false positive rates \n",
    "        falsePositiveRate_distr = \n",
    "        truePositiveRate_distr = \n",
    "    \n",
    "        for idx in range(len(z_range)):\n",
    "\n",
    "            # Calculate the mean false positive rate from your samples\n",
    "            falsePositiveRate_samples[idx] = \n",
    "            \n",
    "            # Calculate the mean true positive rate from your samples\n",
    "            truePositiveRate_samples[idx] = \n",
    "        \n",
    "            # Calculate the False positive rate from the true distribution\n",
    "            falsePositiveRate_distr[idx] = \n",
    "            \n",
    "            # Calculate the True positive rate from the true distribution\n",
    "            truePositiveRate_distr[idx] = \n",
    "\n",
    "        #Plot here the ROC curve calculated from the true distribution parameters (using CDF or SF)\n",
    "\n",
    "        #Plot here the data points of the ROC curve calculated for different threshold values\n",
    "        \n",
    "    plt.legend(loc='lower right')\n",
    "    plt.xlim(0,1,)\n",
    "    plt.ylim(0,1)\n",
    "    plt.title('ROC curves, n=' + str(n))\n",
    "    plt.xlabel('False Positive Rate')\n",
    "    plt.ylabel('True Positive Rate')\n",
    "    \n",
    "plt.show()"
   ]
  },
  {
   "cell_type": "markdown",
   "metadata": {
    "colab_type": "text",
    "id": "B4sLVZVVMV5_"
   },
   "source": [
    "**EXPECTED OUTPUT**\n",
    "\n",
    "![](https://github.com/ccnss/ccnss2018_students/raw/master/module2/1_signal_detection_theory_and_drift_diffusion_modelling/figures/expected_ex3_1.png)"
   ]
  },
  {
   "cell_type": "markdown",
   "metadata": {
    "colab_type": "text",
    "id": "biovnYuCMV5_"
   },
   "source": [
    "# Part 2: Drift Diffusion Model (DDM)\n",
    "\n",
    "As you saw in the lecture earlier today, DDMs predict both RT and choice accuracy data and have been used to model behavior in this sort of sequential discimination task."
   ]
  },
  {
   "cell_type": "markdown",
   "metadata": {
    "colab_type": "text",
    "id": "I4Os8V6xMV6B"
   },
   "source": [
    "** Short summary of the Drift diffusion model **\n",
    "\n",
    "The Drift Diffusion Model arises from the Sequential Probability Ratio Test in the limit where discretely presented evidence becomes continuously presented evidence. \n",
    "\n",
    "Let's take an example. Say a participant is shown a blurry stimulus that is either a face or a house, and the participant needs to respond either 'face' or 'house' (2-AFC). Once a stimulus is displayed, the participant accumulates information over time by looking at the stimulus (the longer the participant looks at the stimulus, the more confident he/she will be that it is either a house or a face). The information accumulated with a drift-rate '$\\mu$', and when the participant trace hits a decision-boundary '$-B$' or '$B$', the participant responds 'house' or 'face' respectively. We can change the bias of a given participant '$z$', by changing the starting point of the accumulation trace with respect to the decision boundaries '$-B$' or '$B$'. If we move '$z$' to be closer to '$-B$' than to '$B$', then the participant will be more likely to respond 'face' (i.e. a bias in responding for faces).\n",
    "\n",
    "![](https://github.com/ccnss/ccnss2018_students/raw/master/module2/1_signal_detection_theory_and_drift_diffusion_modelling/figures/DDM.png)\n",
    "\n",
    "In discrete time, you can think of the DDM as accumulating evidence using the following form:\n",
    "\n",
    "\\begin{eqnarray}\n",
    "x[t] = x[t-1] + \\mathcal{N}(\\mu, \\sigma),\n",
    "\\end{eqnarray}\n",
    "\n",
    "where\n",
    "$\\mu$ : Drift rate, \n",
    "$\\sigma$ : Noise standard deviation, \n",
    "and $t$ is the time point in ms.\n",
    "\n",
    "Now consider two absorbing boundaries at $\\pm B$. A decision is committed once the decision variable reaches one of the boundaries. In other words, the decision variable is \"absorbed\" by the boundary.\n",
    "\n",
    "**References**\n",
    "\n",
    "Ratcliff, Roger. \"A theory of memory retrieval.\" Psychological review 85.2 (1978): 59.\n",
    "\n",
    "Bogacz, Rafal, et al. \"The physics of optimal decision making: a formal analysis of models of performance in two-alternative forced-choice tasks.\" Psychological review 113.4 (2006): 700."
   ]
  },
  {
   "cell_type": "markdown",
   "metadata": {
    "colab_type": "text",
    "id": "-GsTOmKjMV6B"
   },
   "source": [
    "**In this exercise** we'll write a function that simulates RTs and choices using a DDM with constant decision boundaries. We will plot this data, using the function written below, and in doing so, we will begin to see how the model generates behavior. \n",
    "\n",
    "In particular, we will play with some of the parameters of the DDM and look at the effects this has on the simulated data. We will simulate the DDM for traces up to 2500 ms.\n",
    "\n",
    "Next, you can play with the parameters of the DDM and see how this affects the simulated behavior. "
   ]
  },
  {
   "cell_type": "markdown",
   "metadata": {
    "colab_type": "text",
    "id": "pLCIxfP9MV6D"
   },
   "source": [
    "** EXERCISE 4: Constant bound DDM simulation **\n",
    "\n",
    "*** Instructions ***\n",
    "* Complete the function `sim_DDM_constant`. The function simulates one trial of the DDM. The function should take parameters $\\mu$, $\\sigma$, and a boundary $B$ as inputs and return the trace of x, the timing of x, the choice (let's assume the choice here is either 'left' or 'right', and correctness (let's assume 'left' is the correct answer here), and the final reaction time of the decision.\n",
    "* Plot the decision variable trajectories for 200 trials in the same figure with the following parameters: $\\mu=1.5 \\cdot 10^{-3}$, $\\sigma=0.05$, $B=1$, use as the seed for each trial the index of the simulated trace (e.g. set seed=i_trial).\n",
    "* (Optional) Change the parameters $\\mu, \\sigma$, and observe the change in the decision variable density.\n",
    "* (Optional) Change the starting point, so that you get a bias away or closer to the correct boundary decision\n",
    "\n",
    "*Hints*\n",
    "\n",
    "- Adjust the alpha value of a plot to show more trajectories (use an alpha=0.1)"
   ]
  },
  {
   "cell_type": "code",
   "execution_count": 40,
   "metadata": {
    "colab": {
     "autoexec": {
      "startup": false,
      "wait_interval": 0
     }
    },
    "colab_type": "code",
    "id": "wdgQQSFLPvAL"
   },
   "outputs": [
    {
     "data": {
      "image/png": "[encoded data removed]",
      "text/plain": [
       "<Figure size 432x288 with 1 Axes>"
      ]
     },
     "metadata": {},
     "output_type": "display_data"
    }
   ],
   "source": [
    "# insert your code here as functions for your simulated Drift Diffusion Model\n",
    "\n",
    "def sim_DDM_constant(mu, sigma, B, seed=1):\n",
    "    \"\"\"\n",
    "    Function that simulates one trial of the DDM\n",
    "    \n",
    "    Parameters\n",
    "    ----------\n",
    "    mu: float\n",
    "        DDM drift rate\n",
    "    sigma: float\n",
    "        DDM standard-deviation\n",
    "    B: float\n",
    "        DDM boundary\n",
    "    seed: integer, optional\n",
    "        random seed\n",
    "    \n",
    "    Returns\n",
    "    -------\n",
    "    choice: categorical\n",
    "        indicates whether left or right boundary was reached by decision variable\n",
    "    correct: bool\n",
    "        whether or not the left boundary (which is assumed to be the target boundary) was chosen\n",
    "    rt: float\n",
    "        reaction time in msec\n",
    "    dvTrace: list\n",
    "        trace of decision variable\n",
    "    tTrace: list\n",
    "        times at which decision variable was sampled in the simulation\n",
    "        \n",
    "    \"\"\"\n",
    "    \n",
    "    \n",
    "    # Set random seed\n",
    "    np.random.seed(seed)\n",
    "    \n",
    "    # Initialize decision variable x\n",
    "    x = 0\n",
    "    \n",
    "    # Initialize time of Trace 'tTrace', and value of trace 'dvTrace'\n",
    "    tTrace = []\n",
    "    dvTrace = []\n",
    "    \n",
    "    # Looping through time\n",
    "    for t in range(2500):\n",
    "        x = x + np.random.normal(mu, sigma, 1)[0]#calculate new value of trace at new time point\n",
    "        \n",
    "        # save time point t in 'tTrace'\n",
    "        tTrace.append(t)\n",
    "        \n",
    "        # save value x in 'dvTrace'\n",
    "        dvTrace.append(x)\n",
    "\n",
    "        # check boundary conditions\n",
    "        if x > B:\n",
    "            rt = t\n",
    "            choice = 'left'\n",
    "            correct = True\n",
    "            break\n",
    "            #stop trial\n",
    "            \n",
    "        if x < -B:\n",
    "            rt = t\n",
    "            choice = 'right'\n",
    "            correct = False\n",
    "            break\n",
    "            #stop trial\n",
    "            \n",
    "    else: # executed if no break has occurred in the for loop\n",
    "        # If no boundary is hit before maximum time, \n",
    "        # choose according to decision variable value\n",
    "        rt = t\n",
    "        choice = 'left' if x > 0 else 'right'\n",
    "        correct = True if choice == 'left' else False\n",
    "    \n",
    "    return choice, correct, rt, dvTrace, tTrace\n",
    "\n",
    "mu = 1.5*0.001\n",
    "sigma = 0.05\n",
    "B = 1\n",
    "choice, correct, rt, dvTrace, tTrace = sim_DDM_constant(mu, sigma, B)\n",
    "for i in range(200):\n",
    "    choice, correct, rt, dvTrace, tTrace = sim_DDM_constant(mu, sigma, B, i)\n",
    "    plt.plot(tTrace, dvTrace, alpha=0.2, c = 'black')\n",
    "plt.show()"
   ]
  },
  {
   "cell_type": "markdown",
   "metadata": {
    "colab_type": "text",
    "id": "bbQC-hH3MV6K"
   },
   "source": [
    "**EXPECTED OUTPUT**\n",
    "\n",
    "![](https://github.com/ccnss/ccnss2018_students/raw/master/module2/1_signal_detection_theory_and_drift_diffusion_modelling/figures/expected_ex4.png)"
   ]
  },
  {
   "cell_type": "markdown",
   "metadata": {
    "colab_type": "text",
    "id": "7EGSwRxNMV6M"
   },
   "source": [
    "*** EXERCISE 5: Reaction time distribution***\n",
    "\n",
    "Given a set of parameters $\\mu$, $\\sigma$, $B$, we can simulate the DDM and recover the reaction time distributions for each boundary.\n",
    "\n",
    "*** Instructions ***\n",
    "* Set your random seed to 0\n",
    "* Simulate the DDM for 5000 trials with $\\mu=0.0015, \\sigma=0.05, B=1$.\n",
    "* Plot the reaction time distribution, separating correct from error trials (use the function provided below)"
   ]
  },
  {
   "cell_type": "code",
   "execution_count": 44,
   "metadata": {
    "colab": {
     "autoexec": {
      "startup": false,
      "wait_interval": 0
     }
    },
    "colab_type": "code",
    "id": "4bW4_YdzMV6M"
   },
   "outputs": [],
   "source": [
    "def  plot_rt_distribution (rt1, rt0, bins=None):\n",
    "    '''\n",
    "    # Function that takes RT data as input and plots a histogram\n",
    "\n",
    "    rt1/rt0 : array of reaction time for correct/error trials\n",
    "    bins: if given, the bins for plotting\n",
    "    '''\n",
    "    if bins is None:\n",
    "        maxrt = max((max(rt1),max(rt0)))\n",
    "        bins = np.linspace(0,maxrt,50)\n",
    "    count1, bins_edge = np.histogram(rt1, bins=bins)\n",
    "    count0, bins_edge = np.histogram(rt0, bins=bins)\n",
    "    n_rt = len(rt0) + len(rt1)\n",
    "    \n",
    "    plt.figure()\n",
    "    plt.bar(bins_edge[:-1], count1/n_rt, np.diff(bins_edge), color='blue', edgecolor='white')\n",
    "    plt.bar(bins_edge[:-1], -count0/n_rt, np.diff(bins_edge), color='red', edgecolor='white')\n",
    "    \n",
    "    titletxt = 'Prop. correct {:0.2f}, '.format(sum(count1)/n_rt)\n",
    "    titletxt += 'Mean RT {:0.0f}/{:0.0f} ms'.format(np.mean(rt1),np.mean(rt0))\n",
    "    \n",
    "    plt.ylabel('Proportion')\n",
    "    plt.xlabel('Reaction Time')\n",
    "    plt.title(titletxt)\n",
    "    plt.xlim((bins.min(),bins.max()))\n",
    "    \n",
    "    plt.show()"
   ]
  },
  {
   "cell_type": "code",
   "execution_count": 46,
   "metadata": {
    "colab": {
     "autoexec": {
      "startup": false,
      "wait_interval": 0
     }
    },
    "colab_type": "code",
    "id": "MOEwaGIThoOj"
   },
   "outputs": [
    {
     "data": {
      "image/png": "[encoded data removed]",
      "text/plain": [
       "<Figure size 432x288 with 1 Axes>"
      ]
     },
     "metadata": {},
     "output_type": "display_data"
    }
   ],
   "source": [
    "#insert your code here\n",
    "rt1 = []\n",
    "rt0 = []\n",
    "for i in range(2000):\n",
    "    choice, correct, rt, dvTrace, tTrace = sim_DDM_constant(mu, sigma, B, i)\n",
    "    if correct:\n",
    "        rt1.append(rt)\n",
    "    else:\n",
    "        rt0.append(rt)\n",
    "        \n",
    "plot_rt_distribution (np.array(rt1), np.array(rt0))"
   ]
  },
  {
   "cell_type": "markdown",
   "metadata": {
    "colab_type": "text",
    "id": "8cGtNW3EMV6V"
   },
   "source": [
    "**EXPECTED OUTPUT**\n",
    "\n",
    "![](https://github.com/ccnss/ccnss2018_students/raw/master/module2/1_signal_detection_theory_and_drift_diffusion_modelling/figures/expected_ex5.png)"
   ]
  },
  {
   "cell_type": "markdown",
   "metadata": {
    "colab_type": "text",
    "id": "axKlQbIFMV6W"
   },
   "source": [
    "#(BONUS)\n",
    "*** EXERCISE 6: Analytical solution of classical DDM ***\n",
    "\n",
    "Another way of recovering the distribution of the RT for each boundary given the parameters of the DDM is to use the analytical solution. We provide some code in the src folder that calculates the analytical solution to the DDM so that we can plot the underlying RT distribution at each boundary (you don't need to worry about the inner working of the analytical solution right now, just how to use it).\n",
    "\n",
    "*** Instructions ***\n",
    "\n",
    "* import the function 'analytic_ddm' from the ddm.py module in the current directory.\n",
    "* look at the docstring of the function to see what parameters it takes and what it returns (in the notebook you can append '?' to the function name)"
   ]
  },
  {
   "cell_type": "code",
   "execution_count": 0,
   "metadata": {
    "colab": {
     "autoexec": {
      "startup": false,
      "wait_interval": 0
     }
    },
    "colab_type": "code",
    "id": "FflfaJVdMV6X"
   },
   "outputs": [],
   "source": [
    "from ddm import analytic_ddm\n",
    "\n",
    "#insert code here\n",
    "\n",
    "analytic_ddm?"
   ]
  },
  {
   "cell_type": "markdown",
   "metadata": {
    "colab_type": "text",
    "id": "q9ZrkHe1MV6Z"
   },
   "source": [
    "# (BONUS)\n",
    "***EXERCISE 7: Comparison between analytic and simulated solution***\n",
    "\n",
    "*** Instructions ***\n",
    "\n",
    "* Compare the analytical solution with simulation results (use 10,000 trials): $\\mu=1e-3, \\sigma=0.05, B=1$.\n",
    "* Compare the time taken by the simulation and analytical calculation.\n",
    "\n",
    "*Hints*\n",
    "\n",
    "- When comparing analytical and simulated RT histograms, make sure the normalizations of the histograms are consistent\n",
    "- Useful function: time.time()"
   ]
  },
  {
   "cell_type": "code",
   "execution_count": 0,
   "metadata": {
    "colab": {
     "autoexec": {
      "startup": false,
      "wait_interval": 0
     }
    },
    "colab_type": "code",
    "id": "lRhGA5y7huvw"
   },
   "outputs": [],
   "source": [
    "#insert code here"
   ]
  },
  {
   "cell_type": "markdown",
   "metadata": {
    "colab_type": "text",
    "id": "wXnEkB6XMV6d"
   },
   "source": [
    "**EXPECTED OUTPUT**\n",
    "\n",
    "![](https://github.com/ccnss/ccnss2018_students/raw/master/module2/1_signal_detection_theory_and_drift_diffusion_modelling/figures/expected_ex7.png)"
   ]
  }
 ],
 "metadata": {
  "colab": {
   "collapsed_sections": [],
   "default_view": {},
   "name": "1_signal_detection_theory_and_drift_diffusion_modelling",
   "provenance": [],
   "version": "0.3.2",
   "views": {}
  },
  "kernelspec": {
   "display_name": "Python 3",
   "language": "python",
   "name": "python3"
  },
  "language_info": {
   "codemirror_mode": {
    "name": "ipython",
    "version": 3
   },
   "file_extension": ".py",
   "mimetype": "text/x-python",
   "name": "python",
   "nbconvert_exporter": "python",
   "pygments_lexer": "ipython3",
   "version": "3.6.5"
  }
 },
 "nbformat": 4,
 "nbformat_minor": 1
}
