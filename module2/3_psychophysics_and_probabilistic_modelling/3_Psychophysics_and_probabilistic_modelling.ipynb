{
 "cells": [
  {
   "cell_type": "markdown",
   "metadata": {
    "colab_type": "text",
    "id": "cYPpdxO7RalU"
   },
   "source": [
    "## CCNSS 2018 module 2\n",
    "# Tutorial 3 - Psychophysics and probabilistic modelling\n",
    "\n"
   ]
  },
  {
   "cell_type": "markdown",
   "metadata": {
    "colab_type": "text",
    "id": "qmTqgBgLRalV"
   },
   "source": [
    "*Please execute the cells bellow to initialize the notebook environment*"
   ]
  },
  {
   "cell_type": "code",
   "execution_count": 0,
   "metadata": {
    "colab": {
     "autoexec": {
      "startup": false,
      "wait_interval": 0
     }
    },
    "colab_type": "code",
    "id": "xA560iAySYoz"
   },
   "outputs": [],
   "source": [
    "!if [ ! -d data ]; then git clone https://github.com/ccnss/ccnss2018_students; \\\n",
    "                        cp -rf ccnss2018_students/module2/3_psychophysics_and_probabilistic_modelling/data ./; fi"
   ]
  },
  {
   "cell_type": "code",
   "execution_count": 1,
   "metadata": {
    "colab": {
     "autoexec": {
      "startup": false,
      "wait_interval": 0
     }
    },
    "colab_type": "code",
    "id": "Ofc3Y74nRalW"
   },
   "outputs": [],
   "source": [
    "import matplotlib.pyplot as plt      # import matplotlib\n",
    "import numpy as np                   # import numpy\n",
    "import scipy as sp                   # import scipy\n",
    "from scipy import optimize, stats\n",
    "import pandas as pd                  # import pandas\n",
    "import random                        # import basic random number generator functions\n",
    "import time                          # import time function to time minimize\n",
    "import os\n",
    "\n",
    "try:\n",
    "    import ipywidgets as widgets\n",
    "except:\n",
    "    get_ipython().system('pip install ipywidgets')\n",
    "    import ipywidgets as widgets\n",
    "\n",
    "data_folder = 'data'\n",
    "\n",
    "fig_w, fig_h = (6, 4)\n",
    "plt.rcParams.update({'figure.figsize': (fig_w, fig_h)})\n",
    "plt.style.use('ggplot')"
   ]
  },
  {
   "cell_type": "markdown",
   "metadata": {
    "colab_type": "text",
    "id": "RG3N_a93RalZ"
   },
   "source": [
    "## Objectives\n",
    "\n",
    "In this notebook we'll clean-up data from a 2-Alternative Forced Choice task and plot psychometric functions. \n",
    "\n",
    "We will also analyse behavioural data from a task that measure participant innate prior, and implement a Conjugate Beta-Bernoulli model that performs the task optimally (ideal-observer) and can recover the participants priors from their behaviour."
   ]
  },
  {
   "cell_type": "markdown",
   "metadata": {
    "colab_type": "text",
    "id": "UdDI995dRalZ"
   },
   "source": [
    "## Background\n",
    "\n",
    "Psychophysics quantitatively investigates the relationship between physical stimuli and the sensations and perceptions they produce. It is a general class of methods that can be applied to study a perceptual system. Modern applications rely heavily on threshold measurement, ideal observer analysis, and signal detection theory.\n",
    "\n",
    "In psychophysics, experiments seek to determine whether the subject can detect a stimulus, identify it, differentiate between it and another stimulus, or describe the magnitude or nature of this difference.\n",
    "\n",
    "A psychometric function is an inferential model applied in detection and discrimination tasks. It models the relationship between a given feature of a physical stimulus, (e.g. velocity, duration, brightness, weight etc.), and forced-choice responses of a human test subject. The psychometric function therefore is a specific application of the generalized linear model (GLM) to psychophysical data. The probability of response is related to a linear combination of predictors by means of a sigmoid link function (e.g. probit, logit, etc.).\n",
    "\n",
    "We analyze data from a two-alternative forced choice task (e.g. the random-dot-task). In these tasks ambiguous evidence for two alternative choices is presented to an observer. The ambiguity results in imperfect performance, that varies with the strength of the ambiguity. This relationship is quantified by the *psychometric function*."
   ]
  },
  {
   "cell_type": "markdown",
   "metadata": {
    "colab_type": "text",
    "id": "yJW9AWHmRala"
   },
   "source": [
    "**EXERCISE 1**\n",
    "\n",
    "Loading the data\n",
    "\n",
    "**Instructions**\n",
    "\n",
    "* Read the data from file `dots_psychophysics.txt`\n",
    "* Each line is one trial, the columnns encode\n",
    "    - coherence of random dot pattern\n",
    "    - direction of random dot pattern\n",
    "    - the direction the monkey chose\n",
    "    - if the monkey was rewarded\n",
    "    - the monkey's reaction time\n",
    "* The direction / choice is encoded as: 1 = 0% coherence, 2 = left stimuli, 3 = right stimuli\n",
    "* On 0% coherence trials the monkey was rewarded randomly\n",
    "* Replace numbers '2' and '3' by 'left' and 'right' respectively, and rewarded '1' and '0' into booleans\n",
    "\n",
    "   Hint: look up the function `df.replace()` from Pandas\n",
    "  \n",
    "* Print the first 5 rows of the data\n",
    "\n",
    "   Hint: look up function `df.head()` from Pandas"
   ]
  },
  {
   "cell_type": "code",
   "execution_count": 2,
   "metadata": {
    "colab": {
     "autoexec": {
      "startup": false,
      "wait_interval": 0
     }
    },
    "colab_type": "code",
    "id": "z1h9AQiLRalb"
   },
   "outputs": [
    {
     "data": {
      "text/html": [
       "<div>\n",
       "<style scoped>\n",
       "    .dataframe tbody tr th:only-of-type {\n",
       "        vertical-align: middle;\n",
       "    }\n",
       "\n",
       "    .dataframe tbody tr th {\n",
       "        vertical-align: top;\n",
       "    }\n",
       "\n",
       "    .dataframe thead th {\n",
       "        text-align: right;\n",
       "    }\n",
       "</style>\n",
       "<table border=\"1\" class=\"dataframe\">\n",
       "  <thead>\n",
       "    <tr style=\"text-align: right;\">\n",
       "      <th></th>\n",
       "      <th>coherence</th>\n",
       "      <th>direction</th>\n",
       "      <th>choice</th>\n",
       "      <th>rewarded</th>\n",
       "      <th>rt</th>\n",
       "    </tr>\n",
       "  </thead>\n",
       "  <tbody>\n",
       "    <tr>\n",
       "      <th>0</th>\n",
       "      <td>0.128</td>\n",
       "      <td>left</td>\n",
       "      <td>left</td>\n",
       "      <td>True</td>\n",
       "      <td>622.675</td>\n",
       "    </tr>\n",
       "    <tr>\n",
       "      <th>1</th>\n",
       "      <td>0.000</td>\n",
       "      <td>0%</td>\n",
       "      <td>0%</td>\n",
       "      <td>True</td>\n",
       "      <td>934.450</td>\n",
       "    </tr>\n",
       "    <tr>\n",
       "      <th>2</th>\n",
       "      <td>0.000</td>\n",
       "      <td>0%</td>\n",
       "      <td>0%</td>\n",
       "      <td>True</td>\n",
       "      <td>837.475</td>\n",
       "    </tr>\n",
       "    <tr>\n",
       "      <th>3</th>\n",
       "      <td>0.512</td>\n",
       "      <td>left</td>\n",
       "      <td>left</td>\n",
       "      <td>True</td>\n",
       "      <td>349.500</td>\n",
       "    </tr>\n",
       "    <tr>\n",
       "      <th>4</th>\n",
       "      <td>0.256</td>\n",
       "      <td>left</td>\n",
       "      <td>left</td>\n",
       "      <td>True</td>\n",
       "      <td>415.925</td>\n",
       "    </tr>\n",
       "  </tbody>\n",
       "</table>\n",
       "</div>"
      ],
      "text/plain": [
       "   coherence direction choice  rewarded       rt\n",
       "0      0.128      left   left      True  622.675\n",
       "1      0.000        0%     0%      True  934.450\n",
       "2      0.000        0%     0%      True  837.475\n",
       "3      0.512      left   left      True  349.500\n",
       "4      0.256      left   left      True  415.925"
      ]
     },
     "execution_count": 2,
     "metadata": {},
     "output_type": "execute_result"
    }
   ],
   "source": [
    "data_file = os.path.join(data_folder, 'dots_psychophysics.txt')\n",
    "\n",
    "#insert code here\n",
    "\n",
    "dotsData = pd.read_csv(data_file, \n",
    "                       delimiter=' ', skipinitialspace=True, index_col=None, header=None, \n",
    "                       names=['coherence', 'direction', 'choice', 'rewarded', 'rt'])\n",
    "\n",
    "dotsData.replace({'direction': {1.: '0%', 2.: 'left', 3.: 'right'},\n",
    "                  'choice': {1.: '0%', 2.: 'left', 3.: 'right'},\n",
    "                 }, inplace=True)\n",
    "\n",
    "dotsData['rewarded'] = dotsData['rewarded'].astype(np.bool)\n",
    "\n",
    "dotsData.head()"
   ]
  },
  {
   "cell_type": "markdown",
   "metadata": {
    "colab_type": "text",
    "id": "PNhfvuUbRalg"
   },
   "source": [
    "**EXPECTED OUTPUT**\n",
    "\n",
    "![](https://github.com/ccnss/ccnss2018_students/raw/master/module2/3_psychophysics_and_probabilistic_modelling/figures/expected_ex1.png)"
   ]
  },
  {
   "cell_type": "markdown",
   "metadata": {
    "colab_type": "text",
    "id": "_hnSJPbRRalg"
   },
   "source": [
    "**EXERCISE 2**\n",
    "\n",
    "Checking the data\n",
    "\n",
    "**Instructions**\n",
    "\n",
    "* Check that whenever coherence is 0, direction also encodes the 0% stimulus, and print `True` or `False`\n",
    "* Plot the distribution of choices when coherence == 0\n",
    "* Check that for non-zero-coherence trials (whenever `direction == choice` then `rewarded == True`) and print `True` or `False` accordingly"
   ]
  },
  {
   "cell_type": "code",
   "execution_count": 3,
   "metadata": {
    "colab": {
     "autoexec": {
      "startup": false,
      "wait_interval": 0
     },
     "base_uri": "https://localhost:8080/",
     "height": 325
    },
    "colab_type": "code",
    "executionInfo": {
     "elapsed": 1082,
     "status": "ok",
     "timestamp": 1530254619168,
     "user": {
      "displayName": "Vincent Valton",
      "photoUrl": "https://lh3.googleusercontent.com/a/default-user=s128",
      "userId": "118337532232165040468"
     },
     "user_tz": -480
    },
    "id": "7nWVO0csRalh",
    "outputId": "4e3db13b-3abe-4cb5-f342-d9aa2e824566"
   },
   "outputs": [
    {
     "name": "stdout",
     "output_type": "stream",
     "text": [
      "- Check 1 (coherence 0 -> 0% stim): [ True]\n",
      "- Check 2 (direction == choice -> rewarded?): [ True]\n"
     ]
    },
    {
     "data": {
      "image/png": "[encoded data removed]",
      "text/plain": [
       "<Figure size 432x288 with 1 Axes>"
      ]
     },
     "metadata": {},
     "output_type": "display_data"
    }
   ],
   "source": [
    "#insert code here\n",
    "\n",
    "check1 = dotsData[dotsData['coherence'] == 0.] \\\n",
    "        ['direction'] \\\n",
    "        .unique() \\\n",
    "        == '0%'\n",
    "        \n",
    "coherentTrials = dotsData[dotsData['coherence'] != 0.] \n",
    "check2 = coherentTrials[coherentTrials['direction'] == coherentTrials['choice']] \\\n",
    "        ['rewarded'] \\\n",
    "        .unique()\n",
    "\n",
    "print('- Check 1 (coherence 0 -> 0% stim): ' + str(check1))\n",
    "print('- Check 2 (direction == choice -> rewarded?): ' + str(check1))\n",
    "\n",
    "nChoicesAt0Coherence = dotsData[dotsData['coherence'] == 0.] \\\n",
    "                                .groupby('choice') \\\n",
    "                                .count() \\\n",
    "                                ['coherence'] # all columns contain the same information\n",
    "\n",
    "# normalize to proportions\n",
    "fracChoisesAt0Coherence = nChoicesAt0Coherence / nChoicesAt0Coherence.sum()\n",
    "\n",
    "plt.figure()\n",
    "fracChoisesAt0Coherence.plot(kind='bar')\n",
    "plt.ylabel('fraction of trials chosen')\n",
    "plt.show()"
   ]
  },
  {
   "cell_type": "markdown",
   "metadata": {
    "colab_type": "text",
    "id": "6W5ypYyjRalk"
   },
   "source": [
    "**EXPECTED OUTPUT**\n",
    "```\n",
    "- Check 1 (coherence 0 -> 0% stim): [ True]\n",
    "- Check 2 (direction == choice -> rewarded?): [ True]\n",
    "```\n",
    "\n",
    "![](https://github.com/ccnss/ccnss2018_students/raw/master/module2/3_psychophysics_and_probabilistic_modelling/figures/expected_ex2.png)"
   ]
  },
  {
   "cell_type": "markdown",
   "metadata": {
    "colab_type": "text",
    "id": "vmMF7gdhRalk"
   },
   "source": [
    "**EXERCISE 3**\n",
    "\n",
    "Checking the data\n",
    "\n",
    "**Instructions**\n",
    "\n",
    "* Using a bar plot, plot of the number of trials, broken down by stimulus direction and coherence. "
   ]
  },
  {
   "cell_type": "code",
   "execution_count": 0,
   "metadata": {
    "colab": {
     "autoexec": {
      "startup": false,
      "wait_interval": 0
     },
     "base_uri": "https://localhost:8080/",
     "height": 908
    },
    "colab_type": "code",
    "executionInfo": {
     "elapsed": 1527,
     "status": "ok",
     "timestamp": 1530251755309,
     "user": {
      "displayName": "Vincent Valton",
      "photoUrl": "https://lh3.googleusercontent.com/a/default-user=s128",
      "userId": "118337532232165040468"
     },
     "user_tz": -480
    },
    "id": "TluiftgXRall",
    "outputId": "e290a658-ad1c-4ca6-d530-1ad8eddc9b43"
   },
   "outputs": [
    {
     "data": {
      "image/png": "[encoded data removed]",
      "text/plain": [
       "<matplotlib.figure.Figure at 0x7f2838327b38>"
      ]
     },
     "metadata": {
      "tags": []
     },
     "output_type": "display_data"
    },
    {
     "data": {
      "image/png": "[encoded data removed]",
      "text/plain": [
       "<matplotlib.figure.Figure at 0x7f2838327128>"
      ]
     },
     "metadata": {
      "tags": []
     },
     "output_type": "display_data"
    },
    {
     "data": {
      "image/png": "[encoded data removed]",
      "text/plain": [
       "<matplotlib.figure.Figure at 0x7f28383233c8>"
      ]
     },
     "metadata": {
      "tags": []
     },
     "output_type": "display_data"
    }
   ],
   "source": [
    "#insert code here\n",
    "\n",
    "for direction, directionData in dotsData.groupby('direction'):\n",
    "    plt.figure()\n",
    "    plt.title('Number of available trials for direction == %s' % direction)\n",
    "    directionData.groupby('coherence')['coherence'] \\\n",
    "                    .count() \\\n",
    "                    .plot(kind='bar')\n",
    "    plt.ylabel('number of trials')\n",
    "    plt.show()"
   ]
  },
  {
   "cell_type": "markdown",
   "metadata": {
    "colab_type": "text",
    "id": "Wlav4DtZRalp"
   },
   "source": [
    "**EXPECTED OUTPUT**\n",
    "\n",
    "![](https://github.com/ccnss/ccnss2018_students/raw/master/module2/3_psychophysics_and_probabilistic_modelling/figures/expected_ex3.png)"
   ]
  },
  {
   "cell_type": "markdown",
   "metadata": {
    "colab_type": "text",
    "id": "7mbHf-67Ralp"
   },
   "source": [
    "** EXERCISE 4: Psychometric function **\n",
    "\n",
    "A psychometric function is an inferential model applied in detection and discrimination tasks. It models the relationship between a given feature of a physical stimulus, (e.g. velocity, duration, brightness, weight etc.), and forced-choice responses of a human test subject. The psychometric function therefore is a specific application of the generalized linear model (GLM) to psychophysical data. The probability of response is related to a linear combination of predictors by means of a sigmoid link function (e.g. probit, logit, etc.).\n",
    "\n",
    "** Insructions **\n",
    "\n",
    "* Remove aborted trials, i.e. trials in which the monkey chose the stimulus direction but wasn't rewarded\n",
    "* Plot the psychometric function, i.e. fraction of correct choices vs. coherence  (i.e. plot fraction of right choices for all coherence levels, where for left choices coherence is set to negative values)"
   ]
  },
  {
   "cell_type": "code",
   "execution_count": 4,
   "metadata": {
    "colab": {
     "autoexec": {
      "startup": false,
      "wait_interval": 0
     },
     "base_uri": "https://localhost:8080/",
     "height": 298
    },
    "colab_type": "code",
    "executionInfo": {
     "elapsed": 869,
     "status": "ok",
     "timestamp": 1530251766713,
     "user": {
      "displayName": "Vincent Valton",
      "photoUrl": "https://lh3.googleusercontent.com/a/default-user=s128",
      "userId": "118337532232165040468"
     },
     "user_tz": -480
    },
    "id": "PHVD3b-6Ralr",
    "outputId": "009e0367-2f92-4f6c-949b-2d17c002628d"
   },
   "outputs": [
    {
     "data": {
      "image/png": "[encoded data removed]",
      "text/plain": [
       "<Figure size 432x288 with 1 Axes>"
      ]
     },
     "metadata": {},
     "output_type": "display_data"
    }
   ],
   "source": [
    "#insert code here\n",
    "\n",
    "cond_aborted = (dotsData['coherence'] > 0) & \\\n",
    "         (dotsData['direction'] == dotsData['choice']) & \\\n",
    "         (dotsData['rewarded'] == False)\n",
    "\n",
    "dotsData = dotsData[~cond_aborted]\n",
    "\n",
    "zeroPsychometricFunction = pd.Series((dotsData[dotsData['direction'] == '0%']['choice'] == 'right').mean(), index=[0.])\n",
    "    \n",
    "rightPsychometricFunction = dotsData[dotsData['direction'] == 'right'] \\\n",
    "                            .groupby('coherence') \\\n",
    "                            .apply(lambda df: (df['choice'] == 'right').mean())\n",
    "        \n",
    "leftPsychometricFunction = dotsData[dotsData['direction'] == 'left'] \\\n",
    "                            .groupby('coherence') \\\n",
    "                            .apply(lambda df: (df['choice'] == 'right').mean())\n",
    "\n",
    "# flip sign of coherence (which is the index) for leftPsychometricFunction to combine left and right afterwards\n",
    "leftPsychometricFunction.index *= -1\n",
    "\n",
    "# combine the three psychometric functions in one Series\n",
    "psychometricFunction = pd.concat([leftPsychometricFunction, zeroPsychometricFunction, rightPsychometricFunction]) \\\n",
    "                            .sort_index()\n",
    "\n",
    "plt.figure()\n",
    "psychometricFunction.plot()\n",
    "plt.xlabel('Coherence')\n",
    "plt.ylabel('Fraction of right choices')\n",
    "plt.title('Psychometric function')\n",
    "plt.show()"
   ]
  },
  {
   "cell_type": "markdown",
   "metadata": {
    "colab_type": "text",
    "id": "8R5_3bPHRalu"
   },
   "source": [
    "**EXPECTED OUTPUT**\n",
    "\n",
    "![](https://github.com/ccnss/ccnss2018_students/raw/master/module2/3_psychophysics_and_probabilistic_modelling/figures/expected_ex4.png)"
   ]
  },
  {
   "cell_type": "markdown",
   "metadata": {
    "colab_type": "text",
    "id": "0-xX6byxRalv"
   },
   "source": [
    "# Probabilistic modelling\n",
    "\n",
    "## Background : Optimism Task\n",
    "\n",
    "Optimists hold positive a priori beliefs about the future. In Bayesian statistical theory, a priori beliefs can be overcome by experience. However, optimistic beliefs can at times appear surprisingly resistant to evidence, suggesting that optimism might also influence how new information is selected and learned. \n",
    "\n",
    "Here, we will model how inate optimistic biases influence behaviour in a Pavlovian conditioning task. That is, how participants prior beliefs about *'How likely is something good to happen'* will change their behaviour in a pavlovian instrumental task. \n",
    "\n",
    "*** Task ***\n",
    "\n",
    "The experiment contained two types of screens (See figure below): \n",
    "    1 - a series of observation screens which subjects have to passively observe. On each of these screens a fractal stimulus was shown to be associated with a binary reward (the presentation of the fractal was followed after 700 ms by the presentation of a full treasure chest) or not (the fractal led to an empty treasure chest); \n",
    "    2 - Participants were then asked to choose between a fractal stimulus (that was observed a couple of times paired with treasures or not),  and a blue square with known probability of winning. In this decision phase, the subjects were told to maximize reward gains.\n",
    "\n",
    "![](https://github.com/ccnss/ccnss2018_students/raw/master/module2/3_psychophysics_and_probabilistic_modelling/figures/Optimism_task.png)\n",
    "\n",
    "In the example above, the subject sees the yellow fractal twice. Once associated with a reward (full treasure chest), and once without a reward (empty treasure chest). That is, the expected value of the yellow fractal is 0.5 (i.e.: 1 reward + 0 reward / 2 presentations). The participant then arrives to a decision screen (D1), where he/she needs to make a 2-Alternative Force Choice (2-AFC) between the yellow fractal , or the blue target. \n",
    "\n",
    "The probability of the blue target to result in a reward (expected value), is 0.6, denoted by the number of black dots out of 10 (i.e. 6 black dots out of 10). In this particular example, the participant should choose the blue target if he/she wants to maximize the chance of getting a reward on that trial. This is because the expected value of the yellow fractal is 0.5, while the known expected value of the target is 0.6. This means that the target has a higher probability of leading to a rewards than the fractal.\n",
    "\n",
    "Participants see 60 different fractals, seeing each fractal from 3 and up to 8 times each. Since participants cannot accurately count and remember the number of times each fractal was presented with a reward, they must rely on heuristics and/or an appoximation and/or 'gut-feeling' about the *'goodness of a fractal'* based on previous experience with that fractal. This is where we believe the participants' *'optimism bias'* will come into play and shift their decisions.\n",
    "\n",
    "**Refs**\n",
    "\n",
    "* [Optimism as a prior belief about the probability of future reward.](http://journals.plos.org/ploscompbiol/article?id=10.1371/journal.pcbi.1003605) Stankevicius A, Huys QJ, Kalra A, Seriès P., PLoS computational biology. 2014 May 22;10(5):e1003605."
   ]
  },
  {
   "cell_type": "markdown",
   "metadata": {
    "colab_type": "text",
    "id": "dc3nLk-rRalw"
   },
   "source": [
    "**EXERCISE 5**\n",
    "\n",
    "Loading the data\n",
    "\n",
    "**Instructions**\n",
    "\n",
    "* Read the data from file `Optimism_data.csv` or `Optimism_data.txt`\n",
    "* Each line is one decision trial, the columnns encode\n",
    "    - Column 1: the subject number\n",
    "    - Column 2: the number of times a fractal was rewarded\n",
    "    - Column 3: the number of times a fractal was presented\n",
    "    - Column 4: (ignore for now) \n",
    "    - Column 5: the target probability of reward\n",
    "    - Column 6: Whether participant chose the fractal (1) or target (2)\n",
    "    - ignore other columns\n",
    "* The decision / choice is encoded as: 1 = chooses fractal stimulus, 2 = chooses target stimulus\n",
    "* Replace numbers '1' and '2' by 1 and 0 respectively\n",
    "\n",
    "   Hint: look up function `df.replace()` from Pandas\n",
    "\n",
    "* Print the first 5 rows of the data\n",
    "\n",
    "   Hint: look up function `df.head()` from Pandas"
   ]
  },
  {
   "cell_type": "code",
   "execution_count": 5,
   "metadata": {
    "colab": {
     "autoexec": {
      "startup": false,
      "wait_interval": 0
     }
    },
    "colab_type": "code",
    "id": "-xJHB1D5Ralx"
   },
   "outputs": [
    {
     "data": {
      "text/html": [
       "<div>\n",
       "<style scoped>\n",
       "    .dataframe tbody tr th:only-of-type {\n",
       "        vertical-align: middle;\n",
       "    }\n",
       "\n",
       "    .dataframe tbody tr th {\n",
       "        vertical-align: top;\n",
       "    }\n",
       "\n",
       "    .dataframe thead th {\n",
       "        text-align: right;\n",
       "    }\n",
       "</style>\n",
       "<table border=\"1\" class=\"dataframe\">\n",
       "  <thead>\n",
       "    <tr style=\"text-align: right;\">\n",
       "      <th></th>\n",
       "      <th>subject_id</th>\n",
       "      <th>rewarded</th>\n",
       "      <th>presented</th>\n",
       "      <th>bin_coef</th>\n",
       "      <th>target_coef</th>\n",
       "      <th>choice</th>\n",
       "      <th>true_a</th>\n",
       "      <th>true_b</th>\n",
       "      <th>true_mean</th>\n",
       "      <th>true_tau</th>\n",
       "    </tr>\n",
       "  </thead>\n",
       "  <tbody>\n",
       "    <tr>\n",
       "      <th>0</th>\n",
       "      <td>1</td>\n",
       "      <td>0</td>\n",
       "      <td>3</td>\n",
       "      <td>0.000000</td>\n",
       "      <td>0.7</td>\n",
       "      <td>0.0</td>\n",
       "      <td>2.202258</td>\n",
       "      <td>1.109709</td>\n",
       "      <td>0.66494</td>\n",
       "      <td>0.794176</td>\n",
       "    </tr>\n",
       "    <tr>\n",
       "      <th>1</th>\n",
       "      <td>1</td>\n",
       "      <td>3</td>\n",
       "      <td>4</td>\n",
       "      <td>0.750000</td>\n",
       "      <td>0.3</td>\n",
       "      <td>0.0</td>\n",
       "      <td>2.202258</td>\n",
       "      <td>1.109709</td>\n",
       "      <td>0.66494</td>\n",
       "      <td>0.794176</td>\n",
       "    </tr>\n",
       "    <tr>\n",
       "      <th>2</th>\n",
       "      <td>1</td>\n",
       "      <td>3</td>\n",
       "      <td>4</td>\n",
       "      <td>0.750000</td>\n",
       "      <td>0.2</td>\n",
       "      <td>1.0</td>\n",
       "      <td>2.202258</td>\n",
       "      <td>1.109709</td>\n",
       "      <td>0.66494</td>\n",
       "      <td>0.794176</td>\n",
       "    </tr>\n",
       "    <tr>\n",
       "      <th>3</th>\n",
       "      <td>1</td>\n",
       "      <td>8</td>\n",
       "      <td>9</td>\n",
       "      <td>0.888889</td>\n",
       "      <td>0.1</td>\n",
       "      <td>1.0</td>\n",
       "      <td>2.202258</td>\n",
       "      <td>1.109709</td>\n",
       "      <td>0.66494</td>\n",
       "      <td>0.794176</td>\n",
       "    </tr>\n",
       "    <tr>\n",
       "      <th>4</th>\n",
       "      <td>1</td>\n",
       "      <td>3</td>\n",
       "      <td>3</td>\n",
       "      <td>1.000000</td>\n",
       "      <td>0.5</td>\n",
       "      <td>1.0</td>\n",
       "      <td>2.202258</td>\n",
       "      <td>1.109709</td>\n",
       "      <td>0.66494</td>\n",
       "      <td>0.794176</td>\n",
       "    </tr>\n",
       "  </tbody>\n",
       "</table>\n",
       "</div>"
      ],
      "text/plain": [
       "   subject_id  rewarded  presented  bin_coef  target_coef  choice    true_a  \\\n",
       "0           1         0          3  0.000000          0.7     0.0  2.202258   \n",
       "1           1         3          4  0.750000          0.3     0.0  2.202258   \n",
       "2           1         3          4  0.750000          0.2     1.0  2.202258   \n",
       "3           1         8          9  0.888889          0.1     1.0  2.202258   \n",
       "4           1         3          3  1.000000          0.5     1.0  2.202258   \n",
       "\n",
       "     true_b  true_mean  true_tau  \n",
       "0  1.109709    0.66494  0.794176  \n",
       "1  1.109709    0.66494  0.794176  \n",
       "2  1.109709    0.66494  0.794176  \n",
       "3  1.109709    0.66494  0.794176  \n",
       "4  1.109709    0.66494  0.794176  "
      ]
     },
     "execution_count": 5,
     "metadata": {},
     "output_type": "execute_result"
    }
   ],
   "source": [
    "#insert code here\n",
    "\n",
    "data_file = os.path.join(data_folder, 'optimism_data.csv')\n",
    "\n",
    "df = pd.read_csv(data_file, delimiter=',')\n",
    "\n",
    "df.replace({'choice': {1.: '1', 2.: '0'},\n",
    "                 }, inplace=True)\n",
    "\n",
    "df['choice'] = df['choice'].astype(np.float)\n",
    "\n",
    "df.head()"
   ]
  },
  {
   "cell_type": "markdown",
   "metadata": {
    "colab_type": "text",
    "id": "eKJG3wK1Ral0"
   },
   "source": [
    "**EXPECTED OUTPUT**\n",
    "\n",
    "![](https://github.com/ccnss/ccnss2018_students/raw/master/module2/3_psychophysics_and_probabilistic_modelling/figures/expected_ex5.png)"
   ]
  },
  {
   "cell_type": "markdown",
   "metadata": {
    "colab_type": "text",
    "id": "LPZaIT1cRal0"
   },
   "source": [
    "**EXERCISE 6**\n",
    "\n",
    "Calculate and plot the probability of accepting 'target' as a function of the difference between the true expected value of the fractal and that of the target.\n",
    "\n",
    "We provide skeletton code using 'Pandas' to extract the probability of accepting 'target' for different bins. But this can also be done manually using numpy arrays, or using histogram functions (e.g. `plt.hist()` or `np.hist()`), which returns the counts for different specficied bins. You can choose to solve this exercise with the tools you find most convenient.\n",
    "\n",
    "**Instructions**\n",
    "\n",
    "* For each trial, calculate the difference between the expected reward of fractal and target \n",
    "* Bin the difference values into bins of fractal-target with the following range : `freq_bins=[-1.01, -0.5, 0, 0.5, 1.01]`\n",
    "* Calculate the mean acceptance rate per bin and plot it for subject 24.\n",
    "* Fit a sigmoidal response curve to the participant data and plot it\n",
    "\n",
    "   Hint: use the sigmoid function below, you may want to use the function `sp.optimize.curve_fit()`"
   ]
  },
  {
   "cell_type": "code",
   "execution_count": 0,
   "metadata": {
    "colab": {
     "autoexec": {
      "startup": false,
      "wait_interval": 0
     }
    },
    "colab_type": "code",
    "id": "zIpvLxwpRal2"
   },
   "outputs": [],
   "source": [
    "def sigmoid(x, x0, k):\n",
    "    y = 1 / (1 + np.exp(-k*(x-x0)))\n",
    "    return y\n",
    "  \n",
    "# insert your code below\n",
    "\n",
    "# Create column 'diff_frac2targ' which computes difference in expected value between fractal and target\n",
    "df['diff_frac2targ']=\n",
    "\n",
    "# Define the bins for plotting psychometric curve\n",
    "freq_bins= \n",
    "\n",
    "#Create a 'binned' column and bin each trial as belonging to either bin defined in freq_bins using pd.cut( , )\n",
    "df['binned']= \n",
    "\n",
    "#Select data for subject 24 only, using df.loc[]\n",
    "df1 = \n",
    "\n",
    "#Groupby data for subject 24 using 'binned'\n",
    "choice_groupby_binned = \n",
    "choice_groupby_binned.describe()\n",
    "\n",
    "#Print p(choose fractal) as function of difference in value between fractal & target (you may want to use choice_groupby_binned.mean())\n",
    "\n",
    "#Print sigmoid fit to the data\n",
    "\n",
    "\n",
    "plt.show()"
   ]
  },
  {
   "cell_type": "markdown",
   "metadata": {
    "colab_type": "text",
    "id": "eO7EekGmRal8"
   },
   "source": [
    "**EXPECTED OUTPUT**\n",
    "\n",
    "![](https://github.com/ccnss/ccnss2018_students/raw/master/module2/3_psychophysics_and_probabilistic_modelling/figures/expected_ex6.png)"
   ]
  },
  {
   "cell_type": "markdown",
   "metadata": {
    "colab_type": "text",
    "id": "evk08QEhRal8"
   },
   "source": [
    "** EXERCISE 7**\n",
    "\n",
    "Calculate and plot the psychometric function for all participants 1 to 50\n",
    "\n",
    "**Instructions**\n",
    "\n",
    "* Loop over participants, and process their data sequentially\n",
    "    * Use your previous function which calculates the psychometric curve for a given participant data.\n",
    "    * Plot the participant psychometric curve with keyword `alpha=0.1`\n",
    "* Note how subjects can have different psychometric function that are shifted either left or right; What do you think this means?\n",
    "\n",
    "   Hint: think of it in terms of a bias -- optimism/pessimism"
   ]
  },
  {
   "cell_type": "code",
   "execution_count": 0,
   "metadata": {
    "colab": {
     "autoexec": {
      "startup": false,
      "wait_interval": 0
     }
    },
    "colab_type": "code",
    "id": "X8lOQ6Wd-Fki"
   },
   "outputs": [],
   "source": [
    "# insert your code here\n",
    "\n",
    "\n",
    "plt.figure()\n",
    "plt.ylabel('Probability of choosing `fractal`')\n",
    "plt.xlabel('Binned: Difference in reward probability (Fractal-Target)')\n",
    "plt.title('Psychometric function for all subjects')\n",
    "\n",
    "#Select data for subject 1 only\n",
    "for i in range(len(df['subject_id'].unique())):\n",
    "  # process & plot data one subject at a time"
   ]
  },
  {
   "cell_type": "markdown",
   "metadata": {
    "colab_type": "text",
    "id": "_hC26odcRamB"
   },
   "source": [
    "**EXPECTED OUTPUT**\n",
    "\n",
    "![](https://github.com/ccnss/ccnss2018_students/raw/master/module2/3_psychophysics_and_probabilistic_modelling/figures/expected_ex7.png)"
   ]
  },
  {
   "cell_type": "markdown",
   "metadata": {
    "colab_type": "text",
    "id": "-VOdYE6YRamC"
   },
   "source": [
    "## Background : Probabilistic model\n",
    "\n",
    "We will now simulate an optimal observer model for this task.\n",
    "\n",
    "To do so we will use a Beta-Binomial model, with a softmax link function to add some noise in the responses. \n",
    "\n",
    "The probability density for a Binomial distribution is defined as:\n",
    "\n",
    "\\begin{align*} Binom\\left(N_i,n_i\\right) = \\binom{N_i}{n_i} \\cdot c_{i}^{n_{i}} (1-c_{i})^{N_{i}-n_{i}}  \\end{align*}\n",
    "\n",
    "where, $n$ is the number of times a fractal was rewarded, and $N$ is the number of times it was presented, $c$ is the probability of being rewarded for that fractal. The maximum likelihood estimates of $c$ can be calculated analytically and correspond to:\n",
    "\n",
    "\\begin{align*} P\\left(c_i\\mid n_i, N_i\\right) = \\frac{n_i}{N_i}\\end{align*}\n",
    "\n",
    "---\n",
    "\n",
    "The standard $Beta$ distribution gives the probability density of a value $x$ on the interval (0,1):\n",
    "\n",
    "\\begin{align*} Beta\\left(\\alpha,\\beta\\right) = \\frac{x^{\\alpha-1}(1-x)^{\\beta-1}} {B(\\alpha,\\beta)}\n",
    "\\end{align*}\n",
    "\n",
    "where , $\\beta$ is the Beta function. As you can see the numerator of the $Beta$ distribution has the same functional form as the Binomial distribution. \n",
    "\n",
    "This is because they come from the same family of probability distributions. This means that the $Beta$ prior is a 'conjugate prior' for the Binomial likelihood. We know the analytical form of the posterior distribution for a BetaBinomial conjugate model, such that the posterior is another Beta distribution. As a result we can simplify our model to taking the expectation (mean) of the posterior (a Beta distribution). That is:\n",
    "\n",
    "\\begin{align*} \\hat{C_i}=\\frac{n_i+\\alpha}{N_i+\\alpha+\\beta}\\end{align*}\n",
    "    \n",
    "The Softmax link function is defined as:\n",
    "    \n",
    "\\begin{align*} P(action=fractal)= \\frac{e^{\\left(\\hat{C_i}/ \\tau\\right)}}{e^{\\left(\\hat{C_i} / \\tau \\right)} + e^{\\left({C_{target}}/ \\tau \\right)}} \\end{align*}\n",
    "\n",
    "where $\\tau$ is a temperature parameter that controls stochasticity (the higher $\\tau$ the more random the behaviour, the lower $\\tau$, the more deterministic the behaviour is).\n",
    "\n",
    "**EXERCISE 8**\n",
    "\n",
    "Let's implement the Softmax function \n",
    "\n",
    "**Instructions**\n",
    "\n",
    "* Implement the Softmax function described above that takes an array of 2 values $x$ as input, as well as a parameter $\\tau$.\n",
    "\n",
    "   Hint: for numerical stability you may want to subtract the maximum of the array $x$ to each item in $x$\n",
    "\n",
    "* Now test your function using the following values, and plot the probability of chosing option 2 as a function of $\\tau$ on the same graph :\n",
    "    * $x=[0,1],\\tau=0.01$, changing $\\tau$ in steps of 0.01 up to 1.2\n",
    "    * $x=[0.2,0.8],\\tau=0.01$, changing $\\tau$ in steps of 0.01 up to 1.2\n",
    "    * $x=[0.4,0.6],\\tau=0.01$, changing $\\tau$ in steps of 0.01 up to 1.2\n",
    "    * $x=[0.49,0.51],\\tau=0.01$, changing $\\tau$ in steps of 0.01 up to 1.2\n",
    "* See how increasing the temperature leads to more 'random' behaviour (choosing the best option -- option 2), while low temperature leads to a 'greedy-like' behaviour (always choosing the option with the highest value). This is why we say that the temperature parameter $\\tau$ controls the exploration/exploitation trade-off.\n",
    "* (optional) Create an interactive bar plot of the softmax probability for $x=[0.4, 0.6, 0.5]$ and interactive values of $\\tau$. See how $\\tau$ changes increases/decreases the distance between the two options as we decrease/increase $\\tau$ respectively. "
   ]
  },
  {
   "cell_type": "code",
   "execution_count": 0,
   "metadata": {
    "colab": {
     "autoexec": {
      "startup": false,
      "wait_interval": 0
     }
    },
    "colab_type": "code",
    "id": "zhbINgBv-hzL"
   },
   "outputs": [],
   "source": [
    "#insert and complete code below \n",
    "\n",
    "\n",
    "def get_softmax(x,tau):\n",
    "    \"\"\"\n",
    "    Function that implements the softmax link function\n",
    "    ----------\n",
    "    x: array of 2 values \n",
    "        Success rates Ci for each option 1 & 2 (in our case success probability of Fractal vs. Target)\n",
    "    tau: integer > 0 \n",
    "        Temperature parameter\n",
    "    \n",
    "    Returns\n",
    "    -------\n",
    "    likelihood: \n",
    "        probability of chosing each value of x respectively, as a function of tau, and values of x\n",
    "    \"\"\"\n",
    "    \n",
    "    return \n",
    "\n",
    "plt.figure()\n",
    "\n",
    "plt.xlabel('Tau')\n",
    "plt.ylabel('Probability of chosing x[1] vs. x[0]')\n",
    "plt.legend(loc='best')\n",
    "\n",
    "plt.show()"
   ]
  },
  {
   "cell_type": "markdown",
   "metadata": {
    "colab_type": "text",
    "id": "XXdpwtIGRamG"
   },
   "source": [
    "*** EXPECTED OUTPUT ***\n",
    "\n",
    "![](https://github.com/ccnss/ccnss2018_students/raw/master/module2/3_psychophysics_and_probabilistic_modelling/figures/expected_ex8.png)"
   ]
  },
  {
   "cell_type": "code",
   "execution_count": 0,
   "metadata": {
    "colab": {
     "autoexec": {
      "startup": false,
      "wait_interval": 0
     }
    },
    "colab_type": "code",
    "id": "iPUK7OM3RamH"
   },
   "outputs": [],
   "source": [
    "# Optional -- change the value of tau by moving the slider\n",
    "# see how decreasing tau behaves in a 'winner takes-all' manner, while increasing tau give equiprobable action selection\n",
    "\n",
    "def plot_hist(tau):\n",
    "    x = [0.4, 0.6, 0.5]\n",
    "    plt.bar(range(3), get_softmax(x,tau))\n",
    "    plt.ylim([0,1])\n",
    "    plt.ylabel(r\"P( choose x_i | values (x1,x2,xN) )\")\n",
    "    plt.xlabel('Action')\n",
    "    plt.xticks(range(3), ('x1', 'x2', 'x3'))\n",
    "    plt.show()\n",
    "\n",
    "widgets.interact(plot_hist, tau=(0.01,1.5,0.01));\n"
   ]
  },
  {
   "cell_type": "markdown",
   "metadata": {
    "colab_type": "text",
    "id": "cjAFuUG_RamJ"
   },
   "source": [
    "**EXERCISE 9**\n",
    "\n",
    "Let's implement the BetaBinomial model and see how the amount of evidence for the Likelihood, or the strength (peakiness) of the prior affects the posterior mean of the BetaBinomial model.\n",
    "\n",
    "In our case, the prior location (mean) defines the participants' optimism/pessimism, and the prior strength (peakiness) defines the 'strength' of that optimism/pessimism bias. \n",
    "\n",
    "\n",
    "**Instructions**\n",
    "\n",
    "* Implement the `get_mean_BetaBinomial` function described above that takes arguments the following parameters $a$, $b$, $n$, and $N$. Where $a$ and $b$ control the shape parameters of the Beta distribution, and $n$, $N$ controls the number of rewarded presentations and the total number of presentations respectively.\n",
    "* Now test your function using the following values, and use the appended plot funciont to plot the probability distribution of Beta given the parameters $a$ and $b$, as well as the mean of the posterior returned by your function :\n",
    "    * $a=5,b=5$, $n=5$, $N=10$\n",
    "    * $a=5,b=5$, $n=1$, $N=2$. Although the ratio $\\frac{n}{N}$ is the same, see how the number of observation affect the posterior (try also, $a=1.1,a=1.1$, $n=5$, $N=10$)\n",
    "* Let's explore how having a pessimistic bias (i.e. low Beta prior) affects our estimations\n",
    "    * $a=2,b=5$, $n=5$, $N=10$. \n",
    "    * $a=2,b=5$, $n=1$, $N=2$. \n",
    "* Let's explore how having a strong optimistic bias (i.e. High Beta prior) affects our estimations\n",
    "    * $a=5,b=1.1$, $n=5$, $N=10$. \n",
    "    * $a=5,b=1.1$, $n=1$, $N=2$. \n",
    "* For each type of prior (non-informative, pessimistic, optimistic), plot the distribution of the prior, the likelihood as a vertical line, and the mean of the prior as a dashed vertical line.\n",
    "* See how the relative evidence of the likelihood, and the 'strength' (i.e. peaky-ness) of the prior affects the estimate of the posterior distribution (i.e. the dot-dashed line)"
   ]
  },
  {
   "cell_type": "code",
   "execution_count": 0,
   "metadata": {
    "colab": {
     "autoexec": {
      "startup": false,
      "wait_interval": 0
     }
    },
    "colab_type": "code",
    "id": "MZRauwFX_QoU"
   },
   "outputs": [],
   "source": [
    "# complete the function `get_mean_BetaBinomial` below\n",
    "\n",
    "def get_mean_BetaBinomial(a, b, n, N):\n",
    "    \"\"\"\n",
    "    Function that implements the BetaBinomial conjugate model and returns the mean of the posterior\n",
    "    \n",
    "    Parameters\n",
    "    ----------\n",
    "    a: float\n",
    "    b: float\n",
    "    n: int =< N\n",
    "    N: int \n",
    "    \n",
    "    Returns\n",
    "    -------\n",
    "    mean of BetaBern posterior: \n",
    "    \n",
    "    \"\"\"\n",
    "    \n",
    "    return \n",
    "\n",
    "def plot_prior_likelihood_posterior(a, b, n, N):\n",
    "    x = np.linspace(0.01,0.99, 100)\n",
    "    plt.plot(x, sp.stats.beta.pdf(x, a, b), lw=5, alpha=0.6, label='Prior: a='+ str(a)+' ,b='+str(b))\n",
    "    plt.axvline((n/N), label='Likelihood: n='+str(n)+' ,N='+str(N))\n",
    "    plt.axvline(get_mean_BetaBinomial(a,b,n,N),linestyle='-.', label='Posterior mean: '+str(round(get_mean_BetaBinomial(a,b,n,N),2)))\n",
    "    plt.legend(loc='best', frameon=False)"
   ]
  },
  {
   "cell_type": "code",
   "execution_count": 0,
   "metadata": {
    "colab": {
     "autoexec": {
      "startup": false,
      "wait_interval": 0
     }
    },
    "colab_type": "code",
    "id": "Zu5uwuNsAOMu"
   },
   "outputs": [],
   "source": [
    "#insert code here"
   ]
  },
  {
   "cell_type": "markdown",
   "metadata": {
    "colab_type": "text",
    "id": "aCsBqVluRamO"
   },
   "source": [
    "*** EXPECTED OUTPUT ***\n",
    "\n",
    "![](https://github.com/ccnss/ccnss2018_students/raw/master/module2/3_psychophysics_and_probabilistic_modelling/figures/expected_ex9.png)"
   ]
  },
  {
   "cell_type": "markdown",
   "metadata": {
    "colab_type": "text",
    "id": "GMmILPPSRamP"
   },
   "source": [
    "**EXERCISE 10**\n",
    "\n",
    "We will now use our Softmax link function and our BetaBinomial function to estimate the $\\alpha$, $\\beta$, and $\\tau$ parameters for each subject.\n",
    "\n",
    "\n",
    "**Instructions**\n",
    "\n",
    "* Complete the function `get_negLL_mean_BetaBinomial(parameters, data)`, where `parameters=[a, b, tau]`\n",
    "* For each subject, use the optimization function `sp.optimize.minimize()` to find the MLE parameters for each subject. Use `initial_guess=[1,1,0.1]` and `bounds=[(0.01,6),(0.01,6),(0.01,0.8)]`\n",
    "\n",
    "   Hint: you may want to use a wrapper as used in the model fitting tutorial\n",
    "   \n",
    "* For all subjects plot the correlation between true model parameters $tau$ and the prior mean $\\frac{a}{a+b}$ and estimated model parameters. The true prior mean, and temperature parameter for each subject is in the dataFrame column 8 and 9 respectively. Does the recovery of parameters look acceptable?\n",
    "    "
   ]
  },
  {
   "cell_type": "code",
   "execution_count": 0,
   "metadata": {
    "colab": {
     "autoexec": {
      "startup": false,
      "wait_interval": 0
     }
    },
    "colab_type": "code",
    "id": "33AwuJTJAcZR"
   },
   "outputs": [],
   "source": [
    "# complete the function below\n",
    "\n",
    "def get_negll_mean_BetaBinom(a,b,tau, data):\n",
    "    '''\n",
    "    Determines the negative loglikelihood of the BetaBinomial model with softmax link function\n",
    "    \n",
    "    Parameters\n",
    "    ----------\n",
    "    parameter : array_like of float\n",
    "        length 3: 1st entry is a (shape of Beta prior), 2nd is b \n",
    "        (2nd shape parameter of Beta prior), 3rd is tau (temperature parameter)\n",
    "        Note: we pack mu and B in one parameter because we want to\n",
    "        make it compatible for later use with sp.optimize.minimize\n",
    "    data : array_like of decision trials.\n",
    "        contains n, N, target_c, and choice\n",
    "        \n",
    "    Returns\n",
    "    -------\n",
    "    nll : float\n",
    "        negative log-likelihood -- don't forget to add a small constant to all likelihoods before you log (e.g. 1e-100)\n",
    "    '''\n",
    "    \n",
    "  \n",
    "    return "
   ]
  },
  {
   "cell_type": "code",
   "execution_count": 0,
   "metadata": {
    "colab": {
     "autoexec": {
      "startup": false,
      "wait_interval": 0
     }
    },
    "colab_type": "code",
    "id": "4T3ECdc-A3EL"
   },
   "outputs": [],
   "source": [
    "# insert your code here\n",
    "\n",
    "get_nll_mean_BetaBinomial_wrapper = \\\n",
    "    lambda parameters, data: get_negll_mean_BetaBinom(parameters[0], parameters[1], \n",
    "                                                      parameters[2], data)\n",
    "\n",
    "# Store parameters found\n",
    "est_a, est_b, est_tau = [], [], []\n",
    "\n",
    "fig, ax = plt.subplots(1, 2, figsize=(2*fig_w, fig_h))\n",
    "\n",
    "#Select data 1 subject at a time\n",
    "for i_subj in # complete\n",
    "    \n",
    "    \n",
    "    # Optimization (find parameters that minimize nll)\n",
    "    res = \n",
    "    \n",
    "    ax[0].plot(    ,    ,'or',alpha=0.6)\n",
    "    \n",
    "    ax[1].plot(    ,    ,'or',alpha=0.6)\n",
    "\n",
    "plt.sca(ax[0])\n",
    "plt.plot(np.arange(0.1,0.95,0.1), 1*np.arange(0.1,0.95,0.1),\n",
    "         '--r', linewidth=2, label='Ideal recovery X=Y')\n",
    "plt.ylim([-0.05,1.05])\n",
    "plt.xlim([-0.05,1.05])\n",
    "plt.ylabel('Estimated mean of prior');\n",
    "plt.xlabel('True mean of prior');\n",
    "plt.legend(loc='best', frameon=False)\n",
    "\n",
    "plt.sca(ax[1])\n",
    "plt.plot(np.arange(0.1,0.95,0.1), 1*np.arange(0.1,0.95,0.1),\n",
    "         '--r', linewidth=2, label='Ideal recovery X=Y')\n",
    "plt.ylim([-0.05,1.05])\n",
    "plt.xlim([-0.05,1.05])\n",
    "plt.ylabel('Estimated Temperature');\n",
    "plt.xlabel('True Temperature');\n",
    "plt.legend(loc='best', frameon=False)\n",
    "\n",
    "plt.show()"
   ]
  },
  {
   "cell_type": "markdown",
   "metadata": {
    "colab_type": "text",
    "id": "Jk33kysuRamU"
   },
   "source": [
    "*** EXPECTED OUTPUT ***\n",
    "\n",
    "![](https://github.com/ccnss/ccnss2018_students/raw/master/module2/3_psychophysics_and_probabilistic_modelling/figures/expected_ex10.png)"
   ]
  },
  {
   "cell_type": "markdown",
   "metadata": {
    "colab_type": "text",
    "id": "Y9_F_5LMRamV"
   },
   "source": [
    "**EXERCISE 11**\n",
    "\n",
    "We have now shown that we can recover the parameters used to generate the data (suggesting that we should normally be able to model behaviour of participant correctly).\n",
    "\n",
    "As a sanity check however, it is usually good practice to plot the fitted model predictions (also called posterior predictive distribution) against the subjects' behaviour.\n",
    "\n",
    "*** Instructions ***\n",
    "\n",
    "* For subject 24:\n",
    "    * Complete the function `sim_mean_BetaBinomial()` described below. \n",
    "    \n",
    "    Hint: You may want to copy your subject data frame, use your previous function `get_mean_BetaBinomial()`, and replace the user choice with the function `np.random.choice()`\n",
    "    \n",
    "    * Run the model with the estimated subject parameters 1000 times and record choices\n",
    "    \n",
    "    Hint: you may want to simulate the same dataset with the same parameters 1000 times to plot the mean and standard deviation of the model predictions per bin\n",
    "    \n",
    "    * Calculate the psychometric function from the simulated model parameters and plot them with error bars\n",
    "    \n",
    "    Hint: You may want to convert your simulated data into a dataFrame\n",
    "    \n",
    "    * Plot the true psychometric function for that participant\n",
    "* Does the model do a good job at recapitulating the data (try for subject 46, and 49)?"
   ]
  },
  {
   "cell_type": "code",
   "execution_count": 0,
   "metadata": {
    "colab": {
     "autoexec": {
      "startup": false,
      "wait_interval": 0
     }
    },
    "colab_type": "code",
    "id": "HS0CDgP7BrDS"
   },
   "outputs": [],
   "source": [
    "# insert code here\n",
    "\n",
    "# please complete the function below\n",
    "def sim_mean_BetaBinomial(a, b, tau, df_data):\n",
    "    '''\n",
    "   Simulates choices (target=0, fractal=1) given the BetaBinomial model with data as presented to participant \n",
    "   and parameters estimated using MLE\n",
    "    \n",
    "    Parameters\n",
    "    ----------\n",
    "    a : a (shape of Beta prior),\n",
    "    b : b (shape parameter of Beta prior)\n",
    "    tau: temperature parameter\n",
    "    df_data : dataframe for one subject only, which contains on each line a different trial with:\n",
    "              n, N, target_c, and choice\n",
    "        \n",
    "    Returns\n",
    "    -------\n",
    "    dataFrame of containing simulated Choices (ie replace true choices) for the same trace of trials presented to the participant\n",
    "    \n",
    "    You may want to use 'np.random.choice' to choose options with a specified probability\n",
    "    '''\n",
    "    \n",
    "    return "
   ]
  },
  {
   "cell_type": "code",
   "execution_count": 0,
   "metadata": {
    "colab": {
     "autoexec": {
      "startup": false,
      "wait_interval": 0
     }
    },
    "colab_type": "code",
    "id": "wwszoOJ0CI4Y"
   },
   "outputs": [],
   "source": [
    "# insert your code here\n",
    "\n",
    "# Select which participant data to plot & simulate\n",
    "\n",
    "# simulate 1000 repeats of the same trial structure\n",
    "\n",
    "#Groupby data for subject 'Subject_id'\n",
    "\n",
    "#Print p(choose fractal) as function of difference in value between fractal & target\n",
    "plt.figure()\n",
    "choice_groupby_binned.mean().plot(xticks=range(len(my_vals)))\n",
    "plt.ylabel('Probability of choosing `fractal`')\n",
    "plt.xlabel('Binned: Difference in reward probability (Fractal-Target)')\n",
    "plt.title('Psychometric function, Subject: '+ str(subject_id))\n",
    "\n",
    "#Print fit to the data\n",
    "my_vals=np.array(choice_groupby_binned.mean())\n",
    "plt.plot(range(len(my_vals)), my_vals, 'o', label='data')\n",
    "# error bar printing mean simulated choice per bin, error bars represent std of simulated choice proportion\n",
    "plt.errorbar(range(len(my_vals)), np.mean(p_accept_sim,axis=0), yerr=np.std(p_accept_sim,axis=0), label='Model posterior predictive fit')\n",
    "plt.legend(loc='best')\n",
    "plt.show()"
   ]
  },
  {
   "cell_type": "markdown",
   "metadata": {
    "colab_type": "text",
    "id": "mtk8ICzXRama"
   },
   "source": [
    "*** EXPECTED OUTPUT ***\n",
    "\n",
    "![](https://github.com/ccnss/ccnss2018_students/raw/master/module2/3_psychophysics_and_probabilistic_modelling/figures/expected_ex11.png)"
   ]
  }
 ],
 "metadata": {
  "colab": {
   "collapsed_sections": [],
   "default_view": {},
   "name": "3_Psychophysics_and_probabilistic_modelling",
   "provenance": [],
   "version": "0.3.2",
   "views": {}
  },
  "kernelspec": {
   "display_name": "Python 3",
   "language": "python",
   "name": "python3"
  },
  "language_info": {
   "codemirror_mode": {
    "name": "ipython",
    "version": 3
   },
   "file_extension": ".py",
   "mimetype": "text/x-python",
   "name": "python",
   "nbconvert_exporter": "python",
   "pygments_lexer": "ipython3",
   "version": "3.6.5"
  }
 },
 "nbformat": 4,
 "nbformat_minor": 1
}
