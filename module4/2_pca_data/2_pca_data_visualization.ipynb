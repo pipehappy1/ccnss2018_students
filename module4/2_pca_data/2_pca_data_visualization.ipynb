{
 "cells": [
  {
   "cell_type": "markdown",
   "metadata": {
    "colab_type": "text",
    "id": "TpnOn58EgfaE"
   },
   "source": [
    "## CCNSS 2018 Module 4: High dimensional representations and neural dynamics\n",
    "# Tutorial 2: Visualization and tools to characterize high-dimensional spaces\n",
    "\n",
    "[source](https://colab.research.google.com/drive/1OouBcak6NF3hli4cDwfZZwdrVSuzKxS1)"
   ]
  },
  {
   "cell_type": "markdown",
   "metadata": {
    "colab_type": "text",
    "id": "hi2UOXjigfaF"
   },
   "source": [
    "*Please execute the cell bellow in order to initialize the notebook environment*"
   ]
  },
  {
   "cell_type": "code",
   "execution_count": 3,
   "metadata": {
    "colab": {
     "autoexec": {
      "startup": false,
      "wait_interval": 0
     }
    },
    "colab_type": "code",
    "id": "nJgJVfSugfaG"
   },
   "outputs": [],
   "source": [
    "import matplotlib.pyplot as plt    # import matplotlib\n",
    "import matplotlib as mp\n",
    "import numpy as np                 # import numpy\n",
    "import math                        # import basic math functions\n",
    "import random                      # import basic random number generator functions\n",
    "#from google.colab import files\n",
    "from scipy.io import loadmat \n",
    "from mpl_toolkits.mplot3d import Axes3D\n",
    "\n",
    "fig_w, fig_h = (6, 4)\n",
    "plt.rcParams.update({'figure.figsize': (fig_w, fig_h)})"
   ]
  },
  {
   "cell_type": "code",
   "execution_count": 4,
   "metadata": {
    "colab": {
     "autoexec": {
      "startup": false,
      "wait_interval": 0
     }
    },
    "colab_type": "code",
    "id": "cmL_5NaAiFen"
   },
   "outputs": [
    {
     "name": "stdout",
     "output_type": "stream",
     "text": [
      "Available data files: .DS_Store ps8_data.mat\n"
     ]
    }
   ],
   "source": [
    "!if [ ! -d data ]; then git clone https://github.com/ccnss/ccnss2018_students; \\\n",
    "                        cp -rf ccnss2018_students/module4/2_pca_data/data ./; fi\n",
    "import os\n",
    "\n",
    "\n",
    "\n",
    "data_folder = 'data'\n",
    "\n",
    "print('Available data files:', ' '.join(os.listdir('data')))"
   ]
  },
  {
   "cell_type": "markdown",
   "metadata": {
    "colab_type": "text",
    "id": "UwXIfh1Y9j66"
   },
   "source": [
    "# Objectives\n",
    "\n",
    "In this notebook we will analyze real high-dimensional data sets and find low-dimensional subspaces that characterize the data. We will relate the eigenvalues of the covariance matrix to the variance of the data and how we can use this to approximate the dimension of the subspace where the data resides.  "
   ]
  },
  {
   "cell_type": "markdown",
   "metadata": {
    "colab_type": "text",
    "id": "HU7L6JxVgfaK"
   },
   "source": [
    "## Background\n",
    "\n",
    "We will continue the previous tutorial on PCA. We we will look at high dimensional spike-count data. In particular, we will:\n",
    "\n",
    "\n",
    "* Use spike-count data and calculate its principal components.\n",
    "* We will calculate and plot the eigenvalue spectrum and qualitatively and quantitatively reduce the dimensionality of the data set. \n",
    "* Use factor analysis applied on the same data set and compare the results to the results obtained with PCA\n",
    "\n",
    "\n",
    "In the first three exercises, we will characterize the data \"blindly\", i.e., without regards to its content. \n",
    "\n",
    "\n"
   ]
  },
  {
   "cell_type": "markdown",
   "metadata": {
    "colab_type": "text",
    "id": "L58fdqcNgfaM"
   },
   "source": [
    "**EXERCISE 1**\n",
    "\n",
    "• Import the data from using the function \"loadmat\" from the the scipy package. The data is a 728 × 97 matrix of real data, where each row is a spike count vector across 97 simultaneously-recorded neurons. We are providing you here with the spike counts rather than the raw spike trains, where the spike counts are taken in a 200 ms bin during the plan period. (data courtesy from the Krishna Shenoy Lab). D = 97 is the dimensionality of the data. \n",
    "\n"
   ]
  },
  {
   "cell_type": "code",
   "execution_count": 14,
   "metadata": {
    "colab": {
     "autoexec": {
      "startup": false,
      "wait_interval": 0
     }
    },
    "colab_type": "code",
    "id": "xTPDd7-yznXs"
   },
   "outputs": [
    {
     "name": "stdout",
     "output_type": "stream",
     "text": [
      "(728, 97)\n"
     ]
    }
   ],
   "source": [
    "data_file = os.path.join(data_folder, 'ps8_data.mat')\n",
    "data_all = loadmat(data_file)\n",
    "data_matrix = data_all['Xplan']\n",
    "shape = np.shape(data_matrix)\n",
    "print(shape)"
   ]
  },
  {
   "cell_type": "markdown",
   "metadata": {
    "colab_type": "text",
    "id": "LC56amWvgfaZ"
   },
   "source": [
    "\n",
    "- Calculate the covariance matrix for this data and print the output.\n"
   ]
  },
  {
   "cell_type": "code",
   "execution_count": 19,
   "metadata": {
    "colab": {
     "autoexec": {
      "startup": false,
      "wait_interval": 0
     }
    },
    "colab_type": "code",
    "id": "XOz_qKiJvcKj"
   },
   "outputs": [
    {
     "name": "stdout",
     "output_type": "stream",
     "text": [
      "[[ 5.48868412  0.63116715 -0.70569252 ...  1.60639653  1.39476359\n",
      "   0.6593879 ]\n",
      " [ 0.63116715  1.70214603 -0.15389906 ...  0.4417163   0.09705133\n",
      "   0.14528886]\n",
      " [-0.70569252 -0.15389906  1.43159454 ... -0.54962438 -0.73256798\n",
      "  -0.22764787]\n",
      " ...\n",
      " [ 1.60639653  0.4417163  -0.54962438 ... 12.10523263  1.35439749\n",
      "   1.48400963]\n",
      " [ 1.39476359  0.09705133 -0.73256798 ...  1.35439749  3.77864587\n",
      "   0.68621045]\n",
      " [ 0.6593879   0.14528886 -0.22764787 ...  1.48400963  0.68621045\n",
      "   3.36812242]]\n"
     ]
    }
   ],
   "source": [
    "#Insert code here\n",
    "\n",
    "cov_matrix = np.cov(np.transpose(data_matrix))\n",
    "print(cov_matrix)"
   ]
  },
  {
   "cell_type": "markdown",
   "metadata": {
    "colab_type": "text",
    "id": "uOtweCUuxZ5J"
   },
   "source": [
    "###Expected output:###\n",
    "```\n",
    "Y(cov_matrix) =  [[ 5.48114471  0.63030016 -0.70472316 ...  1.60418994  1.39284771\n",
    "   0.65848214]\n",
    " [ 0.63030016  1.69980792 -0.15368766 ...  0.44110954  0.09691802\n",
    "   0.14508929]\n",
    " [-0.70472316 -0.15368766  1.42962806 ... -0.5488694  -0.73156171\n",
    "  -0.22733516]\n",
    " ...\n",
    " [ 1.60418994  0.44110954 -0.5488694  ... 12.08860456  1.35253706\n",
    "   1.48197115]\n",
    " [ 1.39284771  0.09691802 -0.73156171 ...  1.35253706  3.77345543\n",
    "   0.68526786]\n",
    " [ 0.65848214  0.14508929 -0.22733516 ...  1.48197115  0.68526786\n",
    "   3.36349588]]\n",
    "```"
   ]
  },
  {
   "cell_type": "markdown",
   "metadata": {
    "colab_type": "text",
    "id": "5eUyc5fwvaA3"
   },
   "source": []
  },
  {
   "cell_type": "markdown",
   "metadata": {
    "colab_type": "text",
    "id": "DtVAnrjzgfaa"
   },
   "source": [
    "**EXERCISE 2**\n",
    "\n",
    "- Plot the eigenvalue spectrum. **Hint**: use the function np.linalg.eig.\n",
    "\n",
    " If you had to identify an\n",
    "elbow in the eigenvalue spectrum, how many dominant eigenvalues would there be? "
   ]
  },
  {
   "cell_type": "code",
   "execution_count": 29,
   "metadata": {
    "colab": {
     "autoexec": {
      "startup": false,
      "wait_interval": 0
     }
    },
    "colab_type": "code",
    "id": "24Cf1zA0vrtC"
   },
   "outputs": [
    {
     "data": {
      "image/png": "[encoded data removed]",
      "text/plain": [
       "<Figure size 432x288 with 1 Axes>"
      ]
     },
     "metadata": {},
     "output_type": "display_data"
    }
   ],
   "source": [
    "# Insert code here\n",
    "eig_val, eig_vec = np.linalg.eig(cov_matrix)\n",
    "idx = eig_val.argsort()[::-1]   \n",
    "eigenValues = eig_val[idx]\n",
    "eigenVectors = eig_vec[:,idx]\n",
    "\n",
    "plt.plot(eigenValues)\n",
    "plt.show()"
   ]
  },
  {
   "cell_type": "markdown",
   "metadata": {
    "colab_type": "text",
    "id": "_AHDGwEc0Zdd"
   },
   "source": [
    "### Expected output:###\n",
    "\n",
    "\n",
    "![](https://github.com/ccnss/ccnss2018_students/raw/master/module4/2_pca_data/figures/Mod4T2E2.png)"
   ]
  },
  {
   "cell_type": "markdown",
   "metadata": {
    "colab_type": "text",
    "id": "dBaNGN8vJrbM"
   },
   "source": [
    "**EXERCISE 3**\n",
    "\n",
    "- What percentage of the overall variance is captured by the top 3 principal components (corresponding to the three dominant eigenvalues)?\n",
    "Hint: The overall variance is given by the trace of the covariance matrix, which coincides with the sum of the eigenvalues. \n"
   ]
  },
  {
   "cell_type": "code",
   "execution_count": 25,
   "metadata": {
    "colab": {
     "autoexec": {
      "startup": false,
      "wait_interval": 0
     }
    },
    "colab_type": "code",
    "id": "YfGinZ3qvukJ"
   },
   "outputs": [
    {
     "data": {
      "text/plain": [
       "0.4479099355314796"
      ]
     },
     "execution_count": 25,
     "metadata": {},
     "output_type": "execute_result"
    }
   ],
   "source": [
    "# Insert code here\n",
    "np.sum(eigenValues[:3])/np.sum(eigenValues)"
   ]
  },
  {
   "cell_type": "markdown",
   "metadata": {
    "colab_type": "text",
    "id": "sfN2V_sx4_8c"
   },
   "source": [
    "### Expected output:###\n",
    "\n",
    "\n",
    "```\n",
    "3eigval_percent =  44.790993553148\n",
    "```\n",
    "\n"
   ]
  },
  {
   "cell_type": "markdown",
   "metadata": {
    "colab_type": "text",
    "id": "Q1ViIKL04LtK"
   },
   "source": [
    "- Plot the fraction of explained variance as a function of eigenvalue/principal component number (The x axis is thus serially ordered: 1, 2, ..97.). On top of that plot, plot the cumulative variance. How many principal components do you need to explain 80% of the variance? "
   ]
  },
  {
   "cell_type": "code",
   "execution_count": 35,
   "metadata": {
    "colab": {
     "autoexec": {
      "startup": false,
      "wait_interval": 0
     }
    },
    "colab_type": "code",
    "id": "k94omLd9v7_k"
   },
   "outputs": [
    {
     "data": {
      "image/png": "[encoded data removed]",
      "text/plain": [
       "<Figure size 432x288 with 1 Axes>"
      ]
     },
     "metadata": {},
     "output_type": "display_data"
    }
   ],
   "source": [
    "# Insert code here\n",
    "D = cov_matrix.shape[0]\n",
    "\n",
    "v_accum = np.zeros(D)\n",
    "v_frac = np.zeros(D)\n",
    "for i in range(D):\n",
    "    \n",
    "    v_accum[i] = np.sum(eigenValues[:i])/np.sum(eigenValues)\n",
    "    v_frac[i] = eigenValues[i]/np.sum(eigenValues)\n",
    "    \n",
    "plt.plot(np.arange(D), v_accum)\n",
    "plt.plot(np.arange(D), v_frac)\n",
    "plt.show()"
   ]
  },
  {
   "cell_type": "markdown",
   "metadata": {
    "colab_type": "text",
    "id": "hn6Reg522gRu"
   },
   "source": [
    "### Expected output:###\n",
    "\n",
    "![](https://github.com/ccnss/ccnss2018_students/raw/master/module4/2_pca_data/figures/Mod4T2E3.png)"
   ]
  },
  {
   "cell_type": "markdown",
   "metadata": {
    "colab_type": "text",
    "id": "CmrrLOob2iKo"
   },
   "source": [
    "\n",
    "- Check that the three eigenvectors are orthogonal. "
   ]
  },
  {
   "cell_type": "code",
   "execution_count": 36,
   "metadata": {
    "colab": {
     "autoexec": {
      "startup": false,
      "wait_interval": 0
     }
    },
    "colab_type": "code",
    "id": "aeVWYeOfv5LL"
   },
   "outputs": [
    {
     "name": "stdout",
     "output_type": "stream",
     "text": [
      "-4.718447854656915e-16\n",
      "8.187894806610529e-16\n",
      "2.636779683484747e-16\n"
     ]
    }
   ],
   "source": [
    "# Insert code here\n",
    "print(np.dot(eigenVectors[:,0], eigenVectors[:,1]))\n",
    "print(np.dot(eigenVectors[:,1], eigenVectors[:,2]))\n",
    "print(np.dot(eigenVectors[:,2], eigenVectors[:,3]))"
   ]
  },
  {
   "cell_type": "markdown",
   "metadata": {
    "colab_type": "text",
    "id": "1MJG1dNv-JE8"
   },
   "source": [
    "### Expected output:###\n",
    "```12dot =  3.622102617839573e-15\n",
    "23dot =  -1.8370721610594387e-15\n",
    "13dot =  -4.996003610813204e-16```"
   ]
  },
  {
   "cell_type": "markdown",
   "metadata": {
    "colab_type": "text",
    "id": "W3l88MW_HGTl"
   },
   "source": [
    "**EXERCISE 4**\n",
    "\n",
    "##Background:\n",
    "We will now look at the data set more closely. The data set was collected during a reaching task for which there were 8 reaching angles in total. There are 91 trials for each of 8 reaching angles, for a total of 728 trials. Trials 1 to 91 correspond\n",
    "to reaching angle 1, trials 92 to 182 correspond to reach angle 2, etc.\n",
    "\n",
    "For the purposes of visualization, we’ll consider the PC space defined\n",
    "by the top M = 3 eigenvectors and project the data into the three-dimensional PC\n",
    "space. \n",
    "\n",
    "- First, write a function \"projections\" that returns projections of a matrix onto an aribitrary vector. Calculate the projection of the data matrix onto each of the 3 principal components. Print the variance of each of the projections.\n",
    "\n"
   ]
  },
  {
   "cell_type": "code",
   "execution_count": 39,
   "metadata": {
    "colab": {
     "autoexec": {
      "startup": false,
      "wait_interval": 0
     }
    },
    "colab_type": "code",
    "id": "nxoe8U-Jv_rY"
   },
   "outputs": [
    {
     "data": {
      "text/plain": [
       "array([73.92634407, 51.72433194, 44.06674037])"
      ]
     },
     "execution_count": 39,
     "metadata": {},
     "output_type": "execute_result"
    }
   ],
   "source": [
    "# insert code here\n",
    "def projections(data_matrix, vectors):\n",
    "    return np.dot(data_matrix, vectors)\n",
    "\n",
    "vector3 = eigenVectors[:, :3]\n",
    "projected = projections(data_matrix, vector3)\n",
    "np.var(projected, 0)"
   ]
  },
  {
   "cell_type": "markdown",
   "metadata": {
    "colab_type": "text",
    "id": "GIfXaNe6wHcI"
   },
   "source": [
    "### Expected output ###\n",
    "```\n",
    "var1 = 73.92634407392778\n",
    "var2 = 51.72433194336624\n",
    "var3 = 44.066740370624785\n",
    "```"
   ]
  },
  {
   "cell_type": "markdown",
   "metadata": {
    "colab_type": "text",
    "id": "ffJNPRiSAFC7"
   },
   "source": [
    "\n",
    "\n",
    "- Plot the projected points in matplotlib using ax = fig.add_subplot(111, projection='3d') and ax.scatter\n",
    " , and color each dot\n",
    "appropriately according to reaching angle (there should be a total of 728 dots, 91 for each angle). Show a view in\n",
    "which the clusters are well-separated by using ax.view_init(a) where a is a rotation angle. \n"
   ]
  },
  {
   "cell_type": "code",
   "execution_count": 44,
   "metadata": {
    "colab": {
     "autoexec": {
      "startup": false,
      "wait_interval": 0
     }
    },
    "colab_type": "code",
    "id": "f2BbW0TPwNSg"
   },
   "outputs": [
    {
     "data": {
      "image/png": "[encoded data removed]",
      "text/plain": [
       "<Figure size 432x288 with 1 Axes>"
      ]
     },
     "metadata": {},
     "output_type": "display_data"
    }
   ],
   "source": [
    "## Insert code here\n",
    "fig = plt.gcf()\n",
    "ax = fig.add_subplot(111, projection='3d')\n",
    "import matplotlib.cm as cm\n",
    "colors = cm.rainbow(np.linspace(0, 1, int(728/91)))\n",
    "for i in range(int(728/91)):\n",
    "    ax.scatter(projected[i*91:(i+1)*91,0], projected[i*91:(i+1)*91,1], projected[i*91:(i+1)*91,2], c=colors[i])\n",
    "plt.show()"
   ]
  },
  {
   "cell_type": "markdown",
   "metadata": {
    "colab_type": "text",
    "id": "KGh6obHoGqr1"
   },
   "source": [
    "###Expected output ###\n",
    "![](https://github.com/ccnss/ccnss2018_students/raw/master/module4/2_pca_data/figures/Mod4T2E4.png)"
   ]
  },
  {
   "cell_type": "markdown",
   "metadata": {
    "colab_type": "text",
    "id": "y82jOtCrAg84"
   },
   "source": [
    "- How does the variance of the projections along the eigenvectors relate to the corresponding eigenvalues?"
   ]
  },
  {
   "cell_type": "code",
   "execution_count": 47,
   "metadata": {
    "colab": {
     "autoexec": {
      "startup": false,
      "wait_interval": 0
     }
    },
    "colab_type": "code",
    "id": "QQHY4O_owSFH"
   },
   "outputs": [
    {
     "name": "stdout",
     "output_type": "stream",
     "text": [
      "73.92634407392775\n",
      "51.72433194336624\n",
      "44.06674037062481\n",
      "74.0280309296003\n",
      "51.79547958015219\n",
      "44.12735486907146\n"
     ]
    }
   ],
   "source": [
    "## Insert code here\n",
    "print(np.var(projected[:, 0]))\n",
    "print(np.var(projected[:, 1]))\n",
    "print(np.var(projected[:, 2]))\n",
    "print(eigenValues[0])\n",
    "print(eigenValues[1])\n",
    "print(eigenValues[2])"
   ]
  },
  {
   "cell_type": "markdown",
   "metadata": {
    "colab_type": "text",
    "id": "DOGqwfHVdwwR"
   },
   "source": [
    "- In the 3-PC space, plot the centroid of the dot pattern, for each angle. The centroid is essentially the mean over the three directions. You should obtain a plot with 8 colored dots. \\\n",
    "\n",
    "How do you think these clusters map onto physical (reach angle space)?"
   ]
  },
  {
   "cell_type": "code",
   "execution_count": 49,
   "metadata": {
    "colab": {
     "autoexec": {
      "startup": false,
      "wait_interval": 0
     }
    },
    "colab_type": "code",
    "id": "dh2ZmdzfwW3R"
   },
   "outputs": [
    {
     "data": {
      "image/png": "[encoded data removed]",
      "text/plain": [
       "<Figure size 432x288 with 1 Axes>"
      ]
     },
     "metadata": {},
     "output_type": "display_data"
    }
   ],
   "source": [
    "### Insert code here\n",
    "\n",
    "fig = plt.gcf()\n",
    "ax = fig.add_subplot(111, projection='3d')\n",
    "import matplotlib.cm as cm\n",
    "colors = cm.rainbow(np.linspace(0, 1, int(728/91)))\n",
    "\n",
    "mean3d = np.zeros((int(728/91), 3))\n",
    "for i in range(int(728/91)):\n",
    "    mean3d[i,:] = np.mean(projected[i*91:(i+1)*91,:], 0)\n",
    "\n",
    "for i in range(int(728/91)):\n",
    "    ax.scatter(mean3d[i,0],mean3d[i,1],mean3d[i,2], c=colors[i])\n",
    "plt.show()"
   ]
  },
  {
   "cell_type": "markdown",
   "metadata": {
    "colab_type": "text",
    "id": "s2DTfGqbGzml"
   },
   "source": [
    "###Expected output ###\n",
    "![](https://github.com/ccnss/ccnss2018_students/raw/master/module4/2_pca_data/figures/Mod4T2E4b.png)"
   ]
  },
  {
   "cell_type": "markdown",
   "metadata": {
    "colab_type": "text",
    "id": "rOvyWz7RaJJ8"
   },
   "source": [
    "- Plot the projections of the centroids onto PC1 as a function of angle/stimulus index. This constitutes a tuning curve for the population. "
   ]
  },
  {
   "cell_type": "code",
   "execution_count": 52,
   "metadata": {
    "colab": {
     "autoexec": {
      "startup": false,
      "wait_interval": 0
     }
    },
    "colab_type": "code",
    "id": "1zEinugZwaN_"
   },
   "outputs": [
    {
     "data": {
      "text/plain": [
       "[<matplotlib.lines.Line2D at 0xb1b5e06a0>]"
      ]
     },
     "execution_count": 52,
     "metadata": {},
     "output_type": "execute_result"
    },
    {
     "data": {
      "image/png": "[encoded data removed]",
      "text/plain": [
       "<Figure size 432x288 with 1 Axes>"
      ]
     },
     "metadata": {},
     "output_type": "display_data"
    }
   ],
   "source": [
    "### Isert code here\n",
    "plt.plot(np.arange(8), mean3d[:,0], 'k.')"
   ]
  },
  {
   "cell_type": "markdown",
   "metadata": {
    "colab_type": "text",
    "id": "YHBs-Qo9How1"
   },
   "source": [
    "###Expected output ###\n",
    "![](https://github.com/ccnss/ccnss2018_students/raw/master/module4/2_pca_data/figures/Mod4T2E4c.png)"
   ]
  },
  {
   "cell_type": "markdown",
   "metadata": {
    "colab_type": "text",
    "id": "wMjbWF95g6wv"
   },
   "source": [
    "- BONUS: Plot the single-neuron tuning curves for the neurons that:\n",
    "1) contribute most and 2) least to the variance in PC1. Hint: Use np.argmax(np.abs(PC1)) and np.argmin(np.abs(PC1))to obtain the indices of these neurons. "
   ]
  },
  {
   "cell_type": "markdown",
   "metadata": {
    "colab_type": "text",
    "id": "kk62VATwIKCn"
   },
   "source": [
    "###Expected output ###\n",
    "![](https://github.com/ccnss/ccnss2018_students/raw/master/module4/2_pca_data /figures/Mod4T2E4d.png)"
   ]
  },
  {
   "cell_type": "markdown",
   "metadata": {
    "colab_type": "text",
    "id": "N1dx-Jile1cx"
   },
   "source": [
    "STILL HAVE TIME? Optional Exercise:\n",
    "\n",
    "\n",
    "In this exercise, you will apply PCA to a few training examples included in the well-known data set: the MNIST data set of handwritten digits. First, execute the cell below to import the MNIST data set. After executing the cell, the **only variables** you will use are: \n",
    " **x_train** (an array of 14x14 images containing examples of the digits 0-5) and **y_train** (a vector of indices for the five digits)\n",
    " \n",
    " "
   ]
  },
  {
   "cell_type": "code",
   "execution_count": 0,
   "metadata": {
    "colab": {
     "autoexec": {
      "startup": false,
      "wait_interval": 0
     }
    },
    "colab_type": "code",
    "id": "es23HDsgTrpf"
   },
   "outputs": [],
   "source": [
    "import keras\n",
    "from keras.datasets import mnist\n",
    "\n",
    "(x_train, y_train), (x_test, y_test) = mnist.load_data()\n",
    "\n",
    "x_train = x_train[:, ::2, ::2].copy()\n",
    "x_test = x_test[:, ::2, ::2].copy()\n",
    "\n",
    "x_train = x_train.astype('float32') / 255.\n",
    "x_test = x_test.astype('float32') / 255.\n",
    "\n",
    "x_shape = x_train.shape[1:]\n",
    "\n",
    "# keep only certain classes\n",
    "x_train = x_train[(y_train==0) | (y_train==1) | (y_train==2) | (y_train==3)\n",
    "                  | (y_train==4) | (y_train==5)]\n",
    "y_train = y_train[(y_train==0) | (y_train==1) | (y_train==2) | (y_train==3)\n",
    "                  | (y_train==4) | (y_train==5)]\n",
    "\n",
    "x_test = x_test[(y_test==0) | (y_test==1) | (y_test==2) | (y_test==3)\n",
    "                  | (y_test==4) | (y_test==5)]\n",
    "y_test = y_test[(y_test==0) | (y_test==1) | (y_test==2) | (y_test==3)\n",
    "                  | (y_test==4) | (y_test==5)]"
   ]
  },
  {
   "cell_type": "markdown",
   "metadata": {
    "colab_type": "text",
    "id": "mdCOr_rlKtP3"
   },
   "source": [
    "- make new arrays x_train_0 and x_train_1 that contain only the digits \"0\" and \"1\", respectively. Plot the first three images for each array, i.e., the first three \"0\"s and first three \"1\"s. Hint: Use the vector y_train for this. "
   ]
  },
  {
   "cell_type": "code",
   "execution_count": 0,
   "metadata": {
    "colab": {
     "autoexec": {
      "startup": false,
      "wait_interval": 0
     }
    },
    "colab_type": "code",
    "id": "ZfzmHpoZwrT0"
   },
   "outputs": [],
   "source": [
    "## insert code here"
   ]
  },
  {
   "cell_type": "markdown",
   "metadata": {
    "colab_type": "text",
    "id": "QmqzytGkTob7"
   },
   "source": [
    "###Expected output ###\n",
    "![](https://github.com/ccnss/ccnss2018_students/raw/master/module4/2_pca_data/figures/Mod4T2E5.png)"
   ]
  },
  {
   "cell_type": "markdown",
   "metadata": {
    "colab_type": "text",
    "id": "bsZnxFEUTxju"
   },
   "source": [
    "###Expected output ###\n",
    "![](https://github.com/ccnss/ccnss2018_students/raw/master/module4/2_pca_data /figures/Mod4T2E5a.png)"
   ]
  },
  {
   "cell_type": "markdown",
   "metadata": {
    "colab_type": "text",
    "id": "iXcIiVG0Lu71"
   },
   "source": [
    "- Given the arrays x_train_0 and x_train_1 above, form a new array x_train_01 that concatenates both arrays. Hint: Use the function np.vstack. Print the shape of your new array x_train_01 . \n"
   ]
  },
  {
   "cell_type": "markdown",
   "metadata": {
    "colab_type": "text",
    "id": "ObEeHjCQwzVu"
   },
   "source": [
    "### Expected ouput ###\n",
    "```\n",
    "(12665, 14, 14)\n",
    "```\n"
   ]
  },
  {
   "cell_type": "markdown",
   "metadata": {
    "colab_type": "text",
    "id": "DkVt2IlUM4Wv"
   },
   "source": [
    "We will perform PCA on this new array x_train01. For this, we will import the function *decomposition* from the library *sklearn* to peform PCA on our data set. Note that to compute PCA we first need to reshape our images of dim 14x14 and transform them into vectors of length 196. Execute the cell below"
   ]
  },
  {
   "cell_type": "code",
   "execution_count": 0,
   "metadata": {
    "colab": {
     "autoexec": {
      "startup": false,
      "wait_interval": 0
     }
    },
    "colab_type": "code",
    "id": "qoZ2IyOCTs9Q"
   },
   "outputs": [],
   "source": [
    "from sklearn import decomposition\n",
    "\n",
    "input_train = x_train_01.reshape((len(x_train_01), np.prod(x_train_01.shape[1:])))\n",
    "\n",
    "pca = decomposition.PCA(n_components=2).fit(input_train)\n",
    "\n",
    "output_train = pca.transform(input_train)\n",
    "output_train_inv = pca.inverse_transform(output_train)"
   ]
  },
  {
   "cell_type": "markdown",
   "metadata": {
    "colab_type": "text",
    "id": "Htz_P6eaPjyi"
   },
   "source": [
    "The relevant variables from this cell are: \n",
    " output_train (result of PCA transform on your input)\n",
    " output_train_inv (result of recovering the original variable after having selected its two first components). Print the shapes of these two variables. "
   ]
  },
  {
   "cell_type": "markdown",
   "metadata": {
    "colab_type": "text",
    "id": "XkXJ1-N4Qbyt"
   },
   "source": [
    "- Plot the first image stored in output_train_inv. Hint: Note that the shape of the images are now vectors; you need to reshape these images to obtain images with dim 14x14. Use the function np.reshape as np.reshape(vector, shape), where vector is your input vector, and shape is the new shape you want to transform the vector to (in this case, 14x14).\n",
    "\n",
    "How does this recoved image compare to the original one?"
   ]
  },
  {
   "cell_type": "markdown",
   "metadata": {
    "colab_type": "text",
    "id": "gt38_oXsV__c"
   },
   "source": [
    "###Expected output ###\n",
    "![](https://github.com/ccnss/ccnss2018_students/raw/master/module4/2_pca_data/figures/Mod4T2E5a.png)"
   ]
  },
  {
   "cell_type": "markdown",
   "metadata": {
    "colab_type": "text",
    "id": "HuZs_RU8RxIj"
   },
   "source": [
    "- The variable output_train contains the projections of the \"0\" and \"1\" images onto the principal components. Plot the first 500 images for each set of \"0\" and \"1\", using two different colors, respectively. Are the clusters well separated? "
   ]
  },
  {
   "cell_type": "markdown",
   "metadata": {
    "colab_type": "text",
    "id": "hTpM9c_qIFlP"
   },
   "source": [
    "###Expected output ###\n",
    "![](https://github.com/ccnss/ccnss2018_students/raw/master/module4/2_pca_data/figures/Mod4T2E5b.png)"
   ]
  }
 ],
 "metadata": {
  "accelerator": "GPU",
  "colab": {
   "collapsed_sections": [],
   "default_view": {},
   "name": "2_pca_data_visualization",
   "provenance": [
    {
     "file_id": "1f0fDwkmvyFC_2ZPTL9vQgIm_UaUeTxAc",
     "timestamp": 1524738812951
    }
   ],
   "version": "0.3.2",
   "views": {}
  },
  "kernelspec": {
   "display_name": "Python 3",
   "language": "python",
   "name": "python3"
  },
  "language_info": {
   "codemirror_mode": {
    "name": "ipython",
    "version": 3
   },
   "file_extension": ".py",
   "mimetype": "text/x-python",
   "name": "python",
   "nbconvert_exporter": "python",
   "pygments_lexer": "ipython3",
   "version": "3.6.5"
  }
 },
 "nbformat": 4,
 "nbformat_minor": 1
}
