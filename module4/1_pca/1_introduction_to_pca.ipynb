{
  "nbformat": 4,
  "nbformat_minor": 0,
  "metadata": {
    "colab": {
      "name": "1_Introduction_to_pca",
      "version": "0.3.2",
      "views": {},
      "default_view": {},
      "provenance": [
        {
          "file_id": "1f0fDwkmvyFC_2ZPTL9vQgIm_UaUeTxAc",
          "timestamp": 1524738812951
        }
      ],
      "collapsed_sections": []
    },
    "kernelspec": {
      "display_name": "Python 3",
      "language": "python",
      "name": "python3"
    },
    "accelerator": "GPU"
  },
  "cells": [
    {
      "metadata": {
        "id": "TpnOn58EgfaE",
        "colab_type": "text"
      },
      "cell_type": "markdown",
      "source": [
        "## CCNSS 2018 Module 4: High dimensional representations and neural dynamics\n",
        "# Tutorial 1: Introduction to PCA\n",
        "\n",
        "[source](https://colab.research.google.com/drive/1a8zZUbLyTFHq6mV568uV5JVk1ItPhjs_)"
      ]
    },
    {
      "metadata": {
        "id": "hi2UOXjigfaF",
        "colab_type": "text"
      },
      "cell_type": "markdown",
      "source": [
        "*Please execute the cell bellow in order to initialize the notebook environment*"
      ]
    },
    {
      "metadata": {
        "id": "nJgJVfSugfaG",
        "colab_type": "code",
        "colab": {
          "autoexec": {
            "startup": false,
            "wait_interval": 0
          }
        }
      },
      "cell_type": "code",
      "source": [
        "import matplotlib.pyplot as plt    # import matplotlib\n",
        "import numpy as np                 # import numpy\n",
        "import math                        # import basic math functions\n",
        "import random                      # import basic random number generator functions\n",
        "\n",
        "fig_w, fig_h = (6, 4)\n",
        "plt.rcParams.update({'figure.figsize': (fig_w, fig_h)})"
      ],
      "execution_count": 0,
      "outputs": []
    },
    {
      "metadata": {
        "id": "UwXIfh1Y9j66",
        "colab_type": "text"
      },
      "cell_type": "markdown",
      "source": [
        "# Objectives\n",
        "\n",
        "In this notebook we will examine the mathematical and computational aspects of  Principal Component Analysis (PCA). Following up on the mathematical tutorial (chalk talk), we will implement the PCA algorithm via the (data) covariance matrix. We will introduce the relationship between the eigenvalues of the covariance matrix and the variance of the data and how we can use this to approximate the dimension of the subspace where the data resides.  "
      ]
    },
    {
      "metadata": {
        "id": "HU7L6JxVgfaK",
        "colab_type": "text"
      },
      "cell_type": "markdown",
      "source": [
        "## Background\n",
        "\n",
        "PCA as used in data analysis is a method to qualitatively understand the structure of data. This data could come from neural recordings, e.g., spike count data for a set of $M$ neurons. It might be possible to represent the data more compactly via $k<M$ so-called latent variables. \n",
        "\n",
        "In this first tutorial, we will try to develop an intuitive understanding of the topics developed during the mathematical tutorial and the lecture on dimensionality reduction. \n",
        "\n",
        "\n",
        "We will carry out several steps to examine PCA in mock data:\n",
        "\n",
        "* Construct the covariance matrix from a two-dimensional mock data set\n",
        "* Calculate eigenvalues and eigenvectors (principal components of the covariance matrix)\n",
        "* Visualize the data in two dimensions and its reduction to  one dimension \n"
      ]
    },
    {
      "metadata": {
        "id": "L58fdqcNgfaM",
        "colab_type": "text"
      },
      "cell_type": "markdown",
      "source": [
        "**EXERCISE 1**\n",
        "\n",
        " Given 8 data points x_n, where n = 2 is the dimension of the data set, we construct a the data matrix X of size 8x2 \n",
        "\n",
        "• Plot each data point x_n as a black dot in a two-dimensional space.\n",
        "\n",
        "• Plot the mean of the data µ as a green point.\n",
        "\n"
      ]
    },
    {
      "metadata": {
        "id": "71-kNPxO95Wv",
        "colab_type": "code",
        "colab": {
          "autoexec": {
            "startup": false,
            "wait_interval": 0
          }
        }
      },
      "cell_type": "code",
      "source": [
        "np.random.seed(8)\n",
        "X = np.random.random((8,2))\n",
        "#Insert your code here"
      ],
      "execution_count": 0,
      "outputs": []
    },
    {
      "metadata": {
        "id": "DZZqT2DsgfaQ",
        "colab_type": "text"
      },
      "cell_type": "markdown",
      "source": [
        "**EXPECTED OUTPUT**\n",
        "\n",
        "![](https://github.com/ccnss/ccnss2018_students/raw/master/module4/1_pca/figures/Mod4T1E1.png)"
      ]
    },
    {
      "metadata": {
        "id": "LC56amWvgfaZ",
        "colab_type": "text"
      },
      "cell_type": "markdown",
      "source": [
        "**EXERCISE 2**\n",
        "\n",
        "Given the data matrix X, construct the covariance matrix Y by\n",
        "- removing the mean from each column of the matrix thus forming a matrix $X^*$ with zero mean\n",
        "- constructing the covariance matrix $Y~=X^{*T}X^*$, where T is the transpose of a matrix. \n",
        "\n",
        "Make a function that calculates the covariance matrix given the data matrix and print the output. \n"
      ]
    },
    {
      "metadata": {
        "id": "cjyP6QmL-KVE",
        "colab_type": "code",
        "colab": {
          "autoexec": {
            "startup": false,
            "wait_interval": 0
          }
        }
      },
      "cell_type": "code",
      "source": [
        "# insert your code here\n"
      ],
      "execution_count": 0,
      "outputs": []
    },
    {
      "metadata": {
        "id": "AKwwmpd-Qay-",
        "colab_type": "text"
      },
      "cell_type": "markdown",
      "source": [
        "**EXPECTED OUTPUT**\n",
        "```\n",
        "\n",
        "Y (cov matrix) = [[0.04307335 0.04553515]\n",
        " [0.04553515 0.06512377]]\n",
        " ```\n"
      ]
    },
    {
      "metadata": {
        "id": "KyeKc1R2QlVL",
        "colab_type": "text"
      },
      "cell_type": "markdown",
      "source": [
        "**EXERCISE 3**\n",
        "\n",
        "Recall that an eigenvalue of a matrix $A$ is a number $\\alpha$ such that,  the following relationship holds: $$ Ay = \\alpha y,$$ where $y$ is the eigenvector of the matrix $A$.\n",
        "\n",
        "In this exercise we will calculate the eigenvalues and eigenvectors of the covariance matrix $Y$ using the function np.linalg.eig, which gives you the eigenvalues and eigenvectors as:\n",
        "(eigVal, eigVect) = np.linalg.eig(Y), where eigVal are the eigenvalues, eigVect are the eigenvectors, and $Y$ is the covariance matrix.   Print the output eigenvalues and eigenvectors. Check that the trace of your covariance matrix is equal to the sum of the eigenvalues. \n",
        "\n"
      ]
    },
    {
      "metadata": {
        "id": "kwRAth---pQb",
        "colab_type": "code",
        "colab": {
          "autoexec": {
            "startup": false,
            "wait_interval": 0
          }
        }
      },
      "cell_type": "code",
      "source": [
        "# insert your code here\n"
      ],
      "execution_count": 0,
      "outputs": []
    },
    {
      "metadata": {
        "id": "8s5AIgBf5cWQ",
        "colab_type": "text"
      },
      "cell_type": "markdown",
      "source": [
        "**EXPECTED OUTPUT**\n",
        "```\n",
        "\n",
        "eigenval =  [0.00724768 0.10094944]\n",
        "eigenvec =  [[-0.78591528 -0.6183342 ]\n",
        " [ 0.6183342  -0.78591528]]\n",
        " \n",
        " ```\n"
      ]
    },
    {
      "metadata": {
        "id": "4rzQZNTxw2fx",
        "colab_type": "text"
      },
      "cell_type": "markdown",
      "source": [
        "**EXERCISE 4**\n",
        "\n",
        "Print the first PC and plot the PC space spanned by the first principal component (a line), on top of the data points plot. **Hint:**  The principal component, i.e., the first eigenvector gives you the direction, but you must provide the offset: the line must pass through the green point"
      ]
    },
    {
      "metadata": {
        "id": "92x4OyIP-6bQ",
        "colab_type": "code",
        "colab": {
          "autoexec": {
            "startup": false,
            "wait_interval": 0
          }
        }
      },
      "cell_type": "code",
      "source": [
        "# insert your code here\n"
      ],
      "execution_count": 0,
      "outputs": []
    },
    {
      "metadata": {
        "id": "_DX9NfX08li3",
        "colab_type": "text"
      },
      "cell_type": "markdown",
      "source": [
        "**EXPECTED OUTPUT**\n",
        "\n",
        "\n",
        "```\n",
        "PC_1 = [-0.6183342  -0.78591528]\n",
        "\n",
        "```\n",
        "![](https://github.com/ccnss/ccnss2018_students/raw/master/module4/1_pca/figures/Mod4T1E4.png)\n"
      ]
    },
    {
      "metadata": {
        "id": "c7toa-5P9RQo",
        "colab_type": "text"
      },
      "cell_type": "markdown",
      "source": [
        "- Plot the other (second) eigenvector. In what direction do you anticipate the other eigenvector to be?\n"
      ]
    },
    {
      "metadata": {
        "id": "KyLp3F7lEx57",
        "colab_type": "code",
        "colab": {
          "autoexec": {
            "startup": false,
            "wait_interval": 0
          }
        }
      },
      "cell_type": "code",
      "source": [
        "# insert your code here\n"
      ],
      "execution_count": 0,
      "outputs": []
    },
    {
      "metadata": {
        "id": "PuKoDPMUBFQp",
        "colab_type": "text"
      },
      "cell_type": "markdown",
      "source": [
        "**EXPECTED OUTPUT**\n",
        "\n",
        "\n",
        "![](https://github.com/ccnss/ccnss2018_students/raw/master/module4/1_pca/figures/Mod4T1E4c.png)\n",
        "\n"
      ]
    },
    {
      "metadata": {
        "id": "tiXaZvGj4vG2",
        "colab_type": "text"
      },
      "cell_type": "markdown",
      "source": [
        "\n",
        "**EXERCISE 5**\n",
        "\n",
        "- Project each data point onto the first PC, and plot each projected data point\n",
        "as a red dot. (Hint: The projected points should lie on the principal component line.)\n"
      ]
    },
    {
      "metadata": {
        "id": "G--C7_4yE1Pa",
        "colab_type": "code",
        "colab": {
          "autoexec": {
            "startup": false,
            "wait_interval": 0
          }
        }
      },
      "cell_type": "code",
      "source": [
        "# insert your code here\n"
      ],
      "execution_count": 0,
      "outputs": []
    },
    {
      "metadata": {
        "id": "b7DnmglDi0rC",
        "colab_type": "text"
      },
      "cell_type": "markdown",
      "source": [
        "**EXPECTED OUTPUT**\n",
        "\n",
        "![](https://github.com/ccnss/ccnss2018_students/raw/master/module4/1_pca/figures/Mod4T1E5.png)\n"
      ]
    },
    {
      "metadata": {
        "id": "9X6Te5LQPf-p",
        "colab_type": "text"
      },
      "cell_type": "markdown",
      "source": [
        "\n",
        "- Plot line segments between the datapoints and their projections. Check that such segments are orthogonal to the PC space spanned by the principal components. "
      ]
    },
    {
      "metadata": {
        "id": "dbvKeAorE3CC",
        "colab_type": "code",
        "colab": {
          "autoexec": {
            "startup": false,
            "wait_interval": 0
          }
        }
      },
      "cell_type": "code",
      "source": [
        "# insert your code here\n"
      ],
      "execution_count": 0,
      "outputs": []
    },
    {
      "metadata": {
        "id": "3Bu1NxetiyWx",
        "colab_type": "text"
      },
      "cell_type": "markdown",
      "source": [
        "**EXPECTED OUTPUT**\n",
        "\n",
        "![](https://github.com/ccnss/ccnss2018_students/raw/master/module4/1_pca/figures/Mod4T1E5b.png)\n"
      ]
    },
    {
      "metadata": {
        "id": "NFquJZ3cib0_",
        "colab_type": "text"
      },
      "cell_type": "markdown",
      "source": [
        " - Calculate the variance of the projections of the data matrix along the principal component. What is the relationship between this number and the eigenvalues previously calculated? "
      ]
    },
    {
      "metadata": {
        "id": "U8TIJj3aE6nX",
        "colab_type": "code",
        "colab": {
          "autoexec": {
            "startup": false,
            "wait_interval": 0
          }
        }
      },
      "cell_type": "code",
      "source": [
        "# insert your code here\n"
      ],
      "execution_count": 0,
      "outputs": []
    },
    {
      "metadata": {
        "id": "-cx_yDwciwJf",
        "colab_type": "text"
      },
      "cell_type": "markdown",
      "source": [
        "**EXPECTED OUTPUT**\n",
        "```\n",
        "var =  0.10094944117143889\n",
        "```"
      ]
    },
    {
      "metadata": {
        "id": "l293mhBiTj8l",
        "colab_type": "text"
      },
      "cell_type": "markdown",
      "source": [
        "BONUS: In exercise 4 you plotted the two eigenvectors/lines. How would you scale the length of these eigenvectors so that they are more informative with respect to the variance they capture?"
      ]
    },
    {
      "metadata": {
        "id": "Q0QLbkeRUTHd",
        "colab_type": "code",
        "colab": {
          "autoexec": {
            "startup": false,
            "wait_interval": 0
          }
        }
      },
      "cell_type": "code",
      "source": [
        ""
      ],
      "execution_count": 0,
      "outputs": []
    }
  ]
}