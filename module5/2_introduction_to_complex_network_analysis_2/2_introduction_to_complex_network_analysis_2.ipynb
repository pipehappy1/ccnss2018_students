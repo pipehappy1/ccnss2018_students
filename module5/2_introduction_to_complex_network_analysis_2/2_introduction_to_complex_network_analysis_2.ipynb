{
 "cells": [
  {
   "cell_type": "markdown",
   "metadata": {
    "colab_type": "text",
    "id": "TpnOn58EgfaE"
   },
   "source": [
    "## CCNSS 2018 Module 5: Whole-Brain Dynamics and Cognition\n",
    "# Tutorial 2: Introduction to Complex Network Analysis (II)\n"
   ]
  },
  {
   "cell_type": "markdown",
   "metadata": {
    "colab_type": "text",
    "id": "hi2UOXjigfaF"
   },
   "source": [
    "*Please execute the cell bellow in order to initialize the notebook environment*"
   ]
  },
  {
   "cell_type": "code",
   "execution_count": 2,
   "metadata": {
    "colab": {
     "autoexec": {
      "startup": false,
      "wait_interval": 0
     }
    },
    "colab_type": "code",
    "id": "OI_WElhsdsX2"
   },
   "outputs": [
    {
     "name": "stdout",
     "output_type": "stream",
     "text": [
      "Cloning into 'ccnss2018_students'...\n",
      "remote: Counting objects: 923, done.\u001b[K\n",
      "remote: Compressing objects: 100% (5/5), done.\u001b[K\n",
      "remote: Total 923 (delta 0), reused 3 (delta 0), pack-reused 918\u001b[K\n",
      "Receiving objects: 100% (923/923), 64.81 MiB | 166.00 KiB/s, done.\n",
      "Resolving deltas: 100% (278/278), done.\n"
     ]
    }
   ],
   "source": [
    "!rm -rf data ccnss2018_students\n",
    "!if [ ! -d data ]; then git clone https://github.com/ccnss/ccnss2018_students; \\\n",
    "                        cp -rf ccnss2018_students/module5/2_introduction_to_complex_network_analysis_2/data ./; \\\n",
    "                        cp ccnss2018_students/module5/net_tool.py ./; fi"
   ]
  },
  {
   "cell_type": "code",
   "execution_count": 0,
   "metadata": {
    "colab": {
     "autoexec": {
      "startup": false,
      "wait_interval": 0
     }
    },
    "colab_type": "code",
    "id": "nJgJVfSugfaG"
   },
   "outputs": [],
   "source": [
    "import matplotlib.pyplot as plt    # import matplotlib\n",
    "import numpy as np                 # import numpy\n",
    "import math                        # import basic math functions\n",
    "import random                      # import basic random number generator functions\n",
    "import csv                         # import CSV(Comma Separated Values) file reading and writing\n",
    "import scipy as sp                 # import scipy\n",
    "from scipy import sparse           # import sparse module from scipy\n",
    "from scipy import signal           # import signal module from scipy\n",
    "import os                          # import basic os functions\n",
    "import time                        # import time to measure real time\n",
    "import collections                 # import collections\n",
    "import networkx as nx              # import networkx\n",
    "\n",
    "import sys\n",
    "sys.path.append('../')\n",
    "import net_tool as net             # import net_tool, a network analysis toolbox from tutorial #1 \n",
    "\n",
    "data_folder = 'data'\n",
    "\n",
    "print('Available data files:\\n'+'\\n'.join(sorted(os.listdir(data_folder))))\n",
    "\n",
    "data_file_1 = os.path.join(data_folder, 'george_baseline_44.txt')\n",
    "data_file_2 = os.path.join(data_folder, 'george_propofol.txt')\n",
    "data_file_3 = os.path.join(data_folder, 'george_ketamin.txt')\n",
    "data_file_4 = os.path.join(data_folder, 'george_medetomidine.txt')"
   ]
  },
  {
   "cell_type": "markdown",
   "metadata": {
    "colab_type": "text",
    "id": "UwXIfh1Y9j66"
   },
   "source": [
    "# Objectives\n",
    "\n",
    "In this notebook we will construct a fuctional network from a given time series. Following up on the powerpoint tutorial, we will first construct a  functional network from the brain signals, and compare functional network properties for different states of the brain."
   ]
  },
  {
   "cell_type": "markdown",
   "metadata": {
    "colab_type": "text",
    "id": "HU7L6JxVgfaK"
   },
   "source": [
    "\n",
    "## Background\n",
    "\n",
    "Network theory (graph theory) measures can be applied to any kind of network, including the brain. Structural networks of various species are good examples. We can also construct fuctional networks from time series data we observe using various techniques such as fMRI, EEG, ECoG, and MEG.\n",
    "\n",
    "Using an ECoG data from a macaque as an example, We will go through the following steps:\n",
    "\n",
    "* Appy a measure (PLI: phase lag index) to two time series, and construct a PLI matrix.\n",
    "* Construct a network from the PLI matrix, by applying a threshold.\n",
    "* Apply various network measures to the resulting network.\n",
    "* Construct the functional networks for different brain states, and compare how they differ from each other.\n",
    "* (Optional) Divide the time series into small time windows, and construct functional network for each time window.\n",
    "\n"
   ]
  },
  {
   "cell_type": "markdown",
   "metadata": {
    "colab_type": "text",
    "id": "n7BLwY-GlFi4"
   },
   "source": [
    "The example we will analyze is a thirty second - segment of whole brain ECoG data of a macaque monkey named George, from an eyes closed resting state. The sampling freqeuncy is 1000 Hz, resulting in total of 30,000 time points for each channel. The data consists of signals coming from 106 areas that cover the left hemisphere. The data is preprocessed, by applying a band path filter to remove the alpha wave component (7-13 Hz) from the signal. Alpha waves are correlated with global interactions of the brain for many instances of the brain states."
   ]
  },
  {
   "cell_type": "code",
   "execution_count": 0,
   "metadata": {
    "colab": {
     "autoexec": {
      "startup": false,
      "wait_interval": 0
     }
    },
    "colab_type": "code",
    "id": "NHfOLEVbMreK"
   },
   "outputs": [],
   "source": [
    "george_base = [ row for row in csv.reader(open(data_file_1,'r'),delimiter='\\t')]\n",
    "george_base = np.array(george_base).astype(np.float32)"
   ]
  },
  {
   "cell_type": "code",
   "execution_count": 0,
   "metadata": {
    "colab": {
     "autoexec": {
      "startup": false,
      "wait_interval": 0
     }
    },
    "colab_type": "code",
    "id": "EliMaUxgMx46"
   },
   "outputs": [],
   "source": [
    "george_propofol = [ row for row in csv.reader(open(data_file_2,'r'),delimiter='\\t')]\n",
    "george_propofol = np.array(george_propofol).astype(np.float32)"
   ]
  },
  {
   "cell_type": "markdown",
   "metadata": {
    "colab_type": "text",
    "id": "_OH-A7C4XkBW"
   },
   "source": [
    "**EXERCISE 0: Calculating* i)* the phases of oscillating signals, and* ii)* the differences between the phases from two signals. Read through and understand the code, which will be used in later exercises (Exercise #4).\n",
    "**\n",
    "\n",
    "\n",
    "$i)$ Every oscillating signal $S_j$ can be represented by its amplitude and its phase:\n",
    "\n",
    "$$ S_j(t) = r_j(t) e^{i \\theta_j(t) } = r_j(t) ( \\cos \\theta_j(t) + i \\  \\sin \\theta_j(t) ) $$\n",
    "\n",
    "Using this representation, we could assign $phase$ $\\theta_j$ to the signal at every time point $t$. One way of computing the phase of a signal for each time point is using the ***Hilbert transform***. \n",
    "\n",
    "•  We can obtain the signal in the form of above representation by `sp.hilbert`($S_j$). After that, we could use   `np.angle()` to get the angle at each time point $t$: `np.angle(sp.hilbert`( $S_j$ ) `).` \n",
    "\n",
    "$$ $$\n",
    "\n",
    "$ii)$ After getting the angle $\\theta_j$ of each signal $S_j$, we can calculate the differences between phases:\n",
    "\n",
    "$$ \\Delta \\theta_{jk}(t) = \\theta_j(t) - \\theta_k(t) \\\\ $$\n",
    "\n",
    "Best way to calculate the phase difference, again is to calculate it in the exponent form:\n",
    "\n",
    "$$  e^{i \\Delta \\theta_{jk} (t)} = e^{i ( \\theta_j (t) -  \\theta_k (t)  )   },\\\\ $$\n",
    "\n",
    "then take the angle of $  e^{i \\Delta \\theta_{jk} (t)} $:\n",
    "\n",
    "$$  \\Delta \\theta_{jk} (t) = arg ( e^{i \\Delta \\theta_{jk} (t)} ) .\\\\ $$\n",
    "\n",
    "We can obtain the angle by using `np.angle()`.\n",
    "\n",
    "This phase difference gives a valuable information about the \"directionality\" between pair of oscillators.\n",
    "\n",
    "• Calculate the $\\theta_{ij}$ between all pairs of time series, and build a phase-difference matrix. Each elements of the matrix containing time averaged phase difference $\\langle \\theta_{ij} \\rangle _t$ between $i$ and $j$. The resulting matrix will be anti-symmetric.\n",
    "\n",
    "• From the phase-difference matrix we constructed, compute the average phase-difference for each node. Calculate the row-sum of the matrix:\n",
    "\n",
    "$$ \\theta_i = \\frac{1}{N} \\sum_{j=1}^{N} \\langle \\theta_{ij} \\rangle _t,$$\n",
    "\n",
    "then we can have a vector of averaged phase-differences, each element of the vector corresponding for each node.\n",
    "\n",
    "This average phase-difference for each node will tell us whether one node is phase-leading or phase-lagging with respect to other nodes over a given period of time."
   ]
  },
  {
   "cell_type": "code",
   "execution_count": 0,
   "metadata": {
    "colab": {
     "autoexec": {
      "startup": false,
      "wait_interval": 0
     }
    },
    "colab_type": "code",
    "id": "hWUtVbFuNWog"
   },
   "outputs": [],
   "source": [
    "# getting the phases from the signals, using np.angle and sp.signal.hilbert\n",
    "\n",
    "george_base_angle = np.angle(sp.signal.hilbert( george_base,axis=0) )\n",
    "print(\"size of george_base_angle is:\" , george_base_angle.shape )"
   ]
  },
  {
   "cell_type": "code",
   "execution_count": 0,
   "metadata": {
    "colab": {
     "autoexec": {
      "startup": false,
      "wait_interval": 0
     }
    },
    "colab_type": "code",
    "id": "z9eJ8rigNx5I"
   },
   "outputs": [],
   "source": [
    "def phase_diff_mat(theta):\n",
    "    \n",
    "    # theta must has dimension TxN, where T is the length of time points and N is the number of nodes\n",
    "    \n",
    "    N_len = theta.shape[1]\n",
    "        \n",
    "    PDiff_mat= np.zeros((N_len,N_len))    \n",
    "    for ch1 in range(N_len):\n",
    "        for ch2 in range(ch1+1,N_len):\n",
    "            PDiff=theta[:,ch1]-theta[:,ch2]                     # theta_ch1 - theta_ch2\n",
    "            PDiff_exp_angle = np.angle( np.exp(1j*PDiff) )      # angle of exp (1i * (theta_ch1-theta_ch2)   )\n",
    "            PDiff_exp_mean = np.mean(PDiff_exp_angle)           # mean of the angle with respect to time\n",
    "            PDiff_mat[ch1,ch2] = PDiff_exp_mean                 # put the mean into the matrix\n",
    "            PDiff_mat[ch2,ch1] = -1*PDiff_exp_mean              # the matrix will be anti-symmetric\n",
    "            \n",
    "    PDiff_mean = np.mean(PDiff_mat,axis=1)                      # calculate the mean for each node, with respect to all the other nodes\n",
    "    \n",
    "    #alternative code\n",
    "    #arr = np.array([np.roll(theta, i, axis=1) for i in range(N_len)])\n",
    "    #PDiff_mat = theta[None, :] - arr\n",
    "    #PDiff_mean = PDiff_mat.mean(1)\n",
    "    \n",
    "    return PDiff_mean,PDiff_mat"
   ]
  },
  {
   "cell_type": "markdown",
   "metadata": {
    "colab_type": "text",
    "id": "L58fdqcNgfaM"
   },
   "source": [
    "**EXERCISE 1: Calculating the PLI for two given time series**\n",
    "\n",
    "The data is in a form of 30,000x106 (# of time points  x  # of channels) sized matrix. We will measure $PLI$s between all possible pairs of channels.\n",
    "\n",
    "We now define $dPLI$ (directed phase-lag index) as the following:\n",
    "\n",
    "$$ dPLI_{ij} = \\frac{1}{T}\\sum_{t=1}^{T} sign ( \\Delta \\theta_{ij} (t)  )   \\, $$\n",
    "\n",
    "where\n",
    "\n",
    "$$ \\Delta \\theta_{ij} = \\theta_i - \\theta_j ,$$\n",
    "\n",
    "and \n",
    "\n",
    "$$ sign (  \\theta_i - \\theta_j  ) = \n",
    "\\begin{cases}\n",
    "1 & if  \\  \\Delta \\theta_{ij} > 0 \\\\   \n",
    "0 &  if \\  \\Delta \\theta_{ij} = 0 \\\\\n",
    "-1 &  if \\  \\Delta \\theta_{ij} < 0. \\\\\n",
    "\\end{cases}  \\\\ $$\n",
    "\n",
    "$dPLI$ will range from 1 to -1, and give us information about which signal is leading another. \\\n",
    "\n",
    "If we take absolute value of $dPLI$, we get $PLI$ (phase lag index):\n",
    "\n",
    "$$\\\\ PLI_{ij} =|dPLI_{ij}| = | \\langle  sign ( \\Delta \\theta_{ij} )  \\rangle_t  | .\\\\$$\n",
    "\n",
    "\n",
    "$PLI$ will range from 0 to 1, and give us information about whether two signals have consistent phase-lead/lag relationship with each other over given period of time.\n",
    "\n",
    "•  Plot the time series for the first 3 channels of `george_base` (first 500 time points)\n",
    "\n",
    "•  Plot the time series for the first 3 channels of `george_base_angle` (first 500 time points).\n",
    "\n",
    "•  Compute $PLI_{ij}$ for all pairs of $i$ and $j$, and make $PLI$ matrix. The resulting matrix will be symmetric. You can use `np.sign()`."
   ]
  },
  {
   "cell_type": "code",
   "execution_count": 0,
   "metadata": {
    "colab": {
     "autoexec": {
      "startup": false,
      "wait_interval": 0
     }
    },
    "colab_type": "code",
    "id": "CdTRM_nlIGba"
   },
   "outputs": [],
   "source": [
    "# Write your code for plotting time series "
   ]
  },
  {
   "cell_type": "markdown",
   "metadata": {
    "colab_type": "text",
    "id": "O959um-yQIJF"
   },
   "source": [
    "**EXPECTED OUTPUT**\n",
    "\n",
    "![](https://github.com/ccnss/ccnss2018_students/raw/master/module5/2_introduction_to_complex_network_analysis_2/figures/1_ts_angle.png)"
   ]
  },
  {
   "cell_type": "code",
   "execution_count": 0,
   "metadata": {
    "colab": {
     "autoexec": {
      "startup": false,
      "wait_interval": 0
     }
    },
    "colab_type": "code",
    "id": "_pnQmmwVN5y4"
   },
   "outputs": [],
   "source": [
    "def cal_dPLI_PLI(theta):\n",
    " \n",
    "    # insert your code for calculating dPLI and PLI\n",
    "    # theta must has dimension TxN, where T is the length of time points and N is the number of nodes\n",
    "    # outputs PLI matrix containing PLIs between all pairs of channels, and dPLI matrix containg dPLIs between all pairs of channels\n",
    "\n",
    "  \n",
    "    return PLI,dPLI"
   ]
  },
  {
   "cell_type": "code",
   "execution_count": 0,
   "metadata": {
    "colab": {
     "autoexec": {
      "startup": false,
      "wait_interval": 0
     }
    },
    "colab_type": "code",
    "id": "t8-6AqODpsL2"
   },
   "outputs": [],
   "source": [
    "george_base_PLI, george_base_dPLI = cal_dPLI_PLI(george_base_angle)\n",
    "print(george_base_dPLI[:5,:5])"
   ]
  },
  {
   "cell_type": "markdown",
   "metadata": {
    "colab_type": "text",
    "id": "DZZqT2DsgfaQ"
   },
   "source": [
    "**EXPECTED OUTPUT**\n",
    "```\n",
    "[[ 0.         -0.09446667  0.0348     -0.05666667  0.28      ]\n",
    " [ 0.09446667  0.          0.04926667  0.00693333  0.341     ]\n",
    " [-0.0348     -0.04926667  0.         -0.0614      0.2632    ]\n",
    " [ 0.05666667 -0.00693333  0.0614      0.          0.3316    ]\n",
    " [-0.28       -0.341      -0.2632     -0.3316      0.        ]]\n",
    " ```\n"
   ]
  },
  {
   "cell_type": "markdown",
   "metadata": {
    "colab_type": "text",
    "id": "LC56amWvgfaZ"
   },
   "source": [
    "**EXERCISE 2: Constructing network connectivity matrix**\n",
    "\n",
    "We can construct a network from the above PLI matrix. Two approaches are possible. We can apply a threshold value for the PLI matrix and turn it into a binary network. Or, we can take the PLI value as is, and turn the matrix into a weighted network. We will take the first approach.\n",
    "\n",
    "• Binary network approach: one must determine a right threshold value for the matrix. For example, you can choose a value such that highest 30% of the PLI values between nodes will turn into connection.\n",
    "\n",
    "• (Optional) Weighted network approach: we can take the PLI value itself as the weighted link between two nodes.\n",
    "\n"
   ]
  },
  {
   "cell_type": "code",
   "execution_count": 0,
   "metadata": {
    "colab": {
     "autoexec": {
      "startup": false,
      "wait_interval": 0
     }
    },
    "colab_type": "code",
    "id": "41g6NCGQH1Sv"
   },
   "outputs": [],
   "source": [
    "def cal_mat_thresholded(data_mat, threshold):\n",
    "    \n",
    "    \n",
    "    # insert your code here\n",
    "    # input is the original matrix with threshold\n",
    "    # output is the thresholded matrix. It would be symmetric.\n",
    "\n",
    "    return data_mat_binary"
   ]
  },
  {
   "cell_type": "code",
   "execution_count": 0,
   "metadata": {
    "colab": {
     "autoexec": {
      "startup": false,
      "wait_interval": 0
     }
    },
    "colab_type": "code",
    "id": "d_yh1eZ63V4o"
   },
   "outputs": [],
   "source": [
    "threshold = 0.3\n",
    "george_base_PLI_p3 = cal_mat_thresholded(george_base_PLI,threshold)\n",
    "print(\"sum of george_base_PLI_p3:\", np.sum(george_base_PLI_p3))"
   ]
  },
  {
   "cell_type": "markdown",
   "metadata": {
    "colab_type": "text",
    "id": "AKwwmpd-Qay-"
   },
   "source": [
    "**EXPECTED OUTPUT**\n",
    "```\n",
    "sum of george_base_PLI_p3: 3372.0\n",
    "```"
   ]
  },
  {
   "cell_type": "markdown",
   "metadata": {
    "colab_type": "text",
    "id": "4rzQZNTxw2fx"
   },
   "source": [
    "**EXERCISE 3: Applying network measure to the functional network**\n",
    "\n",
    "We now have a resulting functional network from a macaque ECoG data. Now we can apply network measures to this network.\n",
    "\n",
    "• Apply network measures to this network, such as $C, L, E$ and $b$ (clustering coefficient, characteristic path length, efficiency, and betweenness centrality).\n",
    "\n",
    "(If you prefer, you can use functions that we provide in net.py. Ask tutors for the details.)\n"
   ]
  },
  {
   "cell_type": "code",
   "execution_count": 0,
   "metadata": {
    "colab": {
     "autoexec": {
      "startup": false,
      "wait_interval": 0
     }
    },
    "colab_type": "code",
    "id": "jO13OhATxOhk"
   },
   "outputs": [],
   "source": [
    "# insert your code here"
   ]
  },
  {
   "cell_type": "markdown",
   "metadata": {
    "colab_type": "text",
    "id": "vhi3Rr8W1Iya"
   },
   "source": [
    "**EXPECTED OUTPUT**\n",
    "```\n",
    "C: 0.4405029623271814\n",
    "E and L: 1.735130278526505 0.6451332734351602\n",
    "b: 38.594339622641506\n",
    "```"
   ]
  },
  {
   "cell_type": "markdown",
   "metadata": {
    "colab_type": "text",
    "id": "MnyWscpm8LAN"
   },
   "source": [
    "**EXERCISE 4: Computing phase measures for the functional network**\n",
    "\n",
    "We can define a mean of $PLI_i$ over all other nodes as follows:\n",
    "\n",
    "$$ PLI_i = \\frac{1}{N-1} \\sum_{j=1,\\ j \\neq i }^{N}  PLI_{ij} ,$$\n",
    "\n",
    "This quantity will tell us how persistantly a node is locked with respect to other nodes, over a given period of time. Usually, the node with high $PLI_i$ is the one with high degree in a network: the $k_i$ and $PLI_i$ of a node $i$ is correlated.\n",
    "\n",
    "We can also define a mean of $dPLI_i$ over all other nodes as follows:\n",
    "\n",
    "$$ dPLI_i = \\frac{1}{N-1} \\sum_{j=1,\\ j \\neq i}^{N}  dPLI_{ij} ,$$\n",
    "\n",
    "This quantity will tell us how persistantly a node is phase-leadaing or phase-lagging with respect to other nodes, over a given period of time. This quantity is correlated with the average phase-difference $\\theta_i$ which we defined in earlier exercise.\n",
    "\n",
    "• Do a scatterplot of the mean PLI and mean dPLI. Is there any pattern between these two quantities? Calculate the Pearson correlation coefficient between these two vectors.\n",
    "\n",
    "• Also, you can do a scatterplot of degree of each node vs. average phase-difference. Do they resemble above the scatter plot?"
   ]
  },
  {
   "cell_type": "code",
   "execution_count": 0,
   "metadata": {
    "colab": {
     "autoexec": {
      "startup": false,
      "wait_interval": 0
     }
    },
    "colab_type": "code",
    "id": "GwpKyCA1GtO5"
   },
   "outputs": [],
   "source": [
    "# insert your code for calculating mean dPLI and PLI, mean phase, and degree of the network \n",
    "\n",
    "george_base_PLI_mean = \n",
    "george_base_dPLI_mean = \n",
    "george_base_phase_diff_mean,_ = phase_diff_mat(george_base_angle)\n",
    "george_base_PLI_p3_degree = "
   ]
  },
  {
   "cell_type": "code",
   "execution_count": 0,
   "metadata": {
    "colab": {
     "autoexec": {
      "startup": false,
      "wait_interval": 0
     }
    },
    "colab_type": "code",
    "id": "MYig8w2oHn1P"
   },
   "outputs": [],
   "source": [
    "plt.figure()\n",
    "for i in range(len(george_base_PLI_mean)):\n",
    "    plt.plot(george_base_PLI_mean[i],george_base_dPLI_mean[i],'C0s')\n",
    "    plt.text(george_base_PLI_mean[i],george_base_dPLI_mean[i],str(i))\n",
    "    plt.xlabel('PLI')\n",
    "    plt.ylabel('dPLI')\n",
    "    plt.title('dPLI vs PLI')\n",
    "plt.show()\n",
    "\n",
    "corr_PLI_dPLI = np.corrcoef(george_base_PLI_mean,george_base_dPLI_mean)\n",
    "print(\"corr. of PLI and dPLI is:\", corr_PLI_dPLI[1,0])\n",
    "\n",
    "plt.figure()\n",
    "for i in range(len(george_base_PLI_p3_degree)):\n",
    "    plt.plot(george_base_PLI_p3_degree[i] , george_base_phase_diff_mean[i],'C0s' )\n",
    "    plt.text(george_base_PLI_p3_degree[i] , george_base_phase_diff_mean[i],str(i))\n",
    "    plt.xlabel('k')\n",
    "    plt.ylabel('theta')\n",
    "    plt.title('theta vs k')\n",
    "plt.show()\n",
    "\n",
    "corr_degree_phase = np.corrcoef(george_base_PLI_p3_degree , george_base_phase_diff_mean)\n",
    "print(\"corr. of degree and phase is:\", corr_degree_phase[1,0])\n"
   ]
  },
  {
   "cell_type": "markdown",
   "metadata": {
    "colab_type": "text",
    "id": "NYCRrmB4rcrK"
   },
   "source": [
    "**EXPECTED OUTPUT**\n",
    "\n",
    "![](https://github.com/ccnss/ccnss2018_students/raw/master/module5/2_introduction_to_complex_network_analysis_2/figures/4_dpli_vs_pli.png)\n",
    "```\n",
    "corr. of PLI and dPLI is: -0.5848065158893657\n",
    "\n",
    "```\n",
    "![](https://github.com/ccnss/ccnss2018_students/raw/master/module5/2_introduction_to_complex_network_analysis_2/figures/4_theta_vs_k.png)\n",
    "```\n",
    "corr. of degree and phase is: -0.5082925792988023\n",
    "```"
   ]
  },
  {
   "cell_type": "markdown",
   "metadata": {
    "colab_type": "text",
    "id": "-zhObn5W2KPC"
   },
   "source": [
    "**EXERCISE 5: Dividing the data into moving time windows (optional)**\n",
    "\n",
    "Sometimes the time length of the data is large. Or, one wants to investigate the changes that occurs in finer time resolution. For example, we can apply a time window of 2 seconds with an overlap of 1 second to the data, dividing the data into 29 time segments of size 2000x106 matrix.\n",
    "\n",
    "\n",
    "\n",
    "• Write a code for a function that divide a given time series into moving time windows.\n",
    "\n",
    "• Using the codes from Exercise 1 and 2, construct a connectivity matrix for each time window.\n",
    "\n",
    "• We can now apply network measures to the resulting connectivity matrices."
   ]
  },
  {
   "cell_type": "code",
   "execution_count": 0,
   "metadata": {
    "colab": {
     "autoexec": {
      "startup": false,
      "wait_interval": 0
     }
    },
    "colab_type": "code",
    "id": "Yo5tnfS46-Lo"
   },
   "outputs": [],
   "source": [
    "win_len = 2000\n",
    "win_start = 10000\n",
    "overlap = 1000\n",
    "\n",
    "PLI_win = []\n",
    "dPLI_win = []\n",
    "\n",
    "for idx in range(0, george_base_angle.shape[0], overlap):\n",
    "  \n",
    "    temp = cal_dPLI_PLI(george_base_angle[idx:idx+win_len])\n",
    "    PLI_win += [temp[0]]\n",
    "    dPLI_win += [temp[1]]\n",
    "    \n",
    "PLI_win = np.array(PLI_win[:-1])\n",
    "dPLI_win = np.array(dPLI_win[:-1])"
   ]
  },
  {
   "cell_type": "markdown",
   "metadata": {
    "colab_type": "text",
    "id": "tiXaZvGj4vG2"
   },
   "source": [
    "**EXERCISE 6: Comparison between two different states of brain (optional, possible for mini projects)**\n",
    "\n",
    "The above analysis can be repeated to different states of the brain. For example, we can construct the network from anesthesized unconcious states. The provided data is from anesthetized George, induced with propofol. We can construct the connectivity network and apply network measure.\n",
    "\n",
    "• Repeat the processes in Exercise 1 and 2 to construct the resulting fuctional network.\n",
    "\n",
    "• Apply network measures as in Exercise 3, and phase measures as in Exercise 4. Compare the result with the resting state network. How are they different from each other?\n"
   ]
  },
  {
   "cell_type": "code",
   "execution_count": 0,
   "metadata": {
    "colab": {
     "autoexec": {
      "startup": false,
      "wait_interval": 0
     }
    },
    "colab_type": "code",
    "id": "FKcVJwjc4wG6"
   },
   "outputs": [],
   "source": []
  },
  {
   "cell_type": "markdown",
   "metadata": {
    "colab_type": "text",
    "id": "DWHHaM5tMhpH"
   },
   "source": [
    "**EXERCISE 7: Phase coherence (optional, possible for mini projects)**\n",
    "\n",
    "There are many measures which can be applied to construct functional connectivity matrix. One measure is phase coherence $(PC)$. Phase coherence $PC$ between two time-series $a$ and $b$ is defined as the following:\n",
    "\n",
    "$$ PC_{ab} = \\lvert  {R e^{i \\Theta_{ab}}}  \\rvert = \\left| \\frac{1}{T} \\sum_{t=1}^{T} e^{i \\theta_{ab}(t)} \\right| ,  \\\\ $$\n",
    "\n",
    "where $\\theta_{ab}(t)$ is difference of phases of time-series $a$ and $b$ at time $t$:\n",
    "\n",
    "$$ \\theta_{ab}(t) = \\theta_a(t) - \\theta_b(t) \\\\ $$\n",
    "\n",
    "\n",
    "• Construct a code for a function that computes $PC_{ij}$ for given time-series $i$ and $j$.\n",
    "\n",
    "• Construct a code for a function that constructs $PC$ matrix which contain $PC_{ij}$ for all possible pairs of time_series.\n",
    "\n",
    "• Use the codes to construct connectivity matrix as in Exercise 2.\n",
    "\n",
    "• After the construction, we can proceed to apply the measures as in Exercise 3.\n",
    "\n"
   ]
  },
  {
   "cell_type": "code",
   "execution_count": 0,
   "metadata": {
    "colab": {
     "autoexec": {
      "startup": false,
      "wait_interval": 0
     }
    },
    "colab_type": "code",
    "id": "6i4k6GfIM6eB"
   },
   "outputs": [],
   "source": []
  },
  {
   "cell_type": "markdown",
   "metadata": {
    "colab_type": "text",
    "id": "LsQzCoQ9unGG"
   },
   "source": [
    "** EXERCISE 8: Pearson correlation coefficients (optional, possible for mini projects)**\n",
    "\n",
    "• Another measure which can be used to construct connectivity matrix  is Pearson correlation coefficient $c$. Measure *Pearson* correlation coefficients ($c$) between all possible pairs, and contruct a correlation matrix with the coefficients as its element. The resulting matrix will be a symmetric matrix. The pearson correlation coefficient $c_{xy}$ between two data set  $x=\\{x_1, x_2, x_3, ..., x_n \\}$ and $y=\\{y_1, y_2, y_3, ..., y_n \\}$ is defined as the following: \n",
    "\n",
    "$$ c_{xy} = \\frac {  \\sum_{i=1}^{n} (x_i - \\bar x) (y_i - \\bar y) }  { \\sqrt { \\sum_{i=1}^{n} (x_i - \\bar x )^2 }  \\sqrt {\\sum_{i=1}^{n} (y_i - \\bar y)^2 }   } $$ \n",
    "\n",
    "where $\\bar x$ and $\\bar y$ are the mean of $x$ and $y$.\n",
    "\n",
    "Alternatively, we can rewrite in the following way:\n",
    "\n",
    "$$ c_{xy} = \\frac { cov(x,y) } { \\sqrt { var(x) \\ var(y)  } } $$\n",
    "\n",
    "\n",
    "\n",
    "where\n",
    "\n",
    "$$ cov(x,y) = \\langle  (x_i - \\bar x)  (y_i - \\bar y) \\rangle _i \\\\\n",
    "var(x,y) = \\langle x_i - \\bar x \\rangle _i.$$\n",
    "\n",
    "• You can construct a code for a function that computes $c_{ij}$ for given time-series $i$ and $j$, or you can use a numpy function, `np.corrcoef()`.\n",
    "\n",
    "• Construct a code for a function that constructs correlation coefficient $c$ matrix which contain $c_{ij}$ for all possible pairs of time series.\n",
    "\n",
    "• Use the codes to construct connectivity matrix as in Exercise 2.\n",
    "\n",
    "• After the construction, we can proceed to Exercise 3. "
   ]
  },
  {
   "cell_type": "code",
   "execution_count": 0,
   "metadata": {
    "colab": {
     "autoexec": {
      "startup": false,
      "wait_interval": 0
     }
    },
    "colab_type": "code",
    "id": "1HVnvVq86_eI"
   },
   "outputs": [],
   "source": []
  }
 ],
 "metadata": {
  "accelerator": "GPU",
  "colab": {
   "collapsed_sections": [],
   "default_view": {},
   "name": "2_introduction_to_complex_network_analysis_2",
   "provenance": [
    {
     "file_id": "1f0fDwkmvyFC_2ZPTL9vQgIm_UaUeTxAc",
     "timestamp": 1524738812951
    }
   ],
   "version": "0.3.2",
   "views": {}
  },
  "kernelspec": {
   "display_name": "Python 3",
   "language": "python",
   "name": "python3"
  },
  "language_info": {
   "codemirror_mode": {
    "name": "ipython",
    "version": 3
   },
   "file_extension": ".py",
   "mimetype": "text/x-python",
   "name": "python",
   "nbconvert_exporter": "python",
   "pygments_lexer": "ipython3",
   "version": "3.6.5"
  }
 },
 "nbformat": 4,
 "nbformat_minor": 1
}
