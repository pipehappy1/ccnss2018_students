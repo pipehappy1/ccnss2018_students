{
 "cells": [
  {
   "cell_type": "markdown",
   "metadata": {
    "colab_type": "text",
    "id": "TpnOn58EgfaE"
   },
   "source": [
    "## CCNSS 2018 Module 5: Whole-Brain Dynamics and Cognition\n",
    "# Tutorial 1: Introduction to Complex Network Analysis (I)\n"
   ]
  },
  {
   "cell_type": "markdown",
   "metadata": {
    "colab_type": "text",
    "id": "hi2UOXjigfaF"
   },
   "source": [
    "*Please execute the cell bellow in order to initialize the notebook environment*"
   ]
  },
  {
   "cell_type": "code",
   "execution_count": 1,
   "metadata": {
    "colab": {
     "autoexec": {
      "startup": false,
      "wait_interval": 0
     }
    },
    "colab_type": "code",
    "id": "8-NPhnZ7BEXd"
   },
   "outputs": [],
   "source": [
    "!if [ ! -d data ]; then git clone https://github.com/ccnss/ccnss2018_students; \\\n",
    "                        cp -rf ccnss2018_students/module5/1_introduction_to_complex_network_analysis_1/data ./; fi"
   ]
  },
  {
   "cell_type": "code",
   "execution_count": 2,
   "metadata": {
    "colab": {
     "autoexec": {
      "startup": false,
      "wait_interval": 0
     }
    },
    "colab_type": "code",
    "id": "nJgJVfSugfaG"
   },
   "outputs": [
    {
     "name": "stdout",
     "output_type": "stream",
     "text": [
      "Available data files: gong_net_list.txt macaque_net_list.txt\n"
     ]
    }
   ],
   "source": [
    "import matplotlib.pyplot as plt    # import matplotlib\n",
    "import numpy as np                 # import numpy\n",
    "import math                        # import basic math functions\n",
    "import random                      # import basic random number generator functions\n",
    "import csv                         # import CSV(Comma Separated Values) file reading and writing\n",
    "import scipy as sp                 # import scipy\n",
    "from scipy import signal           # import signal module from scipy\n",
    "from scipy import sparse           # import sparse module from scipy\n",
    "import os                          # import basic os functions\n",
    "import time                        # import time to measure real time\n",
    "import collections                 # import collections\n",
    "import networkx as nx              # import networkx \n",
    "\n",
    "\n",
    "#fig_w, fig_h = (6, 4)\n",
    "#plt.rcParams.update({'figure.figsize': (fig_w, fig_h)})\n",
    "\n",
    "data_folder = 'data'\n",
    "\n",
    "print('Available data files:', ' '.join(os.listdir(data_folder)))\n",
    "\n",
    "data_file_1 = os.path.join(data_folder, 'gong_net_list.txt')\n",
    "data_file_2 = os.path.join(data_folder, 'macaque_net_list.txt')"
   ]
  },
  {
   "cell_type": "markdown",
   "metadata": {
    "colab_type": "text",
    "id": "UwXIfh1Y9j66"
   },
   "source": [
    "# Objectives\n",
    "\n",
    "In this notebook we will introduce several important network analysis tools. Following up on the powerpoint tutorial, we will implement basic network measure using a human brain structural network as an example to apply the measures. We will compare the results with a random network with the same size. "
   ]
  },
  {
   "cell_type": "markdown",
   "metadata": {
    "colab_type": "text",
    "id": "HU7L6JxVgfaK"
   },
   "source": [
    "\n",
    "## Background\n",
    "\n",
    "Network theory is a powerful and universal tool which makes it possible to study the topology of complex systems. By observing the structural/functional network properties of the brain, we gain valuable insights into one of the most complex systems in the nature.\n",
    "\n",
    "Using the structural human network as an example, we will study the following properties:\n",
    "\n",
    "* Number of nodes ($N$) and number of links ($l$)\n",
    "* Degree ($k$) of each node and degree distribution of the network\n",
    "* Clustering coefficient ($C$)\n",
    "* Characteristic path length ($L$) and efficiency ($E$)\n",
    "* Betweenness centrality ($b$)\n"
   ]
  },
  {
   "cell_type": "markdown",
   "metadata": {
    "colab_type": "text",
    "id": "8xasXdTWh8Tq"
   },
   "source": [
    "** EXERCISE 1: Connectivity list and connectivity matrix, random network**\n",
    "\n",
    "The number of nodes $N$ and links $l$ in a network are the most fundamental characteristics of the network. When given a list of links between nodes, we can construct a connectivity matrix $A$ as follows:\n",
    "\n",
    "\\begin{align*}\n",
    "\\\\\n",
    "A_{ij} = \n",
    "\\begin{cases}\n",
    "1 & \\quad \\quad \\text{if } i \\text{ and } j \\text{ are connected}\\\\\n",
    "0 & \\quad \\quad  \\text{otherwise }\\\\\n",
    "\\end{cases}\n",
    "\\\\\n",
    "\\end{align*}\n",
    "\n",
    "\n",
    "In this definition, our resulting connectivity matrix will be symmetric. If two nodes are connected, they are called neighbours.\n",
    "\n",
    "• Given a list of network connections representing a human brain network (Gong et al. network), construct a connectivity matrix: each row and column will correspond to a node, and each nonzero element of the matrix will correspond to the link between those nodes.\n",
    "\n",
    "• Calculate the number of nodes in the network and the number of links between them. Simply, the number of rows (columns) of the matrix will be the number of nodes in the network, and the summation of the elements of the whole matrix devided by two will be the number of links in the network.\n"
   ]
  },
  {
   "cell_type": "code",
   "execution_count": 3,
   "metadata": {
    "colab": {
     "autoexec": {
      "startup": false,
      "wait_interval": 0
     }
    },
    "colab_type": "code",
    "id": "1PRK5myqmTtv"
   },
   "outputs": [],
   "source": [
    "net_gong_ut = [ row for row in csv.reader(open(data_file_1,'r'),delimiter='\\t')]\n",
    "net_gong_ut = np.array(net_gong_ut).astype(int)\n",
    "net_gong_lt = net_gong_ut[:,(1,0,2)]\n",
    "net_gong = np.concatenate( (net_gong_ut, net_gong_lt), axis=0)\n",
    "\n",
    "net_row_gong = net_gong[:,0]-1\n",
    "net_column_gong = net_gong[:,1]-1\n",
    "net_value_gong = net_gong[:,2]\n",
    "net_coord_gong = np.column_stack((net_row_gong,net_column_gong))"
   ]
  },
  {
   "cell_type": "code",
   "execution_count": 4,
   "metadata": {},
   "outputs": [
    {
     "data": {
      "text/plain": [
       "array([[ 0,  1],\n",
       "       [ 0,  2],\n",
       "       [ 1,  2],\n",
       "       ...,\n",
       "       [77, 48],\n",
       "       [77, 53],\n",
       "       [77, 68]])"
      ]
     },
     "execution_count": 4,
     "metadata": {},
     "output_type": "execute_result"
    }
   ],
   "source": [
    "net_coord_gong"
   ]
  },
  {
   "cell_type": "code",
   "execution_count": 5,
   "metadata": {
    "colab": {
     "autoexec": {
      "startup": false,
      "wait_interval": 0
     }
    },
    "colab_type": "code",
    "id": "fv9WEZW1WkoN"
   },
   "outputs": [],
   "source": [
    "# code for generating connectivity matrix from a connectivity list, for small or near-full network\n",
    "\n",
    "def calculate_network_mat(net_list):\n",
    "    len_net = np.amax(net_list)+1\n",
    "    len_list = len(net_list)\n",
    "    net_mat = np.zeros((len_net,len_net))\n",
    "    for i in range(len_list):\n",
    "        net_mat[ net_list[i,0] , net_list[i,1] ] = net_list[i,2]\n",
    "   \n",
    "    return net_mat   "
   ]
  },
  {
   "cell_type": "code",
   "execution_count": 6,
   "metadata": {
    "colab": {
     "autoexec": {
      "startup": false,
      "wait_interval": 0
     }
    },
    "colab_type": "code",
    "id": "vTvar5vq-DAG"
   },
   "outputs": [],
   "source": [
    "# code for generating connectivity matrix from a connectivity list, for large yet sparse network\n",
    "\n",
    "def calculate_network_mat2(net_list):\n",
    "    len_net =  np.amax(net_list)+1\n",
    "    net_mat = sp.sparse.coo_matrix((net_list[:,2], (net_list[:,0],net_list[:,1])), shape=(len_net,len_net) )\n",
    "    # net_mat_csc = sp.sparse.csc_matrix(net_mat)\n",
    "    \n",
    "    return net_mat"
   ]
  },
  {
   "cell_type": "code",
   "execution_count": 7,
   "metadata": {
    "colab": {
     "autoexec": {
      "startup": false,
      "wait_interval": 0
     }
    },
    "colab_type": "code",
    "id": "a3TwF-py_DfP"
   },
   "outputs": [
    {
     "name": "stdout",
     "output_type": "stream",
     "text": [
      "# of nodes in Gong network N: 78\n",
      "# of links in Gong network l: 329.0\n"
     ]
    }
   ],
   "source": [
    "net_gong_m = net_gong.copy()\n",
    "net_gong_m[:,:2] -= 1\n",
    "net_gong_mat = calculate_network_mat(net_gong_m)\n",
    "net_gong_mat2 = calculate_network_mat2(net_gong_m)\n",
    "\n",
    "net_gong_mat_N = len(net_gong_mat)\n",
    "net_gong_mat_l = np.sum(net_gong_mat)/2\n",
    "\n",
    "print('# of nodes in Gong network N:', net_gong_mat_N)\n",
    "print('# of links in Gong network l:', net_gong_mat_l)"
   ]
  },
  {
   "cell_type": "code",
   "execution_count": 8,
   "metadata": {},
   "outputs": [
    {
     "data": {
      "image/png": "[encoded data removed]",
      "text/plain": [
       "<Figure size 432x288 with 1 Axes>"
      ]
     },
     "metadata": {},
     "output_type": "display_data"
    }
   ],
   "source": [
    "net_gong_mat.shape\n",
    "plt.imshow(net_gong_mat)\n",
    "plt.show()"
   ]
  },
  {
   "cell_type": "code",
   "execution_count": 9,
   "metadata": {},
   "outputs": [
    {
     "data": {
      "text/plain": [
       "numpy.ndarray"
      ]
     },
     "execution_count": 9,
     "metadata": {},
     "output_type": "execute_result"
    }
   ],
   "source": [
    "type(net_gong_mat)"
   ]
  },
  {
   "cell_type": "markdown",
   "metadata": {
    "colab_type": "text",
    "id": "DZZqT2DsgfaQ"
   },
   "source": [
    "**EXPECTED OUTPUT**\n",
    "```\n",
    "# of nodes in Gong network N: 78\n",
    "# of links in Gong network l: 329.0\n",
    "```"
   ]
  },
  {
   "cell_type": "markdown",
   "metadata": {
    "colab_type": "text",
    "id": "2BtdyHFzKMh5"
   },
   "source": [
    "** EXERCISE 2: Degree and degree distribution**\n",
    "\n",
    "The degree $k_i$ of each node $i$ is the number of links that node has:\n",
    "\n",
    "$$ k_i = \\sum_{j=1}^NA_{ij} ,$$\n",
    "\n",
    "where $A_{ij}$ is the connectivity matrix.\n",
    "\n",
    "\n",
    "\n",
    "• From the above connectivity matrix, calculate the degree of each node.\n",
    "    \n",
    "• After calculating the degree, we can calculate $p(k)$, probability of degree being k. Using this probability distribution $p(k)$, plot the **cumulative** distribution of node degrees $P(k)$, defined as follows:\n",
    "\n",
    "$$ P(k) = \\int _k ^\\infty p(k) \\ dk  $$\n",
    "\n",
    "• Plot the above cumulative degree distribution $P(k)$ in a log-log plot.\n",
    "    \n",
    "• Repeat the above with a random network (with the provided code).\n",
    "\n",
    "• Then, draw the Gong network and the random network (use the nx package with  the provided code).\n"
   ]
  },
  {
   "cell_type": "code",
   "execution_count": 10,
   "metadata": {
    "colab": {
     "autoexec": {
      "startup": false,
      "wait_interval": 0
     }
    },
    "colab_type": "code",
    "id": "5bAdQtZFLww1"
   },
   "outputs": [
    {
     "name": "stdout",
     "output_type": "stream",
     "text": [
      "True\n",
      "78\n",
      "329.0\n",
      "<class 'numpy.ndarray'>\n"
     ]
    }
   ],
   "source": [
    "# random network generator #1\n",
    "p = 329/(78*77/2)\n",
    "net_rand_mat_l = 0\n",
    "while net_rand_mat_l != 329:\n",
    "    g = nx.erdos_renyi_graph(78,p)\n",
    "    net_rand_mat = nx.to_numpy_matrix(g)\n",
    "    net_rand_mat_N = len(net_rand_mat)\n",
    "    net_rand_mat_l = np.sum(net_rand_mat)/2\n",
    "\n",
    "net_rand_mat = np.array(net_rand_mat)\n",
    "print(nx.is_connected(g))\n",
    "print(net_rand_mat_N)\n",
    "print(net_rand_mat_l)\n",
    "print(type(net_rand_mat))"
   ]
  },
  {
   "cell_type": "code",
   "execution_count": 11,
   "metadata": {
    "colab": {
     "autoexec": {
      "startup": false,
      "wait_interval": 0
     }
    },
    "colab_type": "code",
    "id": "l_kNsQVTgUmr"
   },
   "outputs": [
    {
     "name": "stdout",
     "output_type": "stream",
     "text": [
      "True\n",
      "78\n",
      "329.0\n",
      "<class 'numpy.ndarray'>\n"
     ]
    }
   ],
   "source": [
    "# random network generator #2\n",
    "G = nx.gnm_random_graph(78, 329)\n",
    "net_rand2_mat = nx.to_numpy_matrix(G)\n",
    "net_rand2_mat_N = len(net_rand2_mat)\n",
    "net_rand2_mat_l = np.sum(net_rand2_mat)/2\n",
    "\n",
    "net_rand2_mat = np.array(net_rand2_mat)\n",
    "print(nx.is_connected(G))\n",
    "print(net_rand2_mat_N)\n",
    "print(net_rand2_mat_l)\n",
    "print(type(net_rand_mat))\n"
   ]
  },
  {
   "cell_type": "code",
   "execution_count": 12,
   "metadata": {
    "colab": {
     "autoexec": {
      "startup": false,
      "wait_interval": 0
     }
    },
    "colab_type": "code",
    "id": "NVIjVU2pzKfN"
   },
   "outputs": [
    {
     "data": {
      "image/png": "[encoded data removed]",
      "text/plain": [
       "<Figure size 432x288 with 3 Axes>"
      ]
     },
     "metadata": {},
     "output_type": "display_data"
    },
    {
     "data": {
      "image/png": "[encoded data removed]",
      "text/plain": [
       "<Figure size 432x288 with 1 Axes>"
      ]
     },
     "metadata": {},
     "output_type": "display_data"
    }
   ],
   "source": [
    "# Write your code here\n",
    "# computes degree of input network,\n",
    "# and also the cumulative probability distribution for the degree, and prints the resulting figures\n",
    "#plt.imshow(net_rand_mat);plt.show()\n",
    "#plt.imshow(net_rand2_mat);plt.show()\n",
    "\n",
    "c1 = np.sum(net_rand_mat, 1)\n",
    "nn = len(net_rand_mat)\n",
    "np.max(c1)\n",
    "\n",
    "pdf = np.zeros(int(np.max(c1))+1)\n",
    "\n",
    "for i in range(nn):\n",
    "\n",
    "    pdf[int(c1[i])] += 1\n",
    "    \n",
    "cdf = np.zeros(int(np.max(c1))+1)\n",
    "for i in range(int(np.max(c1))+1):\n",
    "    cdf[i] = np.sum(pdf[i:])\n",
    "    \n",
    "plt.subplot(131)\n",
    "plt.plot(c1)\n",
    "plt.subplot(132)\n",
    "plt.plot(pdf)\n",
    "plt.subplot(133)\n",
    "plt.plot(cdf)\n",
    "plt.show()\n",
    "\n",
    "\n",
    "plt.plot(np.log(0.001+np.arange(1,int(np.max(c1))+1)), np.log(0.001 + cdf[1:]))\n",
    "plt.show()"
   ]
  },
  {
   "cell_type": "markdown",
   "metadata": {
    "colab_type": "text",
    "id": "AKwwmpd-Qay-"
   },
   "source": [
    "1**EXPECTED OUTPUT**\n",
    "\n",
    "\n",
    "![](https://github.com/ccnss/ccnss2018_students/raw/master/module5/1_introduction_to_complex_network_analysis_1/figures/2_gong_network.png)\n",
    "\n",
    "![](https://github.com/ccnss/ccnss2018_students/raw/master/module5/1_introduction_to_complex_network_analysis_1/figures/2_random_network.png)"
   ]
  },
  {
   "cell_type": "code",
   "execution_count": 13,
   "metadata": {
    "colab": {
     "autoexec": {
      "startup": false,
      "wait_interval": 0
     },
     "base_uri": "https://localhost:8080/",
     "height": 870
    },
    "colab_type": "code",
    "executionInfo": {
     "elapsed": 2692,
     "status": "ok",
     "timestamp": 1531634782953,
     "user": {
      "displayName": "Joon-Young Moon",
      "photoUrl": "https://lh3.googleusercontent.com/a/default-user=s128",
      "userId": "101359764748737716811"
     },
     "user_tz": 240
    },
    "id": "yqh_Mw4CNSCt",
    "outputId": "ed5137da-151f-474e-d627-b71937426389"
   },
   "outputs": [
    {
     "data": {
      "image/png": "[encoded data removed]",
      "text/plain": [
       "<Figure size 432x288 with 1 Axes>"
      ]
     },
     "metadata": {},
     "output_type": "display_data"
    },
    {
     "data": {
      "image/png": "[encoded data removed]",
      "text/plain": [
       "<Figure size 432x288 with 1 Axes>"
      ]
     },
     "metadata": {},
     "output_type": "display_data"
    }
   ],
   "source": [
    "# draw Gong network and random network\n",
    "\n",
    "Graph_gong = nx.from_numpy_matrix(net_gong_mat)\n",
    "Graph_rand = nx.from_numpy_matrix(net_rand_mat)\n",
    "\n",
    "plt.figure()\n",
    "nx.draw(Graph_gong)\n",
    "plt.show()\n",
    "\n",
    "plt.figure()\n",
    "nx.draw(Graph_rand)\n",
    "plt.show()"
   ]
  },
  {
   "cell_type": "markdown",
   "metadata": {
    "colab_type": "text",
    "id": "KyeKc1R2QlVL"
   },
   "source": [
    "**EXERCISE 3: Clustering coefficient **\n",
    "\n",
    "The clustering coefficient ($C$) measures the local structure of a network, which can be calculated either for each node or the whole network. It is related to the number of a node's neighbours that are connected to each other.\n",
    "\n",
    "• The clustering coefficient $C_i$ of node $i$ with degree $k_i$, can be defined as the ratio between the actual number of links between neighbours of $i\\ (ln_i)$, and the maximum possible number of links between those neighbours:\n",
    "\n",
    "$$ C_i = \\frac{2 ln_i}{k_i(k_i - 1) }$$\n",
    "\n",
    "• The clustering coefficient $C$ of whole network is the average of all individual clustering coefficients:\n",
    "\n",
    "$$ C = \\frac{1}{N}\\sum_{i=1}^{N}{C_i }$$\n",
    "\n",
    "• The clustering coefficient $C$ varies between 0 and 1. High $C$ means that neighboring nodes are well interconnected. This suggests redundancy in connections, which protects the network against random error, i.e. the loss of an individual node will have little impact on the structure of the network.\n",
    "\n",
    "• Calculate the clustering coefficient $C$ for the human brain network and random network and compare the results.\n",
    "\n",
    "• Confirm that your results are correct, by comparing it with a function from the networkx library, `nx.clustering()`."
   ]
  },
  {
   "cell_type": "code",
   "execution_count": 14,
   "metadata": {
    "colab": {
     "autoexec": {
      "startup": false,
      "wait_interval": 0
     }
    },
    "colab_type": "code",
    "id": "J4ltj6nz5gxh"
   },
   "outputs": [],
   "source": [
    "# insert your code here\n",
    "# Write a function that calculates clustering coefficient of a given network and a node\n",
    "\n",
    "def clustering_coeff(net_mat, node_number):\n",
    "    neighs =  net_mat[node_number].astype(bool)\n",
    "    \n",
    "    ki = np.sum(net_mat[node_number])\n",
    "    if ki == 1:\n",
    "        return 0\n",
    "    else:\n",
    "        return np.sum(net_mat[neighs][:,neighs])/ki/(ki-1)\n",
    "    \n",
    "            "
   ]
  },
  {
   "cell_type": "code",
   "execution_count": 15,
   "metadata": {},
   "outputs": [
    {
     "data": {
      "text/plain": [
       "0.38095238095238093"
      ]
     },
     "execution_count": 15,
     "metadata": {},
     "output_type": "execute_result"
    }
   ],
   "source": [
    "clustering_coeff(net_gong_mat, 0)"
   ]
  },
  {
   "cell_type": "code",
   "execution_count": 16,
   "metadata": {
    "colab": {
     "autoexec": {
      "startup": false,
      "wait_interval": 0
     }
    },
    "colab_type": "code",
    "id": "eCSFjVjjKDUd"
   },
   "outputs": [
    {
     "name": "stdout",
     "output_type": "stream",
     "text": [
      "C of Gong network: 0.4917967040853442\n",
      "C of random network: 0.10743997078838707\n"
     ]
    }
   ],
   "source": [
    "# call the function and print the result (code #1)\n",
    "\n",
    "net_gong_mat_cc = np.zeros(net_gong_mat_N)\n",
    "for i in range(net_gong_mat_N):\n",
    "    net_gong_mat_cc[i] = clustering_coeff(net_gong_mat, i)\n",
    "net_gong_mat_cc_mean = np.mean(net_gong_mat_cc)\n",
    "print('C of Gong network:',net_gong_mat_cc_mean)\n",
    "\n",
    "net_rand_mat_cc = np.zeros(net_rand_mat_N)\n",
    "for i in range(net_rand_mat_N):\n",
    "    net_rand_mat_cc[i] = clustering_coeff(net_rand_mat, i)\n",
    "net_rand_mat_cc_mean = np.mean(net_rand_mat_cc)\n",
    "print('C of random network:',net_rand_mat_cc_mean)"
   ]
  },
  {
   "cell_type": "code",
   "execution_count": 17,
   "metadata": {
    "colab": {
     "autoexec": {
      "startup": false,
      "wait_interval": 0
     }
    },
    "colab_type": "code",
    "id": "_RO_NwHkVt5K"
   },
   "outputs": [
    {
     "name": "stdout",
     "output_type": "stream",
     "text": [
      "C of Gong network: 0.4917967040853441\n",
      "C of random network: 0.10743997078838707\n"
     ]
    }
   ],
   "source": [
    "# call the function and print the result (code #2: using nx.clustering() )\n",
    "graph = nx.to_networkx_graph(net_gong_mat)\n",
    "gong_cc = nx.clustering(graph) # dictionary where key = node\n",
    "gong_cc = np.array([gong_cc[i] for i in range(len(gong_cc))])\n",
    "print('C of Gong network:', np.mean(gong_cc))\n",
    "\n",
    "graph = nx.to_networkx_graph(net_rand_mat)\n",
    "rand_cc = nx.clustering(graph) # dictionary where key = node\n",
    "rand_cc = np.array([rand_cc[i] for i in range(len(rand_cc))])\n",
    "print('C of random network:', np.mean(rand_cc))"
   ]
  },
  {
   "cell_type": "markdown",
   "metadata": {
    "colab_type": "text",
    "id": "q8hrT861DkxT"
   },
   "source": [
    "**EXPECTED OUTPUT**\n",
    "\n",
    "```\n",
    "C of Gong network: 0.4917967040853441\n",
    "C of random network: 0.10466937955625738\n",
    "```"
   ]
  },
  {
   "cell_type": "markdown",
   "metadata": {
    "colab_type": "text",
    "id": "4rzQZNTxw2fx"
   },
   "source": [
    "**EXERCISE 4: Characteristic path length**\n",
    "\n",
    "The characteristic path length ($L$) is a measure indicating how integrated a network is and how easily information can flow. Calculate the following for both the human network and the random network and compare.\n",
    "\n",
    "• The path length or distance $d_{ij}$ between two nodes $i$ and $j$ is the smallest number of links that connect $i$ to $j$. The characteristic path length $L$ of a network is the average distance over all pairs of nodes:\n",
    "\n",
    "$$ L = \\frac{1}{N(N-1)} \\sum_{j,k \\in N, \\ i\\neq j} {d_{ij}} $$\n",
    "\n",
    "• The efficiency ($E$) of a network quantifies the exchange of information across the whole network where information is concurrently exchanged. It is defined as the average of the inverse distance over all nodes of the network.\n",
    "\n",
    "$$ E = \\frac{1}{N(N-1)} \\sum_{j,k \\in N, \\ i\\neq j} {1/d_{ij}} \\\\$$\n",
    "\n",
    "Comparing the above two measures between a given network of interest and a random network of the same size gives you an idea of how economically the network is constructed. \n",
    "\n",
    "• Write a code for a function calculating the distance matrix $d$ with $d_{ij}$ as its elements, given a connectivity matrix.\n",
    "\n",
    "• Using the distance matrix, make a function for $L$ and $E$ for a given connectivity matrix.\n",
    "\n",
    "• Hint: we can use the following useful property:\n",
    "\n",
    "\n",
    "$$\\\\ \n",
    "\\text{For connectivity matrix A}, {A^n}_{ij} \\text{ is the number of paths of length $n$ from $i$ to $j$.}\\\\$$ \n",
    "\n",
    "Therefore, the smallest natural number $n$ such that the ${A^n}_{ij}$ becomes positive, gives you the distance $d_{i,j}$ between two nodes $i$ and $j$."
   ]
  },
  {
   "cell_type": "code",
   "execution_count": 43,
   "metadata": {
    "colab": {
     "autoexec": {
      "startup": false,
      "wait_interval": 0
     }
    },
    "colab_type": "code",
    "id": "ctB9ewxniOKC"
   },
   "outputs": [],
   "source": [
    "# Write your code\n",
    "# calculate distance matrix from a given connectivity matrix\n",
    "\n",
    "def cal_net_mat_distance(net_mat):\n",
    "    dist_mat = np.array(net_mat)\n",
    "    prod_mat = np.array(net_mat)\n",
    "    while not np.all(dist_mat):\n",
    "        print('iteration starts')\n",
    "        print(dist_mat)\n",
    "        print(prod_mat)\n",
    "        prod_mat = np.dot(prod_mat, net_mat)\n",
    "        updated_mat = np.array(prod_mat)\n",
    "        #print(np.finfo(updated_mat.dtype).max)\n",
    "        updated_mat[updated_mat == 0] = 10000\n",
    "        print(updated_mat)\n",
    "        dist_mat[updated_mat < dist_mat] = updated_mat[updated_mat < dist_mat]\n",
    "    return dist_mat\n",
    "        "
   ]
  },
  {
   "cell_type": "code",
   "execution_count": 44,
   "metadata": {},
   "outputs": [
    {
     "name": "stdout",
     "output_type": "stream",
     "text": [
      "iteration starts\n",
      "[[0 1 1 0]\n",
      " [1 0 1 0]\n",
      " [1 1 0 1]\n",
      " [0 0 1 0]]\n",
      "[[0 1 1 0]\n",
      " [1 0 1 0]\n",
      " [1 1 0 1]\n",
      " [0 0 1 0]]\n",
      "[[    2     1     1     1]\n",
      " [    1     2     1     1]\n",
      " [    1     1     3 10000]\n",
      " [    1     1 10000     1]]\n",
      "iteration starts\n",
      "[[0 1 1 0]\n",
      " [1 0 1 0]\n",
      " [1 1 0 1]\n",
      " [0 0 1 0]]\n",
      "[[2 1 1 1]\n",
      " [1 2 1 1]\n",
      " [1 1 3 0]\n",
      " [1 1 0 1]]\n",
      "[[    2     3     4     1]\n",
      " [    3     2     4     1]\n",
      " [    4     4     2     3]\n",
      " [    1     1     3 10000]]\n",
      "iteration starts\n",
      "[[0 1 1 0]\n",
      " [1 0 1 0]\n",
      " [1 1 0 1]\n",
      " [0 0 1 0]]\n",
      "[[2 3 4 1]\n",
      " [3 2 4 1]\n",
      " [4 4 2 3]\n",
      " [1 1 3 0]]\n",
      "[[ 7  6  6  4]\n",
      " [ 6  7  6  4]\n",
      " [ 6  6 11  2]\n",
      " [ 4  4  2  3]]\n",
      "iteration starts\n",
      "[[0 1 1 0]\n",
      " [1 0 1 0]\n",
      " [1 1 0 1]\n",
      " [0 0 1 0]]\n",
      "[[ 7  6  6  4]\n",
      " [ 6  7  6  4]\n",
      " [ 6  6 11  2]\n",
      " [ 4  4  2  3]]\n",
      "[[12 13 17  6]\n",
      " [13 12 17  6]\n",
      " [17 17 14 11]\n",
      " [ 6  6 11  2]]\n",
      "iteration starts\n",
      "[[0 1 1 0]\n",
      " [1 0 1 0]\n",
      " [1 1 0 1]\n",
      " [0 0 1 0]]\n",
      "[[12 13 17  6]\n",
      " [13 12 17  6]\n",
      " [17 17 14 11]\n",
      " [ 6  6 11  2]]\n",
      "[[30 29 31 17]\n",
      " [29 30 31 17]\n",
      " [31 31 45 14]\n",
      " [17 17 14 11]]\n",
      "iteration starts\n",
      "[[0 1 1 0]\n",
      " [1 0 1 0]\n",
      " [1 1 0 1]\n",
      " [0 0 1 0]]\n",
      "[[30 29 31 17]\n",
      " [29 30 31 17]\n",
      " [31 31 45 14]\n",
      " [17 17 14 11]]\n",
      "[[60 61 76 31]\n",
      " [61 60 76 31]\n",
      " [76 76 76 45]\n",
      " [31 31 45 14]]\n",
      "iteration starts\n",
      "[[0 1 1 0]\n",
      " [1 0 1 0]\n",
      " [1 1 0 1]\n",
      " [0 0 1 0]]\n",
      "[[60 61 76 31]\n",
      " [61 60 76 31]\n",
      " [76 76 76 45]\n",
      " [31 31 45 14]]\n",
      "[[137 136 152  76]\n",
      " [136 137 152  76]\n",
      " [152 152 197  76]\n",
      " [ 76  76  76  45]]\n",
      "iteration starts\n",
      "[[0 1 1 0]\n",
      " [1 0 1 0]\n",
      " [1 1 0 1]\n",
      " [0 0 1 0]]\n",
      "[[137 136 152  76]\n",
      " [136 137 152  76]\n",
      " [152 152 197  76]\n",
      " [ 76  76  76  45]]\n",
      "[[288 289 349 152]\n",
      " [289 288 349 152]\n",
      " [349 349 380 197]\n",
      " [152 152 197  76]]\n",
      "iteration starts\n",
      "[[0 1 1 0]\n",
      " [1 0 1 0]\n",
      " [1 1 0 1]\n",
      " [0 0 1 0]]\n",
      "[[288 289 349 152]\n",
      " [289 288 349 152]\n",
      " [349 349 380 197]\n",
      " [152 152 197  76]]\n",
      "[[638 637 729 349]\n",
      " [637 638 729 349]\n",
      " [729 729 895 380]\n",
      " [349 349 380 197]]\n",
      "iteration starts\n",
      "[[0 1 1 0]\n",
      " [1 0 1 0]\n",
      " [1 1 0 1]\n",
      " [0 0 1 0]]\n",
      "[[638 637 729 349]\n",
      " [637 638 729 349]\n",
      " [729 729 895 380]\n",
      " [349 349 380 197]]\n",
      "[[1366 1367 1624  729]\n",
      " [1367 1366 1624  729]\n",
      " [1624 1624 1838  895]\n",
      " [ 729  729  895  380]]\n",
      "iteration starts\n",
      "[[0 1 1 0]\n",
      " [1 0 1 0]\n",
      " [1 1 0 1]\n",
      " [0 0 1 0]]\n",
      "[[1366 1367 1624  729]\n",
      " [1367 1366 1624  729]\n",
      " [1624 1624 1838  895]\n",
      " [ 729  729  895  380]]\n",
      "[[2991 2990 3462 1624]\n",
      " [2990 2991 3462 1624]\n",
      " [3462 3462 4143 1838]\n",
      " [1624 1624 1838  895]]\n",
      "iteration starts\n",
      "[[0 1 1 0]\n",
      " [1 0 1 0]\n",
      " [1 1 0 1]\n",
      " [0 0 1 0]]\n",
      "[[2991 2990 3462 1624]\n",
      " [2990 2991 3462 1624]\n",
      " [3462 3462 4143 1838]\n",
      " [1624 1624 1838  895]]\n",
      "[[6452 6453 7605 3462]\n",
      " [6453 6452 7605 3462]\n",
      " [7605 7605 8762 4143]\n",
      " [3462 3462 4143 1838]]\n",
      "iteration starts\n",
      "[[0 1 1 0]\n",
      " [1 0 1 0]\n",
      " [1 1 0 1]\n",
      " [0 0 1 0]]\n",
      "[[6452 6453 7605 3462]\n",
      " [6453 6452 7605 3462]\n",
      " [7605 7605 8762 4143]\n",
      " [3462 3462 4143 1838]]\n",
      "[[14058 14057 16367  7605]\n",
      " [14057 14058 16367  7605]\n",
      " [16367 16367 19353  8762]\n",
      " [ 7605  7605  8762  4143]]\n",
      "iteration starts\n",
      "[[0 1 1 0]\n",
      " [1 0 1 0]\n",
      " [1 1 0 1]\n",
      " [0 0 1 0]]\n",
      "[[14058 14057 16367  7605]\n",
      " [14057 14058 16367  7605]\n",
      " [16367 16367 19353  8762]\n",
      " [ 7605  7605  8762  4143]]\n",
      "[[30424 30425 35720 16367]\n",
      " [30425 30424 35720 16367]\n",
      " [35720 35720 41496 19353]\n",
      " [16367 16367 19353  8762]]\n",
      "iteration starts\n",
      "[[0 1 1 0]\n",
      " [1 0 1 0]\n",
      " [1 1 0 1]\n",
      " [0 0 1 0]]\n",
      "[[30424 30425 35720 16367]\n",
      " [30425 30424 35720 16367]\n",
      " [35720 35720 41496 19353]\n",
      " [16367 16367 19353  8762]]\n",
      "[[66145 66144 77216 35720]\n",
      " [66144 66145 77216 35720]\n",
      " [77216 77216 90793 41496]\n",
      " [35720 35720 41496 19353]]\n",
      "iteration starts\n",
      "[[0 1 1 0]\n",
      " [1 0 1 0]\n",
      " [1 1 0 1]\n",
      " [0 0 1 0]]\n",
      "[[66145 66144 77216 35720]\n",
      " [66144 66145 77216 35720]\n",
      " [77216 77216 90793 41496]\n",
      " [35720 35720 41496 19353]]\n",
      "[[143360 143361 168009  77216]\n",
      " [143361 143360 168009  77216]\n",
      " [168009 168009 195928  90793]\n",
      " [ 77216  77216  90793  41496]]\n",
      "iteration starts\n",
      "[[0 1 1 0]\n",
      " [1 0 1 0]\n",
      " [1 1 0 1]\n",
      " [0 0 1 0]]\n",
      "[[143360 143361 168009  77216]\n",
      " [143361 143360 168009  77216]\n",
      " [168009 168009 195928  90793]\n",
      " [ 77216  77216  90793  41496]]\n",
      "[[311370 311369 363937 168009]\n",
      " [311369 311370 363937 168009]\n",
      " [363937 363937 426811 195928]\n",
      " [168009 168009 195928  90793]]\n",
      "iteration starts\n",
      "[[0 1 1 0]\n",
      " [1 0 1 0]\n",
      " [1 1 0 1]\n",
      " [0 0 1 0]]\n",
      "[[311370 311369 363937 168009]\n",
      " [311369 311370 363937 168009]\n",
      " [363937 363937 426811 195928]\n",
      " [168009 168009 195928  90793]]\n",
      "[[675306 675307 790748 363937]\n",
      " [675307 675306 790748 363937]\n",
      " [790748 790748 923802 426811]\n",
      " [363937 363937 426811 195928]]\n",
      "iteration starts\n",
      "[[0 1 1 0]\n",
      " [1 0 1 0]\n",
      " [1 1 0 1]\n",
      " [0 0 1 0]]\n",
      "[[675306 675307 790748 363937]\n",
      " [675307 675306 790748 363937]\n",
      " [790748 790748 923802 426811]\n",
      " [363937 363937 426811 195928]]\n",
      "[[1466055 1466054 1714550  790748]\n",
      " [1466054 1466055 1714550  790748]\n",
      " [1714550 1714550 2008307  923802]\n",
      " [ 790748  790748  923802  426811]]\n",
      "iteration starts\n",
      "[[0 1 1 0]\n",
      " [1 0 1 0]\n",
      " [1 1 0 1]\n",
      " [0 0 1 0]]\n",
      "[[1466055 1466054 1714550  790748]\n",
      " [1466054 1466055 1714550  790748]\n",
      " [1714550 1714550 2008307  923802]\n",
      " [ 790748  790748  923802  426811]]\n",
      "[[3180604 3180605 3722857 1714550]\n",
      " [3180605 3180604 3722857 1714550]\n",
      " [3722857 3722857 4352902 2008307]\n",
      " [1714550 1714550 2008307  923802]]\n",
      "iteration starts\n",
      "[[0 1 1 0]\n",
      " [1 0 1 0]\n",
      " [1 1 0 1]\n",
      " [0 0 1 0]]\n",
      "[[3180604 3180605 3722857 1714550]\n",
      " [3180605 3180604 3722857 1714550]\n",
      " [3722857 3722857 4352902 2008307]\n",
      " [1714550 1714550 2008307  923802]]\n",
      "[[6903462 6903461 8075759 3722857]\n",
      " [6903461 6903462 8075759 3722857]\n",
      " [8075759 8075759 9454021 4352902]\n",
      " [3722857 3722857 4352902 2008307]]\n",
      "iteration starts\n",
      "[[0 1 1 0]\n",
      " [1 0 1 0]\n",
      " [1 1 0 1]\n",
      " [0 0 1 0]]\n",
      "[[6903462 6903461 8075759 3722857]\n",
      " [6903461 6903462 8075759 3722857]\n",
      " [8075759 8075759 9454021 4352902]\n",
      " [3722857 3722857 4352902 2008307]]\n",
      "[[14979220 14979221 17529780  8075759]\n",
      " [14979221 14979220 17529780  8075759]\n",
      " [17529780 17529780 20504420  9454021]\n",
      " [ 8075759  8075759  9454021  4352902]]\n",
      "iteration starts\n",
      "[[0 1 1 0]\n",
      " [1 0 1 0]\n",
      " [1 1 0 1]\n",
      " [0 0 1 0]]\n",
      "[[14979220 14979221 17529780  8075759]\n",
      " [14979221 14979220 17529780  8075759]\n",
      " [17529780 17529780 20504420  9454021]\n",
      " [ 8075759  8075759  9454021  4352902]]\n",
      "[[32509001 32509000 38034200 17529780]\n",
      " [32509000 32509001 38034200 17529780]\n",
      " [38034200 38034200 44513581 20504420]\n",
      " [17529780 17529780 20504420  9454021]]\n",
      "iteration starts\n",
      "[[0 1 1 0]\n",
      " [1 0 1 0]\n",
      " [1 1 0 1]\n",
      " [0 0 1 0]]\n",
      "[[32509001 32509000 38034200 17529780]\n",
      " [32509000 32509001 38034200 17529780]\n",
      " [38034200 38034200 44513581 20504420]\n",
      " [17529780 17529780 20504420  9454021]]\n",
      "[[70543200 70543201 82547781 38034200]\n",
      " [70543201 70543200 82547781 38034200]\n",
      " [82547781 82547781 96572820 44513581]\n",
      " [38034200 38034200 44513581 20504420]]\n",
      "iteration starts\n",
      "[[0 1 1 0]\n",
      " [1 0 1 0]\n",
      " [1 1 0 1]\n",
      " [0 0 1 0]]\n",
      "[[70543200 70543201 82547781 38034200]\n",
      " [70543201 70543200 82547781 38034200]\n",
      " [82547781 82547781 96572820 44513581]\n",
      " [38034200 38034200 44513581 20504420]]\n",
      "[[153090982 153090981 179120601  82547781]\n",
      " [153090981 153090982 179120601  82547781]\n",
      " [179120601 179120601 209609143  96572820]\n",
      " [ 82547781  82547781  96572820  44513581]]\n",
      "iteration starts\n",
      "[[0 1 1 0]\n",
      " [1 0 1 0]\n",
      " [1 1 0 1]\n",
      " [0 0 1 0]]\n",
      "[[153090982 153090981 179120601  82547781]\n",
      " [153090981 153090982 179120601  82547781]\n",
      " [179120601 179120601 209609143  96572820]\n",
      " [ 82547781  82547781  96572820  44513581]]\n",
      "[[332211582 332211583 388729744 179120601]\n",
      " [332211583 332211582 388729744 179120601]\n",
      " [388729744 388729744 454814022 209609143]\n",
      " [179120601 179120601 209609143  96572820]]\n",
      "iteration starts\n",
      "[[0 1 1 0]\n",
      " [1 0 1 0]\n",
      " [1 1 0 1]\n",
      " [0 0 1 0]]\n",
      "[[332211582 332211583 388729744 179120601]\n",
      " [332211583 332211582 388729744 179120601]\n",
      " [388729744 388729744 454814022 209609143]\n",
      " [179120601 179120601 209609143  96572820]]\n",
      "[[720941327 720941326 843543766 388729744]\n",
      " [720941326 720941327 843543766 388729744]\n",
      " [843543766 843543766 987068631 454814022]\n",
      " [388729744 388729744 454814022 209609143]]\n",
      "iteration starts\n",
      "[[0 1 1 0]\n",
      " [1 0 1 0]\n",
      " [1 1 0 1]\n",
      " [0 0 1 0]]\n",
      "[[720941327 720941326 843543766 388729744]\n",
      " [720941326 720941327 843543766 388729744]\n",
      " [843543766 843543766 987068631 454814022]\n",
      " [388729744 388729744 454814022 209609143]]\n",
      "[[1564485092 1564485093 1830612397  843543766]\n",
      " [1564485093 1564485092 1830612397  843543766]\n",
      " [1830612397 1830612397 2141901554  987068631]\n",
      " [ 843543766  843543766  987068631  454814022]]\n",
      "iteration starts\n",
      "[[0 1 1 0]\n",
      " [1 0 1 0]\n",
      " [1 1 0 1]\n",
      " [0 0 1 0]]\n",
      "[[1564485092 1564485093 1830612397  843543766]\n",
      " [1564485093 1564485092 1830612397  843543766]\n",
      " [1830612397 1830612397 2141901554  987068631]\n",
      " [ 843543766  843543766  987068631  454814022]]\n",
      "[[3395097490 3395097489 3972513951 1830612397]\n",
      " [3395097489 3395097490 3972513951 1830612397]\n",
      " [3972513951 3972513951 4648293425 2141901554]\n",
      " [1830612397 1830612397 2141901554  987068631]]\n",
      "iteration starts\n",
      "[[0 1 1 0]\n",
      " [1 0 1 0]\n",
      " [1 1 0 1]\n",
      " [0 0 1 0]]\n",
      "[[3395097490 3395097489 3972513951 1830612397]\n",
      " [3395097489 3395097490 3972513951 1830612397]\n",
      " [3972513951 3972513951 4648293425 2141901554]\n",
      " [1830612397 1830612397 2141901554  987068631]]\n",
      "[[ 7367611440  7367611441  8620807376  3972513951]\n",
      " [ 7367611441  7367611440  8620807376  3972513951]\n",
      " [ 8620807376  8620807376 10086929456  4648293425]\n",
      " [ 3972513951  3972513951  4648293425  2141901554]]\n",
      "iteration starts\n",
      "[[0 1 1 0]\n",
      " [1 0 1 0]\n",
      " [1 1 0 1]\n",
      " [0 0 1 0]]\n",
      "[[ 7367611440  7367611441  8620807376  3972513951]\n",
      " [ 7367611441  7367611440  8620807376  3972513951]\n",
      " [ 8620807376  8620807376 10086929456  4648293425]\n",
      " [ 3972513951  3972513951  4648293425  2141901554]]\n",
      "[[15988418817 15988418816 18707736832  8620807376]\n",
      " [15988418816 15988418817 18707736832  8620807376]\n",
      " [18707736832 18707736832 21889908177 10086929456]\n",
      " [ 8620807376  8620807376 10086929456  4648293425]]\n",
      "iteration starts\n",
      "[[0 1 1 0]\n",
      " [1 0 1 0]\n",
      " [1 1 0 1]\n",
      " [0 0 1 0]]\n",
      "[[15988418817 15988418816 18707736832  8620807376]\n",
      " [15988418816 15988418817 18707736832  8620807376]\n",
      " [18707736832 18707736832 21889908177 10086929456]\n",
      " [ 8620807376  8620807376 10086929456  4648293425]]\n",
      "[[34696155648 34696155649 40597645009 18707736832]\n",
      " [34696155649 34696155648 40597645009 18707736832]\n",
      " [40597645009 40597645009 47502403120 21889908177]\n",
      " [18707736832 18707736832 21889908177 10086929456]]\n",
      "iteration starts\n",
      "[[0 1 1 0]\n",
      " [1 0 1 0]\n",
      " [1 1 0 1]\n",
      " [0 0 1 0]]\n",
      "[[34696155648 34696155649 40597645009 18707736832]\n",
      " [34696155649 34696155648 40597645009 18707736832]\n",
      " [40597645009 40597645009 47502403120 21889908177]\n",
      " [18707736832 18707736832 21889908177 10086929456]]\n",
      "[[ 75293800658  75293800657  88100048129  40597645009]\n",
      " [ 75293800657  75293800658  88100048129  40597645009]\n",
      " [ 88100048129  88100048129 103085198195  47502403120]\n",
      " [ 40597645009  40597645009  47502403120  21889908177]]\n",
      "iteration starts\n",
      "[[0 1 1 0]\n",
      " [1 0 1 0]\n",
      " [1 1 0 1]\n",
      " [0 0 1 0]]\n",
      "[[ 75293800658  75293800657  88100048129  40597645009]\n",
      " [ 75293800657  75293800658  88100048129  40597645009]\n",
      " [ 88100048129  88100048129 103085198195  47502403120]\n",
      " [ 40597645009  40597645009  47502403120  21889908177]]\n",
      "[[163393848786 163393848787 191185246324  88100048129]\n",
      " [163393848787 163393848786 191185246324  88100048129]\n",
      " [191185246324 191185246324 223702499378 103085198195]\n",
      " [ 88100048129  88100048129 103085198195  47502403120]]\n",
      "iteration starts\n",
      "[[0 1 1 0]\n",
      " [1 0 1 0]\n",
      " [1 1 0 1]\n",
      " [0 0 1 0]]\n",
      "[[163393848786 163393848787 191185246324  88100048129]\n",
      " [163393848787 163393848786 191185246324  88100048129]\n",
      " [191185246324 191185246324 223702499378 103085198195]\n",
      " [ 88100048129  88100048129 103085198195  47502403120]]\n",
      "[[354579095111 354579095110 414887745702 191185246324]\n",
      " [354579095110 354579095111 414887745702 191185246324]\n",
      " [414887745702 414887745702 485455690843 223702499378]\n",
      " [191185246324 191185246324 223702499378 103085198195]]\n",
      "iteration starts\n",
      "[[0 1 1 0]\n",
      " [1 0 1 0]\n",
      " [1 1 0 1]\n",
      " [0 0 1 0]]\n",
      "[[354579095111 354579095110 414887745702 191185246324]\n",
      " [354579095110 354579095111 414887745702 191185246324]\n",
      " [414887745702 414887745702 485455690843 223702499378]\n",
      " [191185246324 191185246324 223702499378 103085198195]]\n",
      "[[ 769466840812  769466840813  900343436545  414887745702]\n",
      " [ 769466840813  769466840812  900343436545  414887745702]\n",
      " [ 900343436545  900343436545 1053477990782  485455690843]\n",
      " [ 414887745702  414887745702  485455690843  223702499378]]\n",
      "iteration starts\n",
      "[[0 1 1 0]\n",
      " [1 0 1 0]\n",
      " [1 1 0 1]\n",
      " [0 0 1 0]]\n",
      "[[ 769466840812  769466840813  900343436545  414887745702]\n",
      " [ 769466840813  769466840812  900343436545  414887745702]\n",
      " [ 900343436545  900343436545 1053477990782  485455690843]\n",
      " [ 414887745702  414887745702  485455690843  223702499378]]\n",
      "[[1669810277358 1669810277357 1953821427327  900343436545]\n",
      " [1669810277357 1669810277358 1953821427327  900343436545]\n",
      " [1953821427327 1953821427327 2286142563933 1053477990782]\n",
      " [ 900343436545  900343436545 1053477990782  485455690843]]\n",
      "iteration starts\n",
      "[[0 1 1 0]\n",
      " [1 0 1 0]\n",
      " [1 1 0 1]\n",
      " [0 0 1 0]]\n",
      "[[1669810277358 1669810277357 1953821427327  900343436545]\n",
      " [1669810277357 1669810277358 1953821427327  900343436545]\n",
      " [1953821427327 1953821427327 2286142563933 1053477990782]\n",
      " [ 900343436545  900343436545 1053477990782  485455690843]]\n",
      "[[3623631704684 3623631704685 4239963991260 1953821427327]\n",
      " [3623631704685 3623631704684 4239963991260 1953821427327]\n",
      " [4239963991260 4239963991260 4961120845436 2286142563933]\n",
      " [1953821427327 1953821427327 2286142563933 1053477990782]]\n",
      "iteration starts\n",
      "[[0 1 1 0]\n",
      " [1 0 1 0]\n",
      " [1 1 0 1]\n",
      " [0 0 1 0]]\n",
      "[[3623631704684 3623631704685 4239963991260 1953821427327]\n",
      " [3623631704685 3623631704684 4239963991260 1953821427327]\n",
      " [4239963991260 4239963991260 4961120845436 2286142563933]\n",
      " [1953821427327 1953821427327 2286142563933 1053477990782]]\n",
      "[[ 7863595695945  7863595695944  9201084836696  4239963991260]\n",
      " [ 7863595695944  7863595695945  9201084836696  4239963991260]\n",
      " [ 9201084836696  9201084836696 10766070546453  4961120845436]\n",
      " [ 4239963991260  4239963991260  4961120845436  2286142563933]]\n",
      "iteration starts\n",
      "[[0 1 1 0]\n",
      " [1 0 1 0]\n",
      " [1 1 0 1]\n",
      " [0 0 1 0]]\n",
      "[[ 7863595695945  7863595695944  9201084836696  4239963991260]\n",
      " [ 7863595695944  7863595695945  9201084836696  4239963991260]\n",
      " [ 9201084836696  9201084836696 10766070546453  4961120845436]\n",
      " [ 4239963991260  4239963991260  4961120845436  2286142563933]]\n",
      "[[17064680532640 17064680532641 19967155383149  9201084836696]\n",
      " [17064680532641 17064680532640 19967155383149  9201084836696]\n",
      " [19967155383149 19967155383149 23363290518828 10766070546453]\n",
      " [ 9201084836696  9201084836696 10766070546453  4961120845436]]\n",
      "iteration starts\n",
      "[[0 1 1 0]\n",
      " [1 0 1 0]\n",
      " [1 1 0 1]\n",
      " [0 0 1 0]]\n",
      "[[17064680532640 17064680532641 19967155383149  9201084836696]\n",
      " [17064680532641 17064680532640 19967155383149  9201084836696]\n",
      " [19967155383149 19967155383149 23363290518828 10766070546453]\n",
      " [ 9201084836696  9201084836696 10766070546453  4961120845436]]\n",
      "[[37031835915790 37031835915789 43330445901977 19967155383149]\n",
      " [37031835915789 37031835915790 43330445901977 19967155383149]\n",
      " [43330445901977 43330445901977 50700381312751 23363290518828]\n",
      " [19967155383149 19967155383149 23363290518828 10766070546453]]\n",
      "iteration starts\n",
      "[[0 1 1 0]\n",
      " [1 0 1 0]\n",
      " [1 1 0 1]\n",
      " [0 0 1 0]]\n",
      "[[37031835915790 37031835915789 43330445901977 19967155383149]\n",
      " [37031835915789 37031835915790 43330445901977 19967155383149]\n",
      " [43330445901977 43330445901977 50700381312751 23363290518828]\n",
      " [19967155383149 19967155383149 23363290518828 10766070546453]]\n",
      "[[ 80362281817766  80362281817767  94030827214728  43330445901977]\n",
      " [ 80362281817767  80362281817766  94030827214728  43330445901977]\n",
      " [ 94030827214728  94030827214728 110024182322782  50700381312751]\n",
      " [ 43330445901977  43330445901977  50700381312751  23363290518828]]\n",
      "iteration starts\n",
      "[[0 1 1 0]\n",
      " [1 0 1 0]\n",
      " [1 1 0 1]\n",
      " [0 0 1 0]]\n",
      "[[ 80362281817766  80362281817767  94030827214728  43330445901977]\n",
      " [ 80362281817767  80362281817766  94030827214728  43330445901977]\n",
      " [ 94030827214728  94030827214728 110024182322782  50700381312751]\n",
      " [ 43330445901977  43330445901977  50700381312751  23363290518828]]\n",
      "[[174393109032495 174393109032494 204055009537510  94030827214728]\n",
      " [174393109032494 174393109032495 204055009537510  94030827214728]\n",
      " [204055009537510 204055009537510 238762035742207 110024182322782]\n",
      " [ 94030827214728  94030827214728 110024182322782  50700381312751]]\n",
      "iteration starts\n",
      "[[0 1 1 0]\n",
      " [1 0 1 0]\n",
      " [1 1 0 1]\n",
      " [0 0 1 0]]\n",
      "[[174393109032495 174393109032494 204055009537510  94030827214728]\n",
      " [174393109032494 174393109032495 204055009537510  94030827214728]\n",
      " [204055009537510 204055009537510 238762035742207 110024182322782]\n",
      " [ 94030827214728  94030827214728 110024182322782  50700381312751]]\n",
      "[[378448118570004 378448118570005 442817045279717 204055009537510]\n",
      " [378448118570005 378448118570004 442817045279717 204055009537510]\n",
      " [442817045279717 442817045279717 518134201397802 238762035742207]\n",
      " [204055009537510 204055009537510 238762035742207 110024182322782]]\n",
      "iteration starts\n",
      "[[0 1 1 0]\n",
      " [1 0 1 0]\n",
      " [1 1 0 1]\n",
      " [0 0 1 0]]\n",
      "[[378448118570004 378448118570005 442817045279717 204055009537510]\n",
      " [378448118570005 378448118570004 442817045279717 204055009537510]\n",
      " [442817045279717 442817045279717 518134201397802 238762035742207]\n",
      " [204055009537510 204055009537510 238762035742207 110024182322782]]\n",
      "[[ 821265163849722  821265163849721  960951246677519  442817045279717]\n",
      " [ 821265163849721  821265163849722  960951246677519  442817045279717]\n",
      " [ 960951246677519  960951246677519 1124396126301641  518134201397802]\n",
      " [ 442817045279717  442817045279717  518134201397802  238762035742207]]\n",
      "iteration starts\n",
      "[[0 1 1 0]\n",
      " [1 0 1 0]\n",
      " [1 1 0 1]\n",
      " [0 0 1 0]]\n",
      "[[ 821265163849722  821265163849721  960951246677519  442817045279717]\n",
      " [ 821265163849721  821265163849722  960951246677519  442817045279717]\n",
      " [ 960951246677519  960951246677519 1124396126301641  518134201397802]\n",
      " [ 442817045279717  442817045279717  518134201397802  238762035742207]]\n",
      "[[1782216410527240 1782216410527241 2085347372979160  960951246677519]\n",
      " [1782216410527241 1782216410527240 2085347372979160  960951246677519]\n",
      " [2085347372979160 2085347372979160 2440036694752840 1124396126301641]\n",
      " [ 960951246677519  960951246677519 1124396126301641  518134201397802]]\n",
      "iteration starts\n",
      "[[0 1 1 0]\n",
      " [1 0 1 0]\n",
      " [1 1 0 1]\n",
      " [0 0 1 0]]\n",
      "[[1782216410527240 1782216410527241 2085347372979160  960951246677519]\n",
      " [1782216410527241 1782216410527240 2085347372979160  960951246677519]\n",
      " [2085347372979160 2085347372979160 2440036694752840 1124396126301641]\n",
      " [ 960951246677519  960951246677519 1124396126301641  518134201397802]]\n",
      "[[3867563783506401 3867563783506400 4525384067732000 2085347372979160]\n",
      " [3867563783506400 3867563783506401 4525384067732000 2085347372979160]\n",
      " [4525384067732000 4525384067732000 5295090872259961 2440036694752840]\n",
      " [2085347372979160 2085347372979160 2440036694752840 1124396126301641]]\n",
      "iteration starts\n",
      "[[0 1 1 0]\n",
      " [1 0 1 0]\n",
      " [1 1 0 1]\n",
      " [0 0 1 0]]\n",
      "[[3867563783506401 3867563783506400 4525384067732000 2085347372979160]\n",
      " [3867563783506400 3867563783506401 4525384067732000 2085347372979160]\n",
      " [4525384067732000 4525384067732000 5295090872259961 2440036694752840]\n",
      " [2085347372979160 2085347372979160 2440036694752840 1124396126301641]]\n",
      "[[ 8392947851238400  8392947851238401  9820474939991961  4525384067732000]\n",
      " [ 8392947851238401  8392947851238400  9820474939991961  4525384067732000]\n",
      " [ 9820474939991961  9820474939991961 11490804830216840  5295090872259961]\n",
      " [ 4525384067732000  4525384067732000  5295090872259961  2440036694752840]]\n",
      "iteration starts\n",
      "[[0 1 1 0]\n",
      " [1 0 1 0]\n",
      " [1 1 0 1]\n",
      " [0 0 1 0]]\n",
      "[[ 8392947851238400  8392947851238401  9820474939991961  4525384067732000]\n",
      " [ 8392947851238401  8392947851238400  9820474939991961  4525384067732000]\n",
      " [ 9820474939991961  9820474939991961 11490804830216840  5295090872259961]\n",
      " [ 4525384067732000  4525384067732000  5295090872259961  2440036694752840]]\n",
      "[[18213422791230362 18213422791230361 21311279770208801  9820474939991961]\n",
      " [18213422791230361 18213422791230362 21311279770208801  9820474939991961]\n",
      " [21311279770208801 21311279770208801 24936040752243883 11490804830216840]\n",
      " [ 9820474939991961  9820474939991961 11490804830216840  5295090872259961]]\n",
      "iteration starts\n",
      "[[0 1 1 0]\n",
      " [1 0 1 0]\n",
      " [1 1 0 1]\n",
      " [0 0 1 0]]\n",
      "[[18213422791230362 18213422791230361 21311279770208801  9820474939991961]\n",
      " [18213422791230361 18213422791230362 21311279770208801  9820474939991961]\n",
      " [21311279770208801 21311279770208801 24936040752243883 11490804830216840]\n",
      " [ 9820474939991961  9820474939991961 11490804830216840  5295090872259961]]\n",
      "[[39524702561439162 39524702561439163 46247320522452684 21311279770208801]\n",
      " [39524702561439163 39524702561439162 46247320522452684 21311279770208801]\n",
      " [46247320522452684 46247320522452684 54113364370634442 24936040752243883]\n",
      " [21311279770208801 21311279770208801 24936040752243883 11490804830216840]]\n",
      "iteration starts\n",
      "[[0 1 1 0]\n",
      " [1 0 1 0]\n",
      " [1 1 0 1]\n",
      " [0 0 1 0]]\n",
      "[[39524702561439162 39524702561439163 46247320522452684 21311279770208801]\n",
      " [39524702561439163 39524702561439162 46247320522452684 21311279770208801]\n",
      " [46247320522452684 46247320522452684 54113364370634442 24936040752243883]\n",
      " [21311279770208801 21311279770208801 24936040752243883 11490804830216840]]\n",
      "[[ 85772023083891847  85772023083891846 100360684893087126\n",
      "   46247320522452684]\n",
      " [ 85772023083891846  85772023083891847 100360684893087126\n",
      "   46247320522452684]\n",
      " [100360684893087126 100360684893087126 117430681797149251\n",
      "   54113364370634442]\n",
      " [ 46247320522452684  46247320522452684  54113364370634442\n",
      "   24936040752243883]]\n",
      "iteration starts\n",
      "[[0 1 1 0]\n",
      " [1 0 1 0]\n",
      " [1 1 0 1]\n",
      " [0 0 1 0]]\n",
      "[[ 85772023083891847  85772023083891846 100360684893087126\n",
      "   46247320522452684]\n",
      " [ 85772023083891846  85772023083891847 100360684893087126\n",
      "   46247320522452684]\n",
      " [100360684893087126 100360684893087126 117430681797149251\n",
      "   54113364370634442]\n",
      " [ 46247320522452684  46247320522452684  54113364370634442\n",
      "   24936040752243883]]\n",
      "[[186132707976978972 186132707976978973 217791366690236377\n",
      "  100360684893087126]\n",
      " [186132707976978973 186132707976978972 217791366690236377\n",
      "  100360684893087126]\n",
      " [217791366690236377 217791366690236377 254834734156808694\n",
      "  117430681797149251]\n",
      " [100360684893087126 100360684893087126 117430681797149251\n",
      "   54113364370634442]]\n",
      "iteration starts\n",
      "[[0 1 1 0]\n",
      " [1 0 1 0]\n",
      " [1 1 0 1]\n",
      " [0 0 1 0]]\n",
      "[[186132707976978972 186132707976978973 217791366690236377\n",
      "  100360684893087126]\n",
      " [186132707976978973 186132707976978972 217791366690236377\n",
      "  100360684893087126]\n",
      " [217791366690236377 217791366690236377 254834734156808694\n",
      "  117430681797149251]\n",
      " [100360684893087126 100360684893087126 117430681797149251\n",
      "   54113364370634442]]\n",
      "[[403924074667215350 403924074667215349 472626100847045071\n",
      "  217791366690236377]\n",
      " [403924074667215349 403924074667215350 472626100847045071\n",
      "  217791366690236377]\n",
      " [472626100847045071 472626100847045071 553013415177622005\n",
      "  254834734156808694]\n",
      " [217791366690236377 217791366690236377 254834734156808694\n",
      "  117430681797149251]]\n",
      "iteration starts\n",
      "[[0 1 1 0]\n",
      " [1 0 1 0]\n",
      " [1 1 0 1]\n",
      " [0 0 1 0]]\n",
      "[[403924074667215350 403924074667215349 472626100847045071\n",
      "  217791366690236377]\n",
      " [403924074667215349 403924074667215350 472626100847045071\n",
      "  217791366690236377]\n",
      " [472626100847045071 472626100847045071 553013415177622005\n",
      "  254834734156808694]\n",
      " [217791366690236377 217791366690236377 254834734156808694\n",
      "  117430681797149251]]\n",
      "[[ 876550175514260420  876550175514260421 1025639516024667076\n",
      "   472626100847045071]\n",
      " [ 876550175514260421  876550175514260420 1025639516024667076\n",
      "   472626100847045071]\n",
      " [1025639516024667076 1025639516024667076 1200086935850898836\n",
      "   553013415177622005]\n",
      " [ 472626100847045071  472626100847045071  553013415177622005\n",
      "   254834734156808694]]\n",
      "iteration starts\n",
      "[[0 1 1 0]\n",
      " [1 0 1 0]\n",
      " [1 1 0 1]\n",
      " [0 0 1 0]]\n",
      "[[ 876550175514260420  876550175514260421 1025639516024667076\n",
      "   472626100847045071]\n",
      " [ 876550175514260421  876550175514260420 1025639516024667076\n",
      "   472626100847045071]\n",
      " [1025639516024667076 1025639516024667076 1200086935850898836\n",
      "   553013415177622005]\n",
      " [ 472626100847045071  472626100847045071  553013415177622005\n",
      "   254834734156808694]]\n",
      "[[1902189691538927497 1902189691538927496 2225726451875565912\n",
      "  1025639516024667076]\n",
      " [1902189691538927496 1902189691538927497 2225726451875565912\n",
      "  1025639516024667076]\n",
      " [2225726451875565912 2225726451875565912 2604292447226956157\n",
      "  1200086935850898836]\n",
      " [1025639516024667076 1025639516024667076 1200086935850898836\n",
      "   553013415177622005]]\n",
      "iteration starts\n",
      "[[0 1 1 0]\n",
      " [1 0 1 0]\n",
      " [1 1 0 1]\n",
      " [0 0 1 0]]\n",
      "[[1902189691538927497 1902189691538927496 2225726451875565912\n",
      "  1025639516024667076]\n",
      " [1902189691538927496 1902189691538927497 2225726451875565912\n",
      "  1025639516024667076]\n",
      " [2225726451875565912 2225726451875565912 2604292447226956157\n",
      "  1200086935850898836]\n",
      " [1025639516024667076 1025639516024667076 1200086935850898836\n",
      "   553013415177622005]]\n",
      "[[4127916143414493408 4127916143414493409 4830018899102522069\n",
      "  2225726451875565912]\n",
      " [4127916143414493409 4127916143414493408 4830018899102522069\n",
      "  2225726451875565912]\n",
      " [4830018899102522069 4830018899102522069 5651539839602030660\n",
      "  2604292447226956157]\n",
      " [2225726451875565912 2225726451875565912 2604292447226956157\n",
      "  1200086935850898836]]\n",
      "iteration starts\n",
      "[[0 1 1 0]\n",
      " [1 0 1 0]\n",
      " [1 1 0 1]\n",
      " [0 0 1 0]]\n",
      "[[4127916143414493408 4127916143414493409 4830018899102522069\n",
      "  2225726451875565912]\n",
      " [4127916143414493409 4127916143414493408 4830018899102522069\n",
      "  2225726451875565912]\n",
      " [4830018899102522069 4830018899102522069 5651539839602030660\n",
      "  2604292447226956157]\n",
      " [2225726451875565912 2225726451875565912 2604292447226956157\n",
      "  1200086935850898836]]\n",
      "[[ 8957935042517015478  8957935042517015477 -7965185335004998887\n",
      "   4830018899102522069]\n",
      " [ 8957935042517015477  8957935042517015478 -7965185335004998887\n",
      "   4830018899102522069]\n",
      " [-7965185335004998887 -7965185335004998887 -6182413828277551321\n",
      "   5651539839602030660]\n",
      " [ 4830018899102522069  4830018899102522069  5651539839602030660\n",
      "   2604292447226956157]]\n",
      "iteration starts\n",
      "[[                   0                    1 -7965185335004998887\n",
      "                     0]\n",
      " [                   1                    0 -7965185335004998887\n",
      "                     0]\n",
      " [-7965185335004998887 -7965185335004998887 -6182413828277551321\n",
      "                     1]\n",
      " [                   0                    0                    1\n",
      "                     0]]\n",
      "[[ 8957935042517015478  8957935042517015477 -7965185335004998887\n",
      "   4830018899102522069]\n",
      " [ 8957935042517015477  8957935042517015478 -7965185335004998887\n",
      "   4830018899102522069]\n",
      " [-7965185335004998887 -7965185335004998887 -6182413828277551321\n",
      "   5651539839602030660]\n",
      " [ 4830018899102522069  4830018899102522069  5651539839602030660\n",
      "   2604292447226956157]]\n",
      "[[  992749707512016590   992749707512016591  4299144910427001408\n",
      "  -7965185335004998887]\n",
      " [  992749707512016591   992749707512016590  4299144910427001408\n",
      "  -7965185335004998887]\n",
      " [ 4299144910427001408  4299144910427001408  8167913243301584502\n",
      "  -6182413828277551321]\n",
      " [-7965185335004998887 -7965185335004998887 -6182413828277551321\n",
      "   5651539839602030660]]\n",
      "iteration starts\n",
      "[[                   0                    1 -7965185335004998887\n",
      "  -7965185335004998887]\n",
      " [                   1                    0 -7965185335004998887\n",
      "  -7965185335004998887]\n",
      " [-7965185335004998887 -7965185335004998887 -6182413828277551321\n",
      "  -6182413828277551321]\n",
      " [-7965185335004998887 -7965185335004998887 -6182413828277551321\n",
      "                     0]]\n",
      "[[  992749707512016590   992749707512016591  4299144910427001408\n",
      "  -7965185335004998887]\n",
      " [  992749707512016591   992749707512016590  4299144910427001408\n",
      "  -7965185335004998887]\n",
      " [ 4299144910427001408  4299144910427001408  8167913243301584502\n",
      "  -6182413828277551321]\n",
      " [-7965185335004998887 -7965185335004998887 -6182413828277551321\n",
      "   5651539839602030660]]\n",
      "[[ 5291894617939017999  5291894617939017998 -5979685919980965706\n",
      "   4299144910427001408]\n",
      " [ 5291894617939017998  5291894617939017999 -5979685919980965706\n",
      "   4299144910427001408]\n",
      " [-5979685919980965706 -5979685919980965706  2415875992576451495\n",
      "   8167913243301584502]\n",
      " [ 4299144910427001408  4299144910427001408  8167913243301584502\n",
      "  -6182413828277551321]]\n",
      "iteration starts\n",
      "[[                   0                    1 -7965185335004998887\n",
      "  -7965185335004998887]\n",
      " [                   1                    0 -7965185335004998887\n",
      "  -7965185335004998887]\n",
      " [-7965185335004998887 -7965185335004998887 -6182413828277551321\n",
      "  -6182413828277551321]\n",
      " [-7965185335004998887 -7965185335004998887 -6182413828277551321\n",
      "  -6182413828277551321]]\n",
      "[[ 5291894617939017999  5291894617939017998 -5979685919980965706\n",
      "   4299144910427001408]\n",
      " [ 5291894617939017998  5291894617939017999 -5979685919980965706\n",
      "   4299144910427001408]\n",
      " [-5979685919980965706 -5979685919980965706  2415875992576451495\n",
      "   8167913243301584502]\n",
      " [ 4299144910427001408  4299144910427001408  8167913243301584502\n",
      "  -6182413828277551321]]\n",
      "[[ -687791302041947708  -687791302041947707 -3563809927404514211\n",
      "  -5979685919980965706]\n",
      " [ -687791302041947707  -687791302041947708 -3563809927404514211\n",
      "  -5979685919980965706]\n",
      " [-3563809927404514211 -3563809927404514211 -3791458596660346910\n",
      "   2415875992576451495]\n",
      " [-5979685919980965706 -5979685919980965706  2415875992576451495\n",
      "   8167913243301584502]]\n",
      "[[ -687791302041947708  -687791302041947707 -7965185335004998887\n",
      "  -7965185335004998887]\n",
      " [ -687791302041947707  -687791302041947708 -7965185335004998887\n",
      "  -7965185335004998887]\n",
      " [-7965185335004998887 -7965185335004998887 -6182413828277551321\n",
      "  -6182413828277551321]\n",
      " [-7965185335004998887 -7965185335004998887 -6182413828277551321\n",
      "  -6182413828277551321]]\n"
     ]
    },
    {
     "data": {
      "image/png": "[encoded data removed]",
      "text/plain": [
       "<Figure size 432x288 with 1 Axes>"
      ]
     },
     "metadata": {},
     "output_type": "display_data"
    }
   ],
   "source": [
    "dist = cal_net_mat_distance(np.array([[0, 1, 1, 0],\n",
    "                                      [1, 0, 1, 0],\n",
    "                                      [1, 1, 0, 1],\n",
    "                                      [0, 0, 1, 0]]))\n",
    "print(dist)\n",
    "plt.imshow(dist)\n",
    "plt.show()"
   ]
  },
  {
   "cell_type": "code",
   "execution_count": 0,
   "metadata": {
    "colab": {
     "autoexec": {
      "startup": false,
      "wait_interval": 0
     }
    },
    "colab_type": "code",
    "id": "RvxYX8wvdIX6"
   },
   "outputs": [],
   "source": [
    "# Write your code\n",
    "# calculate characteristic path length and efficiency from a given distance matrix\n",
    "\n",
    "def net_L_E(net_mat_d):\n",
    "\n",
    "    \n",
    "    return L, E"
   ]
  },
  {
   "cell_type": "code",
   "execution_count": 0,
   "metadata": {
    "colab": {
     "autoexec": {
      "startup": false,
      "wait_interval": 0
     }
    },
    "colab_type": "code",
    "id": "IWvlX5YAdLPq"
   },
   "outputs": [],
   "source": [
    "net_gong_mat_d = net_mat_distance(net_gong_mat)\n",
    "L, E = net_L_E(net_gong_mat_d)\n",
    "\n",
    "print('L:', L,'\\t', 'E:', E)"
   ]
  },
  {
   "cell_type": "markdown",
   "metadata": {
    "colab_type": "text",
    "id": "ZBJKWp6pZs1w"
   },
   "source": [
    "**EXPECTED OUTPUT**\n",
    "```\n",
    "L: 2.8071928071928074 \t E: 0.431013431013431\n",
    "```"
   ]
  },
  {
   "cell_type": "markdown",
   "metadata": {
    "colab_type": "text",
    "id": "tiXaZvGj4vG2"
   },
   "source": [
    "** EXERCISE 5: Betweenness centrality **\n",
    "\n",
    "The betweenness centrality ($b$) is a measure of centrality in a network, based on shortest paths. For every pair of nodes in a connected network, there exists at least one shortest path between the nodes such that the number of links that the path passes through is minimized.\n",
    "\n",
    "The betweenness centrality for each node ($b_i$) is the number of the shortest paths that pass through the nodes:\n",
    "\n",
    "$$ b_i = \\sum_{j,k \\in N, \\ j\\neq k} {\\frac{n_{jk}(i)}{n_{jk}}} $$\n",
    "\n",
    "where $n_{jk}$ is the number of the shortest paths between nodes $j$ and $k$, and $n_{jk}(i)$ is the number of these paths that go through node $i$. One can also define betweenness centraity for the network:\n",
    "\n",
    "$$ b = \\frac{1}{N} \\sum_{i = 1}^{N} b_i $$\n",
    "\n",
    "• Write a code for a function that calculates $b_i$ for a given connectivity matrix and a given node $i$, using the `networkx` library. The functions `nx.to_networkx_graph()` and `nx.betweenness_centrality()` can be useful.\n",
    "\n",
    "\n",
    "• Calculate the betweenness centrality for the human brain network and random network and compare the value.\n",
    "\n",
    "\n",
    "• Fi you have time, calculate the betweenness centrality for each node of human network and identify the areas with highest betweenness centrality (choose top 5 nodes). \n",
    "\n",
    "• What are the degrees and clustering coefficients ($k_i$ and $C_i$) of the nodes with high $b_i$?\n",
    "\n",
    "• Repeat the calculation with the random network, and identify the characteristics of nodes with highest $b_i$ (choose top 5).\n",
    "\n",
    "A node with high betweenness centrality would have more control over the network, because more information will pass through that node.\n"
   ]
  },
  {
   "cell_type": "code",
   "execution_count": 0,
   "metadata": {
    "colab": {
     "autoexec": {
      "startup": false,
      "wait_interval": 0
     }
    },
    "colab_type": "code",
    "id": "2Tu-P1Ti37U8"
   },
   "outputs": [],
   "source": [
    "# calculates betweenness centrality from a given connectivity matrix\n",
    "\n",
    "def calculate_bc(net_mat):\n",
    "    net_mat = np.matrix(net_mat)\n",
    "    graph = nx.to_networkx_graph(net_mat)\n",
    "    bc = nx.betweenness_centrality(graph,normalized=False) # dictionary where key = node\n",
    "    bc = np.array([bc[i] for i in range(len(bc))])\n",
    "    return bc"
   ]
  },
  {
   "cell_type": "code",
   "execution_count": 0,
   "metadata": {
    "colab": {
     "autoexec": {
      "startup": false,
      "wait_interval": 0
     }
    },
    "colab_type": "code",
    "id": "-PJuQ0cGZOLK"
   },
   "outputs": [],
   "source": [
    "net_gong_bc = calculate_bc(net_gong_mat)\n",
    "net_gong_bc_mean = np.mean(net_gong_bc)\n",
    "print('BC of Gong network:', net_gong_bc_mean)\n",
    "\n",
    "net_rand_bc = calculate_bc(net_rand_mat)\n",
    "net_rand_bc_mean = np.mean(net_rand_bc)\n",
    "print('BC of random network:', net_rand_bc_mean)"
   ]
  },
  {
   "cell_type": "markdown",
   "metadata": {
    "colab_type": "text",
    "id": "TPic04g4DDAM"
   },
   "source": [
    "**EXPECTED OUTPUT**\n",
    "\n",
    "\n",
    "```\n",
    "BC of Gong network: 69.57692307692308\n",
    "BC of random network: 48.14102564102564\n",
    "```\n",
    "\n"
   ]
  },
  {
   "cell_type": "markdown",
   "metadata": {
    "colab_type": "text",
    "id": "T6mkpotIWkoj"
   },
   "source": [
    "**EXERCISE 6: Comparison with other networks (optional, possible for mini project)**\n",
    "\n",
    "Apparantly, the network characteristics of human brain network and random network are very different from each other. Repeat the comparison with macaque brain network data, and see if the macaque brain network exhibit similar properties compared with the human brain network.\n",
    "\n"
   ]
  },
  {
   "cell_type": "code",
   "execution_count": 0,
   "metadata": {
    "colab": {
     "autoexec": {
      "startup": false,
      "wait_interval": 0
     }
    },
    "colab_type": "code",
    "id": "Is-bRASUWkok"
   },
   "outputs": [],
   "source": []
  },
  {
   "cell_type": "markdown",
   "metadata": {
    "colab_type": "text",
    "id": "zWu8YWo-Cguk"
   },
   "source": [
    "**EXERCISE 7: Random networks (optional, possible for mini project)**\n",
    "\n",
    "\n",
    "We can use random network model of Erdős–Rényi to generate random networks. \n",
    "\n",
    "An Erdős–Rényi network is constructed by connecting nodes randomly with probability $p$. An  Erdős–Rényi network $G(N, p)$ will have on average the following number of links:\n",
    "\n",
    "$$l  = \\binom{N}{2}p = \\frac{N!}{2!(N-2)!}p .$$\n",
    "\n",
    "\n",
    "In 1960, Erdős–Rényi showed that if the probability $p$ is above the following threshold, the graph $G(N,p)$ will almost surely be connected:\n",
    "\n",
    "\n",
    "\\begin{align} \\text{if } p> \\frac{\\ln n}{n} &\\text{, the the graph $G(N,p)$ is almost surely connected.} \\\\\n",
    "\\text{if } p< \\frac{\\ln n}{n} &\\text{, the the graph $G(N,p)$ is almost surely disconnected.} \\end{align}\n",
    "\n",
    "• Construct a code generating random network $G$. One way of doing it is the following:\n",
    "\n",
    "\n",
    "i) Give as the input: $N$ and $p$.\n",
    "\n",
    "ii) Go through all the possible pairs of nodes of $G(N,p)$ with `for` loops.\n",
    "\n",
    "iii) Generate a random number for each pair.\n",
    "\n",
    "iv) Add the link of the specific pair to the connectivity list if the generated random number is lower than the value of $p$.\n",
    "\n",
    "\n",
    "• With the same number of nodes and links as the human brain network, make a random network. For a fair compairson, one must first estimate $p$ from the data. Make sure that the resulting network  is connected. An easy way to do this is to run the code repeatedly until the output graph is connected. \n",
    "\n",
    "• Is the calculated $p$ larger than $(\\ln n) / n $?\n"
   ]
  },
  {
   "cell_type": "code",
   "execution_count": 0,
   "metadata": {
    "colab": {
     "autoexec": {
      "startup": false,
      "wait_interval": 0
     }
    },
    "colab_type": "code",
    "id": "8N6w_zZ5CiK8"
   },
   "outputs": [],
   "source": []
  }
 ],
 "metadata": {
  "accelerator": "GPU",
  "colab": {
   "collapsed_sections": [],
   "default_view": {},
   "name": "1_Introduction_to_complex_network_analysis_1",
   "provenance": [
    {
     "file_id": "1ZdVBJrmzx57qAXNFmOUIFiovgZQdeVUt",
     "timestamp": 1531630423112
    },
    {
     "file_id": "1f0fDwkmvyFC_2ZPTL9vQgIm_UaUeTxAc",
     "timestamp": 1524738812951
    }
   ],
   "version": "0.3.2",
   "views": {}
  },
  "kernelspec": {
   "display_name": "Python 3",
   "language": "python",
   "name": "python3"
  },
  "language_info": {
   "codemirror_mode": {
    "name": "ipython",
    "version": 3
   },
   "file_extension": ".py",
   "mimetype": "text/x-python",
   "name": "python",
   "nbconvert_exporter": "python",
   "pygments_lexer": "ipython3",
   "version": "3.6.5"
  }
 },
 "nbformat": 4,
 "nbformat_minor": 1
}
