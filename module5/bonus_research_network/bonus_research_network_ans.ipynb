{
  "nbformat": 4,
  "nbformat_minor": 0,
  "metadata": {
    "colab": {
      "name": "bonus_research_network_ans",
      "version": "0.3.2",
      "views": {},
      "default_view": {},
      "provenance": [
        {
          "file_id": "1ZdVBJrmzx57qAXNFmOUIFiovgZQdeVUt",
          "timestamp": 1531579960745
        },
        {
          "file_id": "1f0fDwkmvyFC_2ZPTL9vQgIm_UaUeTxAc",
          "timestamp": 1524738812951
        }
      ],
      "collapsed_sections": []
    },
    "kernelspec": {
      "display_name": "Python 3",
      "language": "python",
      "name": "python3"
    },
    "accelerator": "GPU"
  },
  "cells": [
    {
      "metadata": {
        "id": "TpnOn58EgfaE",
        "colab_type": "text"
      },
      "cell_type": "markdown",
      "source": [
        "## CCNSS 2018 Module 5: Whole-Brain Dynamics and Cognition\n",
        "# Bonus Tutorial: Complex Network Analysis of Research Network\n"
      ]
    },
    {
      "metadata": {
        "id": "hi2UOXjigfaF",
        "colab_type": "text"
      },
      "cell_type": "markdown",
      "source": [
        "*Please execute the cell bellow in order to initialize the notebook environment*"
      ]
    },
    {
      "metadata": {
        "id": "8-NPhnZ7BEXd",
        "colab_type": "code",
        "colab": {
          "autoexec": {
            "startup": false,
            "wait_interval": 0
          }
        }
      },
      "cell_type": "code",
      "source": [
        "!if [ ! -d data ]; then git clone https://github.com/ccnss/ccnss2018_students; \\\n",
        "                        cp -rf ccnss2018_students/module5/bonus_research_network/data ./; \\\n",
        "                        cp ccnss2018_students/module5/net_tool.py ./; fi"
      ],
      "execution_count": 0,
      "outputs": []
    },
    {
      "metadata": {
        "id": "nJgJVfSugfaG",
        "colab_type": "code",
        "colab": {
          "autoexec": {
            "startup": false,
            "wait_interval": 0
          }
        }
      },
      "cell_type": "code",
      "source": [
        "import matplotlib.pyplot as plt    # import matplotlib\n",
        "import numpy as np                 # import numpy\n",
        "import random                      # import basic random number generator functions\n",
        "import csv                         # import CSV(Comma Separated Values) file reading and writing\n",
        "import scipy as sp                 # import scipy\n",
        "from scipy import signal           # import signal module from scipy\n",
        "from scipy import sparse           # import sparse module from scipy\n",
        "import os                          # import basic os functions\n",
        "import time                        # import time to measure real time\n",
        "import collections                 # import collections\n",
        "import networkx as nx              # import networkx \n",
        "\n",
        "import sys\n",
        "sys.path.append('../')\n",
        "import net_tool as net             # import net_tool, a network analysis toolbox from tutorial #1 \n",
        "\n",
        "data_folder = 'data'\n",
        "\n",
        "print('Available data files:', ' '.join(os.listdir(data_folder)))\n",
        "\n",
        "data_file_0 = os.path.join(data_folder, 'research_net_label.txt')\n",
        "data_file_1 = os.path.join(data_folder, 'research_net_sym_zsc.txt')\n",
        "data_file_2 = os.path.join(data_folder, 'research_net_p25.txt')\n",
        "data_file_2 = os.path.join(data_folder, 'research_net_p25.txt')\n",
        "data_file_2 = os.path.join(data_folder, 'research_net_p25.txt')"
      ],
      "execution_count": 0,
      "outputs": []
    },
    {
      "metadata": {
        "id": "UwXIfh1Y9j66",
        "colab_type": "text"
      },
      "cell_type": "markdown",
      "source": [
        "# Objectives\n",
        "\n",
        "In this notebook, we will construct a research network of cnnss2018 participants, using the tools of complex network theory of which we have acquired.\n",
        "\n"
      ]
    },
    {
      "metadata": {
        "id": "HU7L6JxVgfaK",
        "colab_type": "text"
      },
      "cell_type": "markdown",
      "source": [
        "\n",
        "## Background\n",
        "\n",
        "A network is set of elements with connections between them. We can have insights on many complex systems, by looking at their connection structure.\n",
        "\n",
        "When making a network from a given data, one has two things to consider:\n",
        "\n",
        "* What are the nodes?\n",
        "* How do we link the nodes?\n",
        "\n",
        "The questions seem simple, but sometimes delicate decision has to be made in the process. For example, when turning weights between links into binary (1 or 0) connections, one has to decide the threshold value.\n"
      ]
    },
    {
      "metadata": {
        "id": "8xasXdTWh8Tq",
        "colab_type": "text"
      },
      "cell_type": "markdown",
      "source": [
        "** EXERCISE 1: Turning weighted network in to binary network **\n",
        "\n",
        "We have analyzed  the research questionnaires filled by students and tutors and z-scored the values per each person. Then we averaged scores between two people. In essence, we turned directional connection into undirectional connection. \n",
        "\n",
        "The z-score matrix between participants are given.\n",
        "\n",
        "To make a binary network out of given z-score matrix, we need to set a threshold value. If a given link has a value above the threshold, the link will survive and has value of 1 in the connectivity matrix. If not, the value will be 0, which means that there is no link between them.\n",
        "\n",
        "• One must determine a right threshold value for the matrix. For example, you can choose a value such that highest 30% of the z-scored values between nodes will turn into connection. In such case, the *threshold* is 0.3 (or 30%).\n",
        "\n",
        "• In this exercise, construct a function that thresholds given connectivity matrix, turnning it into a binary matrix. \n",
        "\n",
        "• Call the constructed function, and make a binary connectivity matrix with threshold = 0.3 (30%).\n"
      ]
    },
    {
      "metadata": {
        "id": "1PRK5myqmTtv",
        "colab_type": "code",
        "colab": {
          "autoexec": {
            "startup": false,
            "wait_interval": 0
          }
        }
      },
      "cell_type": "code",
      "source": [
        "# importing the symmetrized z-score matrix\n",
        "\n",
        "net_school_sym_zsc = [ row for row in csv.reader(open(data_file_1,'r'),delimiter='\\t')]\n",
        "net_school_sym_zsc = np.array(net_school_sym_zsc).astype(float)"
      ],
      "execution_count": 0,
      "outputs": []
    },
    {
      "metadata": {
        "id": "eFmgyMUABjCL",
        "colab_type": "code",
        "colab": {
          "autoexec": {
            "startup": false,
            "wait_interval": 0
          }
        }
      },
      "cell_type": "code",
      "source": [
        "# making the label of the network\n",
        "\n",
        "#labels =[ row for row in csv.reader(open(data_file_0,'r')) ]\n",
        "\n",
        "labels={} ;\n",
        "labels[0]=r'$Xinke$' ; labels[1]=r'$Daming$' ; labels[2]=r'$Marco W$' ; labels[3]=r'$Guang-Yao$' ; labels[4]=r'$Sofia$' ; labels[5]=r'$Homero$';\n",
        "labels[6]=r'$Lin$' ; labels[7]=r'$James$' ; labels[8]=r'$Asma$' ; labels[9]=r'$Xiaohan$' ; labels[10]=r'$Dario$' ; labels[11]=r'$Maaike$';\n",
        "labels[12]=r'$Zhongqi$' ; labels[13]=r'$Beata$' ; labels[14]=r'$Vincent$' ; labels[15]=r'$Amna$' ; labels[16]=r'$Feng$' ; labels[17]=r'$Maryam$';\n",
        "labels[18]=r'$Matthias$' ; labels[19]=r'$Jiang$' ; labels[20]=r'$Giulio$' ; labels[21]=r'$Aurelio$' ; labels[22]=r'$Jorge$' ; labels[23]=r'$Mingyu$';\n",
        "labels[24]=r'$Alice$' ; labels[25]=r'$Yang$' ; labels[26]=r'$Mathew$' ; labels[27]=r'$Manel$' ; labels[28]=r'$Joon$' ; labels[29]=r'$Yue$';\n",
        "labels[30]=r'$Marco B$' ; labels[31]=r'$Karla$' ; labels[32]=r'$Luqun$' ; labels[33]=r'$Junru$' ; labels[34]=r'$Ainhoa$' ; labels[35]=r'$Zhewei$';\n",
        "labels[36]=r'$Alex$' ; labels[37]=r'$Ziqing$'\n",
        "\n",
        "mapping={0:'Xinke',1:'Daming',2:'Marco W',3:'Guang-Yao',4:'Sofia',5:'Homero',6:'Lin',7:'James',8:'Asma',9:'Xiaohan',10:'Dario',11:'Maaike',\n",
        "         12:'Zhongqi',13:'Beata',14:'Vincent',15:'Amna',16:'Feng',17:'Maryam',18:'Matthias',19:'Jiang',20:'Giulio',21:'Aurelio',22:'Jorge',\n",
        "         23:'Mingyu',24:'Alice',25:'Yang',26:'Mathew',27:'Manel',28:'Joon',29:'Yue',30:'Marco B',31:'Karla',32:'Luqun',33:'Junru',34:'Ainhoa',35:'Zhewei',\n",
        "         36:'Alex',37:'Ziqing' }\n"
      ],
      "execution_count": 0,
      "outputs": []
    },
    {
      "metadata": {
        "id": "fv9WEZW1WkoN",
        "colab_type": "code",
        "colab": {
          "autoexec": {
            "startup": false,
            "wait_interval": 0
          }
        }
      },
      "cell_type": "code",
      "source": [
        "# code for generating binary connectivity matrix, from a weighted connectivity matrix\n",
        "\n",
        "def cal_mat_thresholded(data_mat, threshold):\n",
        "\n",
        "    prob = 1 - threshold\n",
        "    data_mat_nz = data_mat*(data_mat>0)\n",
        "    data_value_sorted = np.sort(data_mat_nz,axis=None)\n",
        "    #print(data_value_sorted)\n",
        "    data_value_threshold = data_value_sorted[int(np.round(len(data_value_sorted)*prob))]\n",
        "    #print(data_value_threshold)\n",
        "    data_mat_thresholded = data_mat*(data_mat>=data_value_threshold)\n",
        "    \n",
        "    data_mat_binary = np.ceil(data_mat_thresholded/(np.max(data_mat_thresholded))).astype(int)\n",
        "    return data_mat_binary"
      ],
      "execution_count": 0,
      "outputs": []
    },
    {
      "metadata": {
        "id": "vTvar5vq-DAG",
        "colab_type": "code",
        "colab": {
          "autoexec": {
            "startup": false,
            "wait_interval": 0
          }
        }
      },
      "cell_type": "code",
      "source": [
        "# call above function and generate the binary connectivity matrix\n",
        "\n",
        "threshold = 0.3\n",
        "net_school_mat = cal_mat_thresholded(net_school_sym_zsc,threshold)\n",
        "#print(np.sum(net_school_mat))\n",
        "\n",
        "net_school_mat_N = len(net_school_mat)\n",
        "net_school_mat_l = np.sum(net_school_mat)/2\n",
        "\n",
        "print('# of nodes in research network N:', net_school_mat_N)\n",
        "print('# of links in research network l:', net_school_mat_l)"
      ],
      "execution_count": 0,
      "outputs": []
    },
    {
      "metadata": {
        "id": "DZZqT2DsgfaQ",
        "colab_type": "text"
      },
      "cell_type": "markdown",
      "source": [
        "**EXPECTED OUTPUT**\n",
        "```\n",
        "# of nodes in research network N: 38\n",
        "# of links in research network l: 217.0\n",
        "```"
      ]
    },
    {
      "metadata": {
        "id": "2BtdyHFzKMh5",
        "colab_type": "text"
      },
      "cell_type": "markdown",
      "source": [
        "** EXERCISE 2: Applying network measures**\n",
        "\n",
        "Now, we can apply various network measures that we learned in previous tutorial to our network.\n",
        "\n",
        "• using, `net_degree_plot`, plot the degree distribution.\n",
        "\n",
        "• Apply network measures to this network, such as $C$ and $b$.\n",
        "\n",
        "• You can draw the network, using `nx.from_numpy_matrix` and `nx.draw`. "
      ]
    },
    {
      "metadata": {
        "id": "j1mUO4WHFh9B",
        "colab_type": "code",
        "colab": {
          "autoexec": {
            "startup": false,
            "wait_interval": 0
          }
        }
      },
      "cell_type": "code",
      "source": [
        "net.net_degree_plot(net_school_mat,'school network')"
      ],
      "execution_count": 0,
      "outputs": []
    },
    {
      "metadata": {
        "id": "l_kNsQVTgUmr",
        "colab_type": "code",
        "colab": {
          "autoexec": {
            "startup": false,
            "wait_interval": 0
          }
        }
      },
      "cell_type": "code",
      "source": [
        "net_school_ci = np.zeros([net_school_mat_N])\n",
        "for i in range(net_school_mat_N):\n",
        "    net_school_ci[i] = net.clustering_coef(net_school_mat,i)\n",
        "net_school_c_mean = np.mean(net_school_ci)\n",
        "print('C of research network:',net_school_c_mean)\n",
        "\n",
        "net_school_b = net.betweenness_central(net_school_mat,normalized=False)\n",
        "net_school_b_mean = np.mean(net_school_b)\n",
        "print('b of research network:',net_school_b_mean)"
      ],
      "execution_count": 0,
      "outputs": []
    },
    {
      "metadata": {
        "id": "uy0r4zPrIS8A",
        "colab_type": "code",
        "colab": {
          "autoexec": {
            "startup": false,
            "wait_interval": 0
          }
        }
      },
      "cell_type": "code",
      "source": [
        "net_school_mat_d = net.net_mat_distance(net_school_mat)\n",
        "L, E = net.net_L_E(net_school_mat_d)\n",
        "\n",
        "print('L:', L,'\\t', 'E:', E)"
      ],
      "execution_count": 0,
      "outputs": []
    },
    {
      "metadata": {
        "id": "SpamDNHA-62k",
        "colab_type": "code",
        "colab": {
          "autoexec": {
            "startup": false,
            "wait_interval": 0
          }
        }
      },
      "cell_type": "code",
      "source": [
        "\n",
        "\n",
        "Graph_net_school = nx.from_numpy_matrix(net_school_mat)\n",
        "H=nx.relabel_nodes(Graph_net_school,mapping)\n",
        "pos = nx.spring_layout(H)\n",
        "\n",
        "\n",
        "plt.figure(3,figsize=(15,10)) \n",
        "nx.draw(H,pos,with_labels=True,node_size=2000,node_color='white',font_size=18,font_color=\"black\",font_weight='bold',node_shape='o',alpha=0.95)\n",
        "plt.show()\n",
        "plt.savefig('school_net.png')"
      ],
      "execution_count": 0,
      "outputs": []
    },
    {
      "metadata": {
        "id": "AKwwmpd-Qay-",
        "colab_type": "text"
      },
      "cell_type": "markdown",
      "source": [
        "**EXPECTED OUTPUT**\n",
        "\n",
        "```\n",
        "C of research network: 0.39031564139515906\n",
        "b of research network: 13.552631578947368\n",
        "```"
      ]
    },
    {
      "metadata": {
        "id": "AAWWR9e-5U7o",
        "colab_type": "text"
      },
      "cell_type": "markdown",
      "source": [
        "** EXERCISE 3: Changing the threshold**\n",
        "\n",
        "Now, we can change the threshold value and observe the changes in the network.\n",
        "\n",
        "• For example, one can change the threshold to 0.25 or 0.35, then apply network measures to this network, such as $C$ and $b$.\n",
        "\n",
        "• You can draw the networks with different thresholds, and observe how they differ."
      ]
    },
    {
      "metadata": {
        "id": "K_a6zEKU5z0t",
        "colab_type": "code",
        "colab": {
          "autoexec": {
            "startup": false,
            "wait_interval": 0
          }
        }
      },
      "cell_type": "code",
      "source": [
        ""
      ],
      "execution_count": 0,
      "outputs": []
    }
  ]
}